{
 "cells": [
  {
   "cell_type": "code",
   "execution_count": null,
   "metadata": {
    "application/vnd.databricks.v1+cell": {
     "cellMetadata": {
      "byteLimit": 2048000,
      "rowLimit": 10000
     },
     "inputWidgets": {},
     "nuid": "0b7c25ae-ed0e-4440-83b5-b9dbbfb0eb81",
     "showTitle": false,
     "title": ""
    }
   },
   "outputs": [
    {
     "name": "stdout",
     "output_type": "stream",
     "text": [
      "Collecting snowflake-connector-python\r\n",
      "  Using cached snowflake_connector_python-3.10.1-cp310-cp310-manylinux_2_17_x86_64.manylinux2014_x86_64.whl (2.5 MB)\r\n",
      "Requirement already satisfied: pandas in /databricks/python3/lib/python3.10/site-packages (1.4.4)\r\n",
      "Collecting asn1crypto<2.0.0,>0.24.0\r\n",
      "  Using cached asn1crypto-1.5.1-py2.py3-none-any.whl (105 kB)\r\n",
      "Collecting pyOpenSSL<25.0.0,>=16.2.0\r\n",
      "  Using cached pyOpenSSL-24.1.0-py3-none-any.whl (56 kB)\r\n",
      "Requirement already satisfied: charset-normalizer<4,>=2 in /databricks/python3/lib/python3.10/site-packages (from snowflake-connector-python) (2.0.4)\r\n",
      "Requirement already satisfied: idna<4,>=2.5 in /databricks/python3/lib/python3.10/site-packages (from snowflake-connector-python) (3.3)\r\n",
      "Requirement already satisfied: certifi>=2017.4.17 in /databricks/python3/lib/python3.10/site-packages (from snowflake-connector-python) (2022.9.14)\r\n",
      "Collecting sortedcontainers>=2.4.0\r\n",
      "  Using cached sortedcontainers-2.4.0-py2.py3-none-any.whl (29 kB)\r\n",
      "Collecting tomlkit\r\n",
      "  Using cached tomlkit-0.12.5-py3-none-any.whl (37 kB)\r\n",
      "Requirement already satisfied: pyjwt<3.0.0 in /usr/lib/python3/dist-packages (from snowflake-connector-python) (2.3.0)\r\n",
      "Requirement already satisfied: cryptography<43.0.0,>=3.1.0 in /databricks/python3/lib/python3.10/site-packages (from snowflake-connector-python) (37.0.1)\r\n",
      "Requirement already satisfied: typing-extensions<5,>=4.3 in /databricks/python3/lib/python3.10/site-packages (from snowflake-connector-python) (4.3.0)\r\n",
      "Requirement already satisfied: filelock<4,>=3.5 in /usr/local/lib/python3.10/dist-packages (from snowflake-connector-python) (3.12.2)\r\n",
      "Collecting platformdirs<5.0.0,>=2.6.0\r\n",
      "  Using cached platformdirs-4.2.2-py3-none-any.whl (18 kB)\r\n",
      "Requirement already satisfied: packaging in /databricks/python3/lib/python3.10/site-packages (from snowflake-connector-python) (21.3)\r\n",
      "Requirement already satisfied: cffi<2.0.0,>=1.9 in /databricks/python3/lib/python3.10/site-packages (from snowflake-connector-python) (1.15.1)\r\n",
      "Requirement already satisfied: requests<3.0.0 in /databricks/python3/lib/python3.10/site-packages (from snowflake-connector-python) (2.28.1)\r\n",
      "Requirement already satisfied: pytz in /databricks/python3/lib/python3.10/site-packages (from snowflake-connector-python) (2022.1)\r\n",
      "Requirement already satisfied: python-dateutil>=2.8.1 in /databricks/python3/lib/python3.10/site-packages (from pandas) (2.8.2)\r\n",
      "Requirement already satisfied: numpy>=1.21.0 in /databricks/python3/lib/python3.10/site-packages (from pandas) (1.21.5)\r\n",
      "Requirement already satisfied: pycparser in /databricks/python3/lib/python3.10/site-packages (from cffi<2.0.0,>=1.9->snowflake-connector-python) (2.21)\r\n",
      "Collecting cryptography<43.0.0,>=3.1.0\r\n",
      "  Using cached cryptography-42.0.7-cp39-abi3-manylinux_2_28_x86_64.whl (3.8 MB)\r\n",
      "Requirement already satisfied: six>=1.5 in /usr/lib/python3/dist-packages (from python-dateutil>=2.8.1->pandas) (1.16.0)\r\n",
      "Requirement already satisfied: urllib3<1.27,>=1.21.1 in /databricks/python3/lib/python3.10/site-packages (from requests<3.0.0->snowflake-connector-python) (1.26.11)\r\n",
      "Requirement already satisfied: pyparsing!=3.0.5,>=2.0.2 in /databricks/python3/lib/python3.10/site-packages (from packaging->snowflake-connector-python) (3.0.9)\r\n",
      "Installing collected packages: sortedcontainers, asn1crypto, tomlkit, platformdirs, cryptography, pyOpenSSL, snowflake-connector-python\r\n",
      "  Attempting uninstall: platformdirs\r\n",
      "    Found existing installation: platformdirs 2.5.2\r\n",
      "    Not uninstalling platformdirs at /databricks/python3/lib/python3.10/site-packages, outside environment /local_disk0/.ephemeral_nfs/envs/pythonEnv-321694e8-25b2-47ae-b989-ab9d99d8d2b5\r\n",
      "    Can't uninstall 'platformdirs'. No files were found to uninstall.\r\n",
      "  Attempting uninstall: cryptography\r\n",
      "    Found existing installation: cryptography 37.0.1\r\n",
      "    Not uninstalling cryptography at /databricks/python3/lib/python3.10/site-packages, outside environment /local_disk0/.ephemeral_nfs/envs/pythonEnv-321694e8-25b2-47ae-b989-ab9d99d8d2b5\r\n",
      "    Can't uninstall 'cryptography'. No files were found to uninstall.\r\n",
      "\u001b[31mERROR: pip's dependency resolver does not currently take into account all the packages that are installed. This behaviour is the source of the following dependency conflicts.\r\n",
      "virtualenv 20.16.3 requires platformdirs<3,>=2.4, but you have platformdirs 4.2.2 which is incompatible.\u001b[0m\u001b[31m\r\n",
      "\u001b[0mSuccessfully installed asn1crypto-1.5.1 cryptography-42.0.7 platformdirs-4.2.2 pyOpenSSL-24.1.0 snowflake-connector-python-3.10.1 sortedcontainers-2.4.0 tomlkit-0.12.5\r\n",
      "\r\n",
      "\u001b[1m[\u001b[0m\u001b[34;49mnotice\u001b[0m\u001b[1;39;49m]\u001b[0m\u001b[39;49m A new release of pip available: \u001b[0m\u001b[31;49m22.2.2\u001b[0m\u001b[39;49m -> \u001b[0m\u001b[32;49m24.0\u001b[0m\r\n",
      "\u001b[1m[\u001b[0m\u001b[34;49mnotice\u001b[0m\u001b[1;39;49m]\u001b[0m\u001b[39;49m To update, run: \u001b[0m\u001b[32;49mpip install --upgrade pip\u001b[0m\r\n",
      "Requirement already satisfied: snowflake-connector-python in /local_disk0/.ephemeral_nfs/envs/pythonEnv-321694e8-25b2-47ae-b989-ab9d99d8d2b5/lib/python3.10/site-packages (3.10.1)\r\n",
      "Requirement already satisfied: certifi>=2017.4.17 in /databricks/python3/lib/python3.10/site-packages (from snowflake-connector-python) (2022.9.14)\r\n",
      "Requirement already satisfied: packaging in /databricks/python3/lib/python3.10/site-packages (from snowflake-connector-python) (21.3)\r\n",
      "Requirement already satisfied: tomlkit in /local_disk0/.ephemeral_nfs/envs/pythonEnv-321694e8-25b2-47ae-b989-ab9d99d8d2b5/lib/python3.10/site-packages (from snowflake-connector-python) (0.12.5)\r\n",
      "Requirement already satisfied: pytz in /databricks/python3/lib/python3.10/site-packages (from snowflake-connector-python) (2022.1)\r\n",
      "Requirement already satisfied: charset-normalizer<4,>=2 in /databricks/python3/lib/python3.10/site-packages (from snowflake-connector-python) (2.0.4)\r\n",
      "Requirement already satisfied: idna<4,>=2.5 in /databricks/python3/lib/python3.10/site-packages (from snowflake-connector-python) (3.3)\r\n",
      "Requirement already satisfied: platformdirs<5.0.0,>=2.6.0 in /local_disk0/.ephemeral_nfs/envs/pythonEnv-321694e8-25b2-47ae-b989-ab9d99d8d2b5/lib/python3.10/site-packages (from snowflake-connector-python) (4.2.2)\r\n",
      "Requirement already satisfied: cryptography<43.0.0,>=3.1.0 in /local_disk0/.ephemeral_nfs/envs/pythonEnv-321694e8-25b2-47ae-b989-ab9d99d8d2b5/lib/python3.10/site-packages (from snowflake-connector-python) (42.0.7)\r\n",
      "Requirement already satisfied: cffi<2.0.0,>=1.9 in /databricks/python3/lib/python3.10/site-packages (from snowflake-connector-python) (1.15.1)\r\n",
      "Requirement already satisfied: pyjwt<3.0.0 in /usr/lib/python3/dist-packages (from snowflake-connector-python) (2.3.0)\r\n",
      "Requirement already satisfied: requests<3.0.0 in /databricks/python3/lib/python3.10/site-packages (from snowflake-connector-python) (2.28.1)\r\n",
      "Requirement already satisfied: typing-extensions<5,>=4.3 in /databricks/python3/lib/python3.10/site-packages (from snowflake-connector-python) (4.3.0)\r\n",
      "Requirement already satisfied: asn1crypto<2.0.0,>0.24.0 in /local_disk0/.ephemeral_nfs/envs/pythonEnv-321694e8-25b2-47ae-b989-ab9d99d8d2b5/lib/python3.10/site-packages (from snowflake-connector-python) (1.5.1)\r\n",
      "Requirement already satisfied: pyOpenSSL<25.0.0,>=16.2.0 in /local_disk0/.ephemeral_nfs/envs/pythonEnv-321694e8-25b2-47ae-b989-ab9d99d8d2b5/lib/python3.10/site-packages (from snowflake-connector-python) (24.1.0)\r\n",
      "Requirement already satisfied: filelock<4,>=3.5 in /usr/local/lib/python3.10/dist-packages (from snowflake-connector-python) (3.12.2)\r\n",
      "Requirement already satisfied: sortedcontainers>=2.4.0 in /local_disk0/.ephemeral_nfs/envs/pythonEnv-321694e8-25b2-47ae-b989-ab9d99d8d2b5/lib/python3.10/site-packages (from snowflake-connector-python) (2.4.0)\r\n",
      "Requirement already satisfied: pycparser in /databricks/python3/lib/python3.10/site-packages (from cffi<2.0.0,>=1.9->snowflake-connector-python) (2.21)\r\n",
      "Requirement already satisfied: urllib3<1.27,>=1.21.1 in /databricks/python3/lib/python3.10/site-packages (from requests<3.0.0->snowflake-connector-python) (1.26.11)\r\n",
      "Requirement already satisfied: pyparsing!=3.0.5,>=2.0.2 in /databricks/python3/lib/python3.10/site-packages (from packaging->snowflake-connector-python) (3.0.9)\r\n",
      "\r\n",
      "\u001b[1m[\u001b[0m\u001b[34;49mnotice\u001b[0m\u001b[1;39;49m]\u001b[0m\u001b[39;49m A new release of pip available: \u001b[0m\u001b[31;49m22.2.2\u001b[0m\u001b[39;49m -> \u001b[0m\u001b[32;49m24.0\u001b[0m\r\n",
      "\u001b[1m[\u001b[0m\u001b[34;49mnotice\u001b[0m\u001b[1;39;49m]\u001b[0m\u001b[39;49m To update, run: \u001b[0m\u001b[32;49mpip install --upgrade pip\u001b[0m\r\n"
     ]
    }
   ],
   "source": [
    "!pip install snowflake-connector-python pandas\n",
    "!pip install --upgrade snowflake-connector-python"
   ]
  },
  {
   "cell_type": "code",
   "execution_count": null,
   "metadata": {
    "application/vnd.databricks.v1+cell": {
     "cellMetadata": {
      "byteLimit": 2048000,
      "rowLimit": 10000
     },
     "inputWidgets": {},
     "nuid": "a9eadac8-7cd7-4fd2-abcc-b01a412acb6c",
     "showTitle": false,
     "title": ""
    }
   },
   "outputs": [],
   "source": [
    "from snowflake.connector.pandas_tools import write_pandas\n",
    "import snowflake.connector\n",
    "import pandas as pd\n",
    "import numpy as np\n",
    "\n",
    "from sklearn.metrics import classification_report, confusion_matrix, accuracy_score\n",
    "from sklearn.preprocessing import LabelEncoder, OneHotEncoder\n",
    "from sklearn.model_selection import train_test_split\n",
    "from sklearn.linear_model import LogisticRegression\n",
    "from sklearn.preprocessing import StandardScaler\n",
    "from sklearn.utils import resample"
   ]
  },
  {
   "cell_type": "code",
   "execution_count": null,
   "metadata": {
    "application/vnd.databricks.v1+cell": {
     "cellMetadata": {
      "byteLimit": 2048000,
      "rowLimit": 10000
     },
     "inputWidgets": {},
     "nuid": "3f3df3c0-beff-451c-9167-60e6ad8979ee",
     "showTitle": false,
     "title": ""
    }
   },
   "outputs": [],
   "source": [
    "snowflake_options = {\n",
    "    \"account\": \"XXXXXXXXXXXXXXXX\",\n",
    "    \"user\": \"XXXXXXXXXXXXXXXX\",\n",
    "    \"password\": \"XXXXXXXXXXXXXXXX\",\n",
    "    \"database\": \"XXXXXXXXXXXXXXXX\",\n",
    "    \"schema\": \"XXXXXXXXXXXXXXXX\",\n",
    "    \"warehouse\": \"XXXXXXXXXXXXXXXX\",\n",
    "}"
   ]
  },
  {
   "cell_type": "code",
   "execution_count": null,
   "metadata": {
    "application/vnd.databricks.v1+cell": {
     "cellMetadata": {
      "byteLimit": 2048000,
      "rowLimit": 10000
     },
     "inputWidgets": {},
     "nuid": "b15a92af-0b06-425f-a45d-bfa8b1ba3dd2",
     "showTitle": false,
     "title": ""
    }
   },
   "outputs": [],
   "source": [
    "ctx = snowflake.connector.connect(\n",
    "    user=snowflake_options['user'],\n",
    "    password=snowflake_options['password'],\n",
    "    account=snowflake_options['account'],\n",
    "    warehouse=snowflake_options['warehouse'],\n",
    "    database=snowflake_options['database'],\n",
    "    schema=snowflake_options['schema']\n",
    ")\n",
    "\n",
    "opportunity_query = \"select * from salesforce_db.pre_data.opportunity\"\n",
    "task_query = \"select * from salesforce_db.pre_data.task\""
   ]
  },
  {
   "cell_type": "code",
   "execution_count": null,
   "metadata": {
    "application/vnd.databricks.v1+cell": {
     "cellMetadata": {
      "byteLimit": 2048000,
      "rowLimit": 10000
     },
     "inputWidgets": {},
     "nuid": "0cc7ef28-cb52-423f-9338-9bbb4f9c3d4c",
     "showTitle": false,
     "title": ""
    }
   },
   "outputs": [],
   "source": [
    "def get_table(ctx, query):\n",
    "    cs = ctx.cursor()\n",
    "    try:\n",
    "        cs.execute(query)\n",
    "        df = cs.fetch_pandas_all()\n",
    "    finally:\n",
    "        cs.close()\n",
    "    return df"
   ]
  },
  {
   "cell_type": "code",
   "execution_count": null,
   "metadata": {
    "application/vnd.databricks.v1+cell": {
     "cellMetadata": {
      "byteLimit": 2048000,
      "rowLimit": 10000
     },
     "inputWidgets": {},
     "nuid": "7051564d-d30b-4c87-8fd7-e4ac815f91bf",
     "showTitle": false,
     "title": ""
    }
   },
   "outputs": [],
   "source": [
    "opportunity = get_table(ctx, opportunity_query)\n",
    "task = get_table(ctx, task_query)"
   ]
  },
  {
   "cell_type": "code",
   "execution_count": null,
   "metadata": {
    "application/vnd.databricks.v1+cell": {
     "cellMetadata": {
      "byteLimit": 2048000,
      "rowLimit": 10000
     },
     "inputWidgets": {},
     "nuid": "106f4672-d9a3-40fd-8425-b3293da5f189",
     "showTitle": false,
     "title": ""
    }
   },
   "outputs": [],
   "source": [
    "ctx.close()"
   ]
  },
  {
   "cell_type": "code",
   "execution_count": null,
   "metadata": {
    "application/vnd.databricks.v1+cell": {
     "cellMetadata": {
      "byteLimit": 2048000,
      "rowLimit": 10000
     },
     "inputWidgets": {},
     "nuid": "d1ccf2e1-7266-4e9a-9f9e-2d6ac899c1ab",
     "showTitle": false,
     "title": ""
    }
   },
   "outputs": [],
   "source": [
    "calltype = task.groupby(['WHATID', 'CALLTYPE'])[['ID']].count().reset_index()\n",
    "calltype = calltype.pivot(index='WHATID', columns='CALLTYPE', values='ID').reset_index()\n",
    "calltype.columns.name = None\n",
    "calltype.columns = [col.upper() for col in calltype.columns]\n",
    "calltype.INBOUND = calltype.INBOUND.fillna(0.0)\n",
    "calltype.INTERNAL = calltype.INTERNAL.fillna(0.0)\n",
    "calltype.OUTBOUND = calltype.OUTBOUND.fillna(0.0)"
   ]
  },
  {
   "cell_type": "code",
   "execution_count": null,
   "metadata": {
    "application/vnd.databricks.v1+cell": {
     "cellMetadata": {
      "byteLimit": 2048000,
      "rowLimit": 10000
     },
     "inputWidgets": {},
     "nuid": "b8740331-46b7-4809-bad9-49c3359bd1ab",
     "showTitle": false,
     "title": ""
    }
   },
   "outputs": [],
   "source": [
    "calldurationinseconds = task.groupby(['WHATID', 'TASKSUBTYPE'])[['CALLDURATIONINSECONDS']].sum().reset_index()\n",
    "calldurationinseconds.columns = ['WHATID', 'TASKSUBTYPE', 'TOTAL_CALLDURATIONINSECONDS']\n",
    "calldurationinseconds = calldurationinseconds[calldurationinseconds['TASKSUBTYPE'] == 'Call'][['WHATID', 'TOTAL_CALLDURATIONINSECONDS']]\n",
    "calldurationinseconds.TOTAL_CALLDURATIONINSECONDS = calldurationinseconds.TOTAL_CALLDURATIONINSECONDS.fillna(0.0)"
   ]
  },
  {
   "cell_type": "code",
   "execution_count": null,
   "metadata": {
    "application/vnd.databricks.v1+cell": {
     "cellMetadata": {
      "byteLimit": 2048000,
      "rowLimit": 10000
     },
     "inputWidgets": {},
     "nuid": "2a6824f0-1e0f-4181-afff-27ed53d70e91",
     "showTitle": false,
     "title": ""
    }
   },
   "outputs": [],
   "source": [
    "priority_task = task.groupby(['WHATID', 'ISHIGHPRIORITY'])['STATUS'].count().reset_index()\n",
    "priority_task.ISHIGHPRIORITY = priority_task.ISHIGHPRIORITY.replace({False: 'OTHER_PRIORITY', True: 'HIGH_PRIORITY'})\n",
    "priority_task = priority_task.pivot(index='WHATID', columns='ISHIGHPRIORITY', values='STATUS').reset_index()\n",
    "priority_task.columns.name = None\n",
    "priority_task.HIGH_PRIORITY = priority_task.HIGH_PRIORITY.fillna(0.0)\n",
    "priority_task.OTHER_PRIORITY = priority_task.OTHER_PRIORITY.fillna(0.0)"
   ]
  },
  {
   "cell_type": "code",
   "execution_count": null,
   "metadata": {
    "application/vnd.databricks.v1+cell": {
     "cellMetadata": {
      "byteLimit": 2048000,
      "rowLimit": 10000
     },
     "inputWidgets": {},
     "nuid": "2b65782d-b994-443b-a564-222cf0d0b1dc",
     "showTitle": false,
     "title": ""
    }
   },
   "outputs": [],
   "source": [
    "priority = task.groupby(['WHATID', 'PRIORITY'])['STATUS'].count().reset_index()\n",
    "priority = priority.pivot(index='WHATID', columns='PRIORITY', values='STATUS').reset_index()\n",
    "priority.columns.name = None\n",
    "priority.High = priority.High.fillna(0.0)\n",
    "priority.Normal = priority.Normal.fillna(0.0)\n",
    "priority.Low = priority.Low.fillna(0.0)\n",
    "priority.columns = [col.upper() for col in priority.columns]"
   ]
  },
  {
   "cell_type": "code",
   "execution_count": null,
   "metadata": {
    "application/vnd.databricks.v1+cell": {
     "cellMetadata": {
      "byteLimit": 2048000,
      "rowLimit": 10000
     },
     "inputWidgets": {},
     "nuid": "8e1d48f2-2891-4ddb-9cb7-61deaa7f3b8d",
     "showTitle": false,
     "title": ""
    }
   },
   "outputs": [],
   "source": [
    "tasksubtype = task.groupby(['WHATID', 'TASKSUBTYPE'])['STATUS'].count().reset_index()\n",
    "tasksubtype = tasksubtype.pivot(index='WHATID', columns='TASKSUBTYPE', values='STATUS').reset_index()\n",
    "tasksubtype.columns.name = None\n",
    "tasksubtype.columns = [col.upper() for col in tasksubtype.columns]\n",
    "tasksubtype.CALL = tasksubtype.CALL.fillna(0.0)\n",
    "tasksubtype.EMAIL = tasksubtype.EMAIL.fillna(0.0)\n",
    "tasksubtype.TASK = tasksubtype.TASK.fillna(0.0)"
   ]
  },
  {
   "cell_type": "code",
   "execution_count": null,
   "metadata": {
    "application/vnd.databricks.v1+cell": {
     "cellMetadata": {
      "byteLimit": 2048000,
      "rowLimit": 10000
     },
     "inputWidgets": {},
     "nuid": "f7c91830-5eef-45d8-9466-fdad355a42a9",
     "showTitle": false,
     "title": ""
    }
   },
   "outputs": [],
   "source": [
    "features = calltype.merge(calldurationinseconds, on='WHATID', how='left')\n",
    "features = features.merge(priority, on='WHATID', how='outer')\n",
    "features = features.merge(tasksubtype, on='WHATID', how='outer')\n",
    "features.TOTAL_CALLDURATIONINSECONDS = features.TOTAL_CALLDURATIONINSECONDS.fillna(0.0)\n",
    "features.columns = ['WHATID', 'NUM_INBOUND', 'NUM_INTERNAL', 'NUM_OUTBOUND', 'TOTAL_CALLDURATIONINSECONDS', 'NUM_PRIORITY_HIGH',\n",
    "                    'NUM_PRIORITY_LOW', 'NUM_PRIORITY_NORMAL', 'NUM_CALL', 'NUM_EMAIL', 'NUM_TASK']"
   ]
  },
  {
   "cell_type": "code",
   "execution_count": null,
   "metadata": {
    "application/vnd.databricks.v1+cell": {
     "cellMetadata": {
      "byteLimit": 2048000,
      "rowLimit": 10000
     },
     "inputWidgets": {},
     "nuid": "e60339c0-5918-49e8-a201-158afd48e1b4",
     "showTitle": false,
     "title": ""
    }
   },
   "outputs": [],
   "source": [
    "dataset = features.merge(opportunity[['ID', 'STAGENAME']], left_on='WHATID', right_on='ID', how='left')\n",
    "dataset.drop(columns=['ID'], inplace=True)"
   ]
  },
  {
   "cell_type": "code",
   "execution_count": null,
   "metadata": {
    "application/vnd.databricks.v1+cell": {
     "cellMetadata": {
      "byteLimit": 2048000,
      "rowLimit": 10000
     },
     "inputWidgets": {},
     "nuid": "9a053370-881a-41a8-923f-6a658b6a30c4",
     "showTitle": false,
     "title": ""
    }
   },
   "outputs": [],
   "source": [
    "def encode_categorical_columns(data, categorical_columns):\n",
    "    label_encoders = {}\n",
    "    \n",
    "    for column in categorical_columns:\n",
    "        le = LabelEncoder()\n",
    "        data[column] = le.fit_transform(data[column])\n",
    "        label_encoders[column] = le\n",
    "    \n",
    "    return data, label_encoders"
   ]
  },
  {
   "cell_type": "code",
   "execution_count": null,
   "metadata": {
    "application/vnd.databricks.v1+cell": {
     "cellMetadata": {
      "byteLimit": 2048000,
      "rowLimit": 10000
     },
     "inputWidgets": {},
     "nuid": "c6c0fd09-efbe-4966-815f-c2d4d2b88e5b",
     "showTitle": false,
     "title": ""
    }
   },
   "outputs": [],
   "source": [
    "dataset, label_encoders = encode_categorical_columns(dataset, categorical_columns=['STAGENAME'])\n",
    "ftrs = dataset.drop(columns=['WHATID', 'STAGENAME'])\n",
    "trgt = dataset['STAGENAME']\n",
    "ids = dataset['WHATID']"
   ]
  },
  {
   "cell_type": "code",
   "execution_count": null,
   "metadata": {
    "application/vnd.databricks.v1+cell": {
     "cellMetadata": {
      "byteLimit": 2048000,
      "rowLimit": 10000
     },
     "inputWidgets": {},
     "nuid": "6e4543f3-2499-4201-b216-cf67b9d5e1db",
     "showTitle": false,
     "title": ""
    }
   },
   "outputs": [],
   "source": [
    "scaler = StandardScaler()\n",
    "ftrs[ftrs.columns] = scaler.fit_transform(ftrs[ftrs.columns])\n",
    "X_train, X_test, y_train, y_test, ids_train, ids_test = train_test_split(ftrs, trgt, ids, test_size=0.3, random_state=42)"
   ]
  },
  {
   "cell_type": "code",
   "execution_count": null,
   "metadata": {
    "application/vnd.databricks.v1+cell": {
     "cellMetadata": {
      "byteLimit": 2048000,
      "rowLimit": 10000
     },
     "inputWidgets": {},
     "nuid": "71fc6eca-9ee4-4abb-9767-71c6e7ffff31",
     "showTitle": false,
     "title": ""
    }
   },
   "outputs": [
    {
     "data": {
      "text/html": [
       "<style>#sk-container-id-1 {color: black;background-color: white;}#sk-container-id-1 pre{padding: 0;}#sk-container-id-1 div.sk-toggleable {background-color: white;}#sk-container-id-1 label.sk-toggleable__label {cursor: pointer;display: block;width: 100%;margin-bottom: 0;padding: 0.3em;box-sizing: border-box;text-align: center;}#sk-container-id-1 label.sk-toggleable__label-arrow:before {content: \"▸\";float: left;margin-right: 0.25em;color: #696969;}#sk-container-id-1 label.sk-toggleable__label-arrow:hover:before {color: black;}#sk-container-id-1 div.sk-estimator:hover label.sk-toggleable__label-arrow:before {color: black;}#sk-container-id-1 div.sk-toggleable__content {max-height: 0;max-width: 0;overflow: hidden;text-align: left;background-color: #f0f8ff;}#sk-container-id-1 div.sk-toggleable__content pre {margin: 0.2em;color: black;border-radius: 0.25em;background-color: #f0f8ff;}#sk-container-id-1 input.sk-toggleable__control:checked~div.sk-toggleable__content {max-height: 200px;max-width: 100%;overflow: auto;}#sk-container-id-1 input.sk-toggleable__control:checked~label.sk-toggleable__label-arrow:before {content: \"▾\";}#sk-container-id-1 div.sk-estimator input.sk-toggleable__control:checked~label.sk-toggleable__label {background-color: #d4ebff;}#sk-container-id-1 div.sk-label input.sk-toggleable__control:checked~label.sk-toggleable__label {background-color: #d4ebff;}#sk-container-id-1 input.sk-hidden--visually {border: 0;clip: rect(1px 1px 1px 1px);clip: rect(1px, 1px, 1px, 1px);height: 1px;margin: -1px;overflow: hidden;padding: 0;position: absolute;width: 1px;}#sk-container-id-1 div.sk-estimator {font-family: monospace;background-color: #f0f8ff;border: 1px dotted black;border-radius: 0.25em;box-sizing: border-box;margin-bottom: 0.5em;}#sk-container-id-1 div.sk-estimator:hover {background-color: #d4ebff;}#sk-container-id-1 div.sk-parallel-item::after {content: \"\";width: 100%;border-bottom: 1px solid gray;flex-grow: 1;}#sk-container-id-1 div.sk-label:hover label.sk-toggleable__label {background-color: #d4ebff;}#sk-container-id-1 div.sk-serial::before {content: \"\";position: absolute;border-left: 1px solid gray;box-sizing: border-box;top: 0;bottom: 0;left: 50%;z-index: 0;}#sk-container-id-1 div.sk-serial {display: flex;flex-direction: column;align-items: center;background-color: white;padding-right: 0.2em;padding-left: 0.2em;position: relative;}#sk-container-id-1 div.sk-item {position: relative;z-index: 1;}#sk-container-id-1 div.sk-parallel {display: flex;align-items: stretch;justify-content: center;background-color: white;position: relative;}#sk-container-id-1 div.sk-item::before, #sk-container-id-1 div.sk-parallel-item::before {content: \"\";position: absolute;border-left: 1px solid gray;box-sizing: border-box;top: 0;bottom: 0;left: 50%;z-index: -1;}#sk-container-id-1 div.sk-parallel-item {display: flex;flex-direction: column;z-index: 1;position: relative;background-color: white;}#sk-container-id-1 div.sk-parallel-item:first-child::after {align-self: flex-end;width: 50%;}#sk-container-id-1 div.sk-parallel-item:last-child::after {align-self: flex-start;width: 50%;}#sk-container-id-1 div.sk-parallel-item:only-child::after {width: 0;}#sk-container-id-1 div.sk-dashed-wrapped {border: 1px dashed gray;margin: 0 0.4em 0.5em 0.4em;box-sizing: border-box;padding-bottom: 0.4em;background-color: white;}#sk-container-id-1 div.sk-label label {font-family: monospace;font-weight: bold;display: inline-block;line-height: 1.2em;}#sk-container-id-1 div.sk-label-container {text-align: center;}#sk-container-id-1 div.sk-container {/* jupyter's `normalize.less` sets `[hidden] { display: none; }` but bootstrap.min.css set `[hidden] { display: none !important; }` so we also need the `!important` here to be able to override the default hidden behavior on the sphinx rendered scikit-learn.org. See: https://github.com/scikit-learn/scikit-learn/issues/21755 */display: inline-block !important;position: relative;}#sk-container-id-1 div.sk-text-repr-fallback {display: none;}</style><div id=\"sk-container-id-1\" class=\"sk-top-container\"><div class=\"sk-text-repr-fallback\"><pre>LogisticRegression(max_iter=1000)</pre><b>In a Jupyter environment, please rerun this cell to show the HTML representation or trust the notebook. <br />On GitHub, the HTML representation is unable to render, please try loading this page with nbviewer.org.</b></div><div class=\"sk-container\" hidden><div class=\"sk-item\"><div class=\"sk-estimator sk-toggleable\"><input class=\"sk-toggleable__control sk-hidden--visually\" id=\"sk-estimator-id-1\" type=\"checkbox\" checked><label for=\"sk-estimator-id-1\" class=\"sk-toggleable__label sk-toggleable__label-arrow\">LogisticRegression</label><div class=\"sk-toggleable__content\"><pre>LogisticRegression(max_iter=1000)</pre></div></div></div></div></div>"
      ],
      "text/plain": [
       "LogisticRegression(max_iter=1000)"
      ]
     },
     "execution_count": 19,
     "metadata": {},
     "output_type": "execute_result"
    }
   ],
   "source": [
    "model = LogisticRegression(max_iter=1000)\n",
    "model.fit(X_train, y_train)"
   ]
  },
  {
   "cell_type": "code",
   "execution_count": null,
   "metadata": {
    "application/vnd.databricks.v1+cell": {
     "cellMetadata": {
      "byteLimit": 2048000,
      "rowLimit": 10000
     },
     "inputWidgets": {},
     "nuid": "37d1965c-db8b-484d-8760-3b82fdaf8a89",
     "showTitle": false,
     "title": ""
    }
   },
   "outputs": [
    {
     "name": "stdout",
     "output_type": "stream",
     "text": [
      "Accuracy: 0.9037037037037037\n",
      "Classification Report:\n",
      "               precision    recall  f1-score   support\n",
      "\n",
      "           0       0.83      0.91      0.87        47\n",
      "           1       0.95      0.90      0.92        88\n",
      "\n",
      "    accuracy                           0.90       135\n",
      "   macro avg       0.89      0.91      0.90       135\n",
      "weighted avg       0.91      0.90      0.90       135\n",
      "\n",
      "Confusion Matrix:\n",
      " [[43  4]\n",
      " [ 9 79]]\n"
     ]
    }
   ],
   "source": [
    "y_pred = model.predict(X_test)\n",
    "\n",
    "accuracy = accuracy_score(y_test, y_pred)\n",
    "report = classification_report(y_test, y_pred)\n",
    "conf_matrix = confusion_matrix(y_test, y_pred)\n",
    "\n",
    "print(\"Accuracy:\", accuracy)\n",
    "print(\"Classification Report:\\n\", report)\n",
    "print(\"Confusion Matrix:\\n\", conf_matrix)"
   ]
  },
  {
   "cell_type": "code",
   "execution_count": null,
   "metadata": {
    "application/vnd.databricks.v1+cell": {
     "cellMetadata": {
      "byteLimit": 2048000,
      "rowLimit": 10000
     },
     "inputWidgets": {},
     "nuid": "23c47cc9-2917-4531-b2f2-71c32237eecf",
     "showTitle": false,
     "title": ""
    }
   },
   "outputs": [],
   "source": [
    "coefficients = model.coef_[0]\n",
    "feature_names = ftrs.columns"
   ]
  },
  {
   "cell_type": "code",
   "execution_count": null,
   "metadata": {
    "application/vnd.databricks.v1+cell": {
     "cellMetadata": {
      "byteLimit": 2048000,
      "rowLimit": 10000
     },
     "inputWidgets": {},
     "nuid": "347c2bf6-0437-4305-8714-a279e2ce246e",
     "showTitle": false,
     "title": ""
    }
   },
   "outputs": [],
   "source": [
    "feature_importance_df = pd.DataFrame({\n",
    "    'Feature': feature_names,\n",
    "    'Coefficient': coefficients\n",
    "}).sort_values(by='Coefficient', ascending=False)\n",
    "feature_importance_df.columns = ['FEATURE', 'COEFFICIENT']"
   ]
  },
  {
   "cell_type": "code",
   "execution_count": null,
   "metadata": {
    "application/vnd.databricks.v1+cell": {
     "cellMetadata": {
      "byteLimit": 2048000,
      "rowLimit": 10000
     },
     "inputWidgets": {},
     "nuid": "56951375-66b8-4e82-8571-613abdcca11e",
     "showTitle": false,
     "title": ""
    }
   },
   "outputs": [],
   "source": [
    "feature_importance_query = \"\"\"\n",
    "    CREATE OR REPLACE TABLE activities_features (\n",
    "        FEATURE STRING,\n",
    "        COEFFICIENT FLOAT\n",
    "    )\n",
    "\"\"\""
   ]
  },
  {
   "cell_type": "code",
   "execution_count": null,
   "metadata": {
    "application/vnd.databricks.v1+cell": {
     "cellMetadata": {
      "byteLimit": 2048000,
      "rowLimit": 10000
     },
     "inputWidgets": {},
     "nuid": "6b1b9604-2fd9-4dd5-9cf9-e7451e4ead04",
     "showTitle": false,
     "title": ""
    }
   },
   "outputs": [],
   "source": [
    "snowflake_options['schema'] = 'feature_data'\n",
    "ctx = snowflake.connector.connect(\n",
    "    user=snowflake_options['user'],\n",
    "    password=snowflake_options['password'],\n",
    "    account=snowflake_options['account'],\n",
    "    warehouse=snowflake_options['warehouse'],\n",
    "    database=snowflake_options['database'],\n",
    "    schema=snowflake_options['schema']\n",
    ")"
   ]
  },
  {
   "cell_type": "code",
   "execution_count": null,
   "metadata": {
    "application/vnd.databricks.v1+cell": {
     "cellMetadata": {
      "byteLimit": 2048000,
      "rowLimit": 10000
     },
     "inputWidgets": {},
     "nuid": "be8402fb-9fc0-4c0c-a19c-9fdb76b0edd4",
     "showTitle": false,
     "title": ""
    }
   },
   "outputs": [
    {
     "data": {
      "text/plain": [
       "<snowflake.connector.cursor.SnowflakeCursor at 0x7f11687bc130>"
      ]
     },
     "execution_count": 26,
     "metadata": {},
     "output_type": "execute_result"
    }
   ],
   "source": [
    "cursor = ctx.cursor()\n",
    "cursor.execute(feature_importance_query)"
   ]
  },
  {
   "cell_type": "code",
   "execution_count": null,
   "metadata": {
    "application/vnd.databricks.v1+cell": {
     "cellMetadata": {
      "byteLimit": 2048000,
      "rowLimit": 10000
     },
     "inputWidgets": {},
     "nuid": "540ff301-b660-4f60-a8be-ed6cf9169e49",
     "showTitle": false,
     "title": ""
    }
   },
   "outputs": [],
   "source": [
    "cursor.close()\n",
    "ctx.close()"
   ]
  },
  {
   "cell_type": "code",
   "execution_count": null,
   "metadata": {
    "application/vnd.databricks.v1+cell": {
     "cellMetadata": {
      "byteLimit": 2048000,
      "rowLimit": 10000
     },
     "inputWidgets": {},
     "nuid": "f8d0a873-2477-4c7b-a163-0e25400ee745",
     "showTitle": false,
     "title": ""
    }
   },
   "outputs": [],
   "source": [
    "ctx = snowflake.connector.connect(\n",
    "    user=snowflake_options['user'],\n",
    "    password=snowflake_options['password'],\n",
    "    account=snowflake_options['account'],\n",
    "    warehouse=snowflake_options['warehouse'],\n",
    "    database=snowflake_options['database'],\n",
    "    schema=snowflake_options['schema']\n",
    ")"
   ]
  },
  {
   "cell_type": "code",
   "execution_count": null,
   "metadata": {
    "application/vnd.databricks.v1+cell": {
     "cellMetadata": {
      "byteLimit": 2048000,
      "rowLimit": 10000
     },
     "inputWidgets": {},
     "nuid": "c94c2b18-a755-4460-84cf-a79c90dcb1c8",
     "showTitle": false,
     "title": ""
    }
   },
   "outputs": [],
   "source": [
    "def upload_to_snowflake(df, table_name):\n",
    "    success, nchunks, nrows, _ = write_pandas(ctx, df, table_name)\n",
    "    return success, nchunks, nrows"
   ]
  },
  {
   "cell_type": "code",
   "execution_count": null,
   "metadata": {
    "application/vnd.databricks.v1+cell": {
     "cellMetadata": {
      "byteLimit": 2048000,
      "rowLimit": 10000
     },
     "inputWidgets": {},
     "nuid": "75ad427d-f9b3-4287-af89-016400ec15b3",
     "showTitle": false,
     "title": ""
    }
   },
   "outputs": [],
   "source": [
    "feature_importance_df.reset_index(drop=True, inplace=True)"
   ]
  },
  {
   "cell_type": "code",
   "execution_count": null,
   "metadata": {
    "application/vnd.databricks.v1+cell": {
     "cellMetadata": {
      "byteLimit": 2048000,
      "rowLimit": 10000
     },
     "inputWidgets": {},
     "nuid": "733c2fb6-f1e8-4a1d-9569-63fa7d4e11d5",
     "showTitle": false,
     "title": ""
    }
   },
   "outputs": [
    {
     "data": {
      "text/plain": [
       "(True, 1, 10)"
      ]
     },
     "execution_count": 31,
     "metadata": {},
     "output_type": "execute_result"
    }
   ],
   "source": [
    "upload_to_snowflake(feature_importance_df, 'ACTIVITIES_FEATURES')"
   ]
  },
  {
   "cell_type": "code",
   "execution_count": null,
   "metadata": {
    "application/vnd.databricks.v1+cell": {
     "cellMetadata": {
      "byteLimit": 2048000,
      "rowLimit": 10000
     },
     "inputWidgets": {},
     "nuid": "7b2d9681-11cd-403a-a6b9-69e15480a9e2",
     "showTitle": false,
     "title": ""
    }
   },
   "outputs": [],
   "source": [
    "ctx.close()"
   ]
  },
  {
   "cell_type": "code",
   "execution_count": null,
   "metadata": {
    "application/vnd.databricks.v1+cell": {
     "cellMetadata": {},
     "inputWidgets": {},
     "nuid": "27a1f25b-fe17-44d8-82dc-f85943ef0e79",
     "showTitle": false,
     "title": ""
    }
   },
   "outputs": [],
   "source": []
  }
 ],
 "metadata": {
  "application/vnd.databricks.v1+notebook": {
   "dashboards": [],
   "environmentMetadata": null,
   "language": "python",
   "notebookMetadata": {
    "pythonIndentUnit": 4
   },
   "notebookName": "activities_features_pipeline",
   "widgets": {}
  },
  "language_info": {
   "name": "python"
  }
 },
 "nbformat": 4,
 "nbformat_minor": 0
}
