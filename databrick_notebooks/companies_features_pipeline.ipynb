{
 "cells": [
  {
   "cell_type": "code",
   "execution_count": null,
   "metadata": {
    "application/vnd.databricks.v1+cell": {
     "cellMetadata": {
      "byteLimit": 2048000,
      "rowLimit": 10000
     },
     "inputWidgets": {},
     "nuid": "42638e2f-24ba-4943-a6df-e6e25a2bf5fa",
     "showTitle": false,
     "title": ""
    }
   },
   "outputs": [
    {
     "name": "stdout",
     "output_type": "stream",
     "text": [
      "Requirement already satisfied: snowflake-connector-python in /local_disk0/.ephemeral_nfs/envs/pythonEnv-2023669c-8010-43da-b5ea-108437ac5f91/lib/python3.10/site-packages (3.10.1)\r\n",
      "Requirement already satisfied: pandas in /databricks/python3/lib/python3.10/site-packages (1.4.4)\r\n",
      "Requirement already satisfied: typing-extensions<5,>=4.3 in /databricks/python3/lib/python3.10/site-packages (from snowflake-connector-python) (4.3.0)\r\n",
      "Requirement already satisfied: cryptography<43.0.0,>=3.1.0 in /local_disk0/.ephemeral_nfs/envs/pythonEnv-2023669c-8010-43da-b5ea-108437ac5f91/lib/python3.10/site-packages (from snowflake-connector-python) (42.0.7)\r\n",
      "Requirement already satisfied: sortedcontainers>=2.4.0 in /local_disk0/.ephemeral_nfs/envs/pythonEnv-2023669c-8010-43da-b5ea-108437ac5f91/lib/python3.10/site-packages (from snowflake-connector-python) (2.4.0)\r\n",
      "Requirement already satisfied: packaging in /databricks/python3/lib/python3.10/site-packages (from snowflake-connector-python) (21.3)\r\n",
      "Requirement already satisfied: cffi<2.0.0,>=1.9 in /databricks/python3/lib/python3.10/site-packages (from snowflake-connector-python) (1.15.1)\r\n",
      "Requirement already satisfied: pyOpenSSL<25.0.0,>=16.2.0 in /local_disk0/.ephemeral_nfs/envs/pythonEnv-2023669c-8010-43da-b5ea-108437ac5f91/lib/python3.10/site-packages (from snowflake-connector-python) (24.1.0)\r\n",
      "Requirement already satisfied: pytz in /databricks/python3/lib/python3.10/site-packages (from snowflake-connector-python) (2022.1)\r\n",
      "Requirement already satisfied: asn1crypto<2.0.0,>0.24.0 in /local_disk0/.ephemeral_nfs/envs/pythonEnv-2023669c-8010-43da-b5ea-108437ac5f91/lib/python3.10/site-packages (from snowflake-connector-python) (1.5.1)\r\n",
      "Requirement already satisfied: charset-normalizer<4,>=2 in /databricks/python3/lib/python3.10/site-packages (from snowflake-connector-python) (2.0.4)\r\n",
      "Requirement already satisfied: requests<3.0.0 in /databricks/python3/lib/python3.10/site-packages (from snowflake-connector-python) (2.28.1)\r\n",
      "Requirement already satisfied: filelock<4,>=3.5 in /usr/local/lib/python3.10/dist-packages (from snowflake-connector-python) (3.12.2)\r\n",
      "Requirement already satisfied: platformdirs<5.0.0,>=2.6.0 in /local_disk0/.ephemeral_nfs/envs/pythonEnv-2023669c-8010-43da-b5ea-108437ac5f91/lib/python3.10/site-packages (from snowflake-connector-python) (4.2.2)\r\n",
      "Requirement already satisfied: pyjwt<3.0.0 in /usr/lib/python3/dist-packages (from snowflake-connector-python) (2.3.0)\r\n",
      "Requirement already satisfied: tomlkit in /local_disk0/.ephemeral_nfs/envs/pythonEnv-2023669c-8010-43da-b5ea-108437ac5f91/lib/python3.10/site-packages (from snowflake-connector-python) (0.12.5)\r\n",
      "Requirement already satisfied: idna<4,>=2.5 in /databricks/python3/lib/python3.10/site-packages (from snowflake-connector-python) (3.3)\r\n",
      "Requirement already satisfied: certifi>=2017.4.17 in /databricks/python3/lib/python3.10/site-packages (from snowflake-connector-python) (2022.9.14)\r\n",
      "Requirement already satisfied: numpy>=1.21.0 in /databricks/python3/lib/python3.10/site-packages (from pandas) (1.21.5)\r\n",
      "Requirement already satisfied: python-dateutil>=2.8.1 in /databricks/python3/lib/python3.10/site-packages (from pandas) (2.8.2)\r\n",
      "Requirement already satisfied: pycparser in /databricks/python3/lib/python3.10/site-packages (from cffi<2.0.0,>=1.9->snowflake-connector-python) (2.21)\r\n",
      "Requirement already satisfied: six>=1.5 in /usr/lib/python3/dist-packages (from python-dateutil>=2.8.1->pandas) (1.16.0)\r\n",
      "Requirement already satisfied: urllib3<1.27,>=1.21.1 in /databricks/python3/lib/python3.10/site-packages (from requests<3.0.0->snowflake-connector-python) (1.26.11)\r\n",
      "Requirement already satisfied: pyparsing!=3.0.5,>=2.0.2 in /databricks/python3/lib/python3.10/site-packages (from packaging->snowflake-connector-python) (3.0.9)\r\n",
      "\r\n",
      "\u001b[1m[\u001b[0m\u001b[34;49mnotice\u001b[0m\u001b[1;39;49m]\u001b[0m\u001b[39;49m A new release of pip available: \u001b[0m\u001b[31;49m22.2.2\u001b[0m\u001b[39;49m -> \u001b[0m\u001b[32;49m24.0\u001b[0m\r\n",
      "\u001b[1m[\u001b[0m\u001b[34;49mnotice\u001b[0m\u001b[1;39;49m]\u001b[0m\u001b[39;49m To update, run: \u001b[0m\u001b[32;49mpip install --upgrade pip\u001b[0m\r\n",
      "Requirement already satisfied: snowflake-connector-python in /local_disk0/.ephemeral_nfs/envs/pythonEnv-2023669c-8010-43da-b5ea-108437ac5f91/lib/python3.10/site-packages (3.10.1)\r\n",
      "Requirement already satisfied: typing-extensions<5,>=4.3 in /databricks/python3/lib/python3.10/site-packages (from snowflake-connector-python) (4.3.0)\r\n",
      "Requirement already satisfied: pyjwt<3.0.0 in /usr/lib/python3/dist-packages (from snowflake-connector-python) (2.3.0)\r\n",
      "Requirement already satisfied: pyOpenSSL<25.0.0,>=16.2.0 in /local_disk0/.ephemeral_nfs/envs/pythonEnv-2023669c-8010-43da-b5ea-108437ac5f91/lib/python3.10/site-packages (from snowflake-connector-python) (24.1.0)\r\n",
      "Requirement already satisfied: packaging in /databricks/python3/lib/python3.10/site-packages (from snowflake-connector-python) (21.3)\r\n",
      "Requirement already satisfied: certifi>=2017.4.17 in /databricks/python3/lib/python3.10/site-packages (from snowflake-connector-python) (2022.9.14)\r\n",
      "Requirement already satisfied: sortedcontainers>=2.4.0 in /local_disk0/.ephemeral_nfs/envs/pythonEnv-2023669c-8010-43da-b5ea-108437ac5f91/lib/python3.10/site-packages (from snowflake-connector-python) (2.4.0)\r\n",
      "Requirement already satisfied: platformdirs<5.0.0,>=2.6.0 in /local_disk0/.ephemeral_nfs/envs/pythonEnv-2023669c-8010-43da-b5ea-108437ac5f91/lib/python3.10/site-packages (from snowflake-connector-python) (4.2.2)\r\n",
      "Requirement already satisfied: tomlkit in /local_disk0/.ephemeral_nfs/envs/pythonEnv-2023669c-8010-43da-b5ea-108437ac5f91/lib/python3.10/site-packages (from snowflake-connector-python) (0.12.5)\r\n",
      "Requirement already satisfied: charset-normalizer<4,>=2 in /databricks/python3/lib/python3.10/site-packages (from snowflake-connector-python) (2.0.4)\r\n",
      "Requirement already satisfied: filelock<4,>=3.5 in /usr/local/lib/python3.10/dist-packages (from snowflake-connector-python) (3.12.2)\r\n",
      "Requirement already satisfied: idna<4,>=2.5 in /databricks/python3/lib/python3.10/site-packages (from snowflake-connector-python) (3.3)\r\n",
      "Requirement already satisfied: cffi<2.0.0,>=1.9 in /databricks/python3/lib/python3.10/site-packages (from snowflake-connector-python) (1.15.1)\r\n",
      "Requirement already satisfied: pytz in /databricks/python3/lib/python3.10/site-packages (from snowflake-connector-python) (2022.1)\r\n",
      "Requirement already satisfied: asn1crypto<2.0.0,>0.24.0 in /local_disk0/.ephemeral_nfs/envs/pythonEnv-2023669c-8010-43da-b5ea-108437ac5f91/lib/python3.10/site-packages (from snowflake-connector-python) (1.5.1)\r\n",
      "Requirement already satisfied: requests<3.0.0 in /databricks/python3/lib/python3.10/site-packages (from snowflake-connector-python) (2.28.1)\r\n",
      "Requirement already satisfied: cryptography<43.0.0,>=3.1.0 in /local_disk0/.ephemeral_nfs/envs/pythonEnv-2023669c-8010-43da-b5ea-108437ac5f91/lib/python3.10/site-packages (from snowflake-connector-python) (42.0.7)\r\n",
      "Requirement already satisfied: pycparser in /databricks/python3/lib/python3.10/site-packages (from cffi<2.0.0,>=1.9->snowflake-connector-python) (2.21)\r\n",
      "Requirement already satisfied: urllib3<1.27,>=1.21.1 in /databricks/python3/lib/python3.10/site-packages (from requests<3.0.0->snowflake-connector-python) (1.26.11)\r\n",
      "Requirement already satisfied: pyparsing!=3.0.5,>=2.0.2 in /databricks/python3/lib/python3.10/site-packages (from packaging->snowflake-connector-python) (3.0.9)\r\n",
      "\r\n",
      "\u001b[1m[\u001b[0m\u001b[34;49mnotice\u001b[0m\u001b[1;39;49m]\u001b[0m\u001b[39;49m A new release of pip available: \u001b[0m\u001b[31;49m22.2.2\u001b[0m\u001b[39;49m -> \u001b[0m\u001b[32;49m24.0\u001b[0m\r\n",
      "\u001b[1m[\u001b[0m\u001b[34;49mnotice\u001b[0m\u001b[1;39;49m]\u001b[0m\u001b[39;49m To update, run: \u001b[0m\u001b[32;49mpip install --upgrade pip\u001b[0m\r\n"
     ]
    }
   ],
   "source": [
    "!pip install snowflake-connector-python pandas\n",
    "!pip install --upgrade snowflake-connector-python"
   ]
  },
  {
   "cell_type": "code",
   "execution_count": null,
   "metadata": {
    "application/vnd.databricks.v1+cell": {
     "cellMetadata": {
      "byteLimit": 2048000,
      "rowLimit": 10000
     },
     "inputWidgets": {},
     "nuid": "3845aabc-555c-4009-91e0-05bbd3225bf1",
     "showTitle": false,
     "title": ""
    }
   },
   "outputs": [],
   "source": [
    "from snowflake.connector.pandas_tools import write_pandas\n",
    "import snowflake.connector\n",
    "import pandas as pd\n",
    "import numpy as np\n",
    "\n",
    "from sklearn.metrics import classification_report, confusion_matrix, accuracy_score\n",
    "from sklearn.preprocessing import LabelEncoder, OneHotEncoder\n",
    "from sklearn.model_selection import train_test_split\n",
    "from sklearn.linear_model import LogisticRegression\n",
    "from sklearn.preprocessing import StandardScaler\n",
    "from sklearn.utils import resample"
   ]
  },
  {
   "cell_type": "code",
   "execution_count": 1,
   "metadata": {
    "application/vnd.databricks.v1+cell": {
     "cellMetadata": {
      "byteLimit": 2048000,
      "rowLimit": 10000
     },
     "inputWidgets": {},
     "nuid": "16675907-4a50-407a-b61a-132af6c7e63b",
     "showTitle": false,
     "title": ""
    }
   },
   "outputs": [],
   "source": [
    "snowflake_options = {\n",
    "    \"account\": \"XXXXXXXXXXXXXXXX\",\n",
    "    \"user\": \"XXXXXXXXXXXXXXXX\",\n",
    "    \"password\": \"XXXXXXXXXXXXXXXX\",\n",
    "    \"database\": \"XXXXXXXXXXXXXXXX\",\n",
    "    \"schema\": \"XXXXXXXXXXXXXXXX\",\n",
    "    \"warehouse\": \"XXXXXXXXXXXXXXXX\",\n",
    "}"
   ]
  },
  {
   "cell_type": "code",
   "execution_count": null,
   "metadata": {
    "application/vnd.databricks.v1+cell": {
     "cellMetadata": {
      "byteLimit": 2048000,
      "rowLimit": 10000
     },
     "inputWidgets": {},
     "nuid": "dc6c6a0f-120c-4c8c-9bc4-7059b7edfdd7",
     "showTitle": false,
     "title": ""
    }
   },
   "outputs": [],
   "source": [
    "ctx = snowflake.connector.connect(\n",
    "    user=snowflake_options['user'],\n",
    "    password=snowflake_options['password'],\n",
    "    account=snowflake_options['account'],\n",
    "    warehouse=snowflake_options['warehouse'],\n",
    "    database=snowflake_options['database'],\n",
    "    schema=snowflake_options['schema']\n",
    ")\n",
    "\n",
    "account_query = \"select * from salesforce_db.pre_data.account\"\n",
    "contact_query = \"select * from salesforce_db.pre_data.contact\"\n",
    "opportunity_query = \"select * from salesforce_db.pre_data.opportunity\"\n",
    "task_query = \"select * from salesforce_db.pre_data.task\""
   ]
  },
  {
   "cell_type": "code",
   "execution_count": null,
   "metadata": {
    "application/vnd.databricks.v1+cell": {
     "cellMetadata": {
      "byteLimit": 2048000,
      "rowLimit": 10000
     },
     "inputWidgets": {},
     "nuid": "546106b0-f0da-4be2-af93-9d0d71912d68",
     "showTitle": false,
     "title": ""
    }
   },
   "outputs": [],
   "source": [
    "def get_table(ctx, query):\n",
    "    cs = ctx.cursor()\n",
    "    try:\n",
    "        cs.execute(query)\n",
    "        df = cs.fetch_pandas_all()\n",
    "    finally:\n",
    "        cs.close()\n",
    "    return df"
   ]
  },
  {
   "cell_type": "code",
   "execution_count": null,
   "metadata": {
    "application/vnd.databricks.v1+cell": {
     "cellMetadata": {
      "byteLimit": 2048000,
      "rowLimit": 10000
     },
     "inputWidgets": {},
     "nuid": "49228c49-14a0-4e56-aaac-f585fd7745a8",
     "showTitle": false,
     "title": ""
    }
   },
   "outputs": [],
   "source": [
    "account = get_table(ctx, account_query)\n",
    "opportunity = get_table(ctx, opportunity_query)\n",
    "contact = get_table(ctx, contact_query)\n",
    "task = get_table(ctx, task_query)"
   ]
  },
  {
   "cell_type": "code",
   "execution_count": null,
   "metadata": {
    "application/vnd.databricks.v1+cell": {
     "cellMetadata": {
      "byteLimit": 2048000,
      "rowLimit": 10000
     },
     "inputWidgets": {},
     "nuid": "b164aeba-8fbb-4741-9d54-dce667c1a681",
     "showTitle": false,
     "title": ""
    }
   },
   "outputs": [],
   "source": [
    "ctx.close()"
   ]
  },
  {
   "cell_type": "code",
   "execution_count": null,
   "metadata": {
    "application/vnd.databricks.v1+cell": {
     "cellMetadata": {
      "byteLimit": 2048000,
      "rowLimit": 10000
     },
     "inputWidgets": {},
     "nuid": "14419bf4-02ae-4321-8620-2e4f835ff7ba",
     "showTitle": false,
     "title": ""
    }
   },
   "outputs": [],
   "source": [
    "def encode_categorical_columns(data, categorical_columns):\n",
    "    label_encoders = {}\n",
    "    \n",
    "    for column in categorical_columns:\n",
    "        le = LabelEncoder()\n",
    "        data[column] = le.fit_transform(data[column])\n",
    "        label_encoders[column] = le\n",
    "    \n",
    "    return data, label_encoders\n",
    "\n",
    "def drop_columns(data, columns_to_drop):\n",
    "    return data.drop(columns=columns_to_drop, axis=1)\n",
    "\n",
    "def onehot_encode_categorical_columns(data, categorical_columns, label_encoders):\n",
    "    onehot_encoded_df_list = []\n",
    "    \n",
    "    for column in categorical_columns:\n",
    "        le = label_encoders[column]\n",
    "\n",
    "        onehot_encoder = OneHotEncoder(sparse=False)\n",
    "        onehot_encoded_column = onehot_encoder.fit_transform(data[[column]])\n",
    "\n",
    "        categories = le.inverse_transform(np.arange(len(le.classes_)))\n",
    "        onehot_encoded_df = pd.DataFrame(onehot_encoded_column, columns=[f\"{column}_{category}\" for category in categories])\n",
    "        onehot_encoded_df_list.append(onehot_encoded_df)\n",
    "\n",
    "    data = data.drop(columns=categorical_columns)\n",
    "    data = pd.concat([data.reset_index(drop=True)] + onehot_encoded_df_list, axis=1)\n",
    "    \n",
    "    return data, onehot_encoder"
   ]
  },
  {
   "cell_type": "code",
   "execution_count": null,
   "metadata": {
    "application/vnd.databricks.v1+cell": {
     "cellMetadata": {
      "byteLimit": 2048000,
      "rowLimit": 10000
     },
     "inputWidgets": {},
     "nuid": "06f2474b-7869-411c-b184-95ddd3fa019c",
     "showTitle": false,
     "title": ""
    }
   },
   "outputs": [],
   "source": [
    "columns_to_drop = ['YEARSTARTED', 'NAME_ACC', 'FORECASTCATEGORYNAME', 'FORECASTCATEGORY', 'HASOVERDUETASK', 'ANNUALREVENUE', 'AMOUNT',\n",
    "                   'ISWON', 'ISCLOSED', 'ACCOUNTID', 'PROBABILITY', 'LEADSOURCE', 'EXPECTEDREVENUE', 'ACCOUNTSOURCE', 'FISCALYEAR']\n",
    "numerical_columns = ['GROWTH_RATE__C', 'TOTAL_FUNDING_TO_DATE__C', 'NUMBEROFEMPLOYEES']\n",
    "categorical_columns = ['RATING', 'OWNERSHIP', 'TYPE_ACC', 'INDUSTRY', 'HQ_LOCATION__C', 'RANGE_ANNUALREVENUE']\n",
    "binary_columns = ['OWNER_INTENT_TO_SELL__C', 'TYPE_OPP']\n",
    "identificators = ['ID_ACC', 'ID_OPP']\n",
    "targets = ['STAGENAME', 'NAME_OPP']"
   ]
  },
  {
   "cell_type": "code",
   "execution_count": null,
   "metadata": {
    "application/vnd.databricks.v1+cell": {
     "cellMetadata": {
      "byteLimit": 2048000,
      "rowLimit": 10000
     },
     "inputWidgets": {},
     "nuid": "f716f065-7e04-4d95-8d7f-c4e5153e2b8e",
     "showTitle": false,
     "title": ""
    }
   },
   "outputs": [],
   "source": [
    "industry_mapping = {\n",
    "    'Technology & Communications': [\n",
    "        'Media', 'Telecommunications', 'Technology', 'Electronics', 'Communications'\n",
    "    ],\n",
    "    'Finance & Insurance': [\n",
    "        'Finance', 'Banking', 'Insurance'\n",
    "    ],\n",
    "    'Consumer & Services': [\n",
    "        'Not For Profit', 'Transportation', 'Food & Beverage', 'Environmental', 'Consulting', \n",
    "        'Shipping', 'Recreation', 'Education', 'Retail', 'Hospitality', 'Entertainment', \n",
    "        'Healthcare', 'Government', 'Apparel'\n",
    "    ],\n",
    "    'Industrial & Other': [\n",
    "        'Utilities', 'Biotechnology', 'Engineering', 'Manufacturing', 'Machinery', 'Construction', \n",
    "        'Agriculture', 'Energy', 'Chemicals', 'Other'\n",
    "    ]\n",
    "}"
   ]
  },
  {
   "cell_type": "code",
   "execution_count": null,
   "metadata": {
    "application/vnd.databricks.v1+cell": {
     "cellMetadata": {
      "byteLimit": 2048000,
      "rowLimit": 10000
     },
     "inputWidgets": {},
     "nuid": "92eb62a3-7555-4145-a4a8-98794043db76",
     "showTitle": false,
     "title": ""
    }
   },
   "outputs": [],
   "source": [
    "region_mapping = {\n",
    "    'Northeast': [\n",
    "        'Connecticut', 'Maine', 'Massachusetts', 'New Hampshire', 'Rhode Island', 'Vermont',\n",
    "        'New Jersey', 'New York', 'Pennsylvania'\n",
    "    ],\n",
    "    'Midwest': [\n",
    "        'Illinois', 'Indiana', 'Michigan', 'Ohio', 'Wisconsin',\n",
    "        'Iowa', 'Kansas', 'Minnesota', 'Missouri', 'Nebraska', 'North Dakota', 'South Dakota'\n",
    "    ],\n",
    "    'Southeast': [\n",
    "        'Delaware', 'Florida', 'Georgia', 'Maryland', 'North Carolina', 'South Carolina', 'Virginia',\n",
    "        'West Virginia', 'Alabama', 'Kentucky', 'Mississippi', 'Tennessee', 'Arkansas', 'Louisiana'\n",
    "    ],\n",
    "    'Southwest': [\n",
    "        'Arizona', 'New Mexico', 'Oklahoma', 'Texas'\n",
    "    ],\n",
    "    'West': [\n",
    "        'Alaska', 'California', 'Colorado', 'Hawaii', 'Idaho', 'Montana', 'Nevada',\n",
    "        'Oregon', 'Utah', 'Washington', 'Wyoming'\n",
    "    ]\n",
    "}"
   ]
  },
  {
   "cell_type": "code",
   "execution_count": null,
   "metadata": {
    "application/vnd.databricks.v1+cell": {
     "cellMetadata": {
      "byteLimit": 2048000,
      "rowLimit": 10000
     },
     "inputWidgets": {},
     "nuid": "f09a0a45-371e-45a1-abc4-f10f5c7a8a17",
     "showTitle": false,
     "title": ""
    }
   },
   "outputs": [],
   "source": [
    "def map_industry(industry):\n",
    "    for category, industries in industry_mapping.items():\n",
    "        if industry in industries:\n",
    "            return category\n",
    "    return 'Unknown'\n",
    "\n",
    "def categorize_revenue(revenue):\n",
    "    if revenue <= 8.042523e6:\n",
    "        return 'Low'\n",
    "    elif revenue <= 6.428692e7:\n",
    "        return 'Lower-Middle'\n",
    "    elif revenue <= 3.813766e8:\n",
    "        return 'Upper-Middle'\n",
    "    else:\n",
    "        return 'High'\n",
    "\n",
    "def map_region(state):\n",
    "    for region, states in region_mapping.items():\n",
    "        if state in states:\n",
    "            return region\n",
    "    return 'Unknown'"
   ]
  },
  {
   "cell_type": "code",
   "execution_count": null,
   "metadata": {
    "application/vnd.databricks.v1+cell": {
     "cellMetadata": {
      "byteLimit": 2048000,
      "rowLimit": 10000
     },
     "inputWidgets": {},
     "nuid": "8a3bc33b-93c4-4e24-a110-ce5aee97c81d",
     "showTitle": false,
     "title": ""
    }
   },
   "outputs": [],
   "source": [
    "def prepare_dataset(is_train=True):\n",
    "    dataset = account.merge(opportunity, left_on='ID', right_on='ACCOUNTID', how='left', suffixes=('_ACC', '_OPP'))\n",
    "    if is_train:\n",
    "        dataset = dataset[dataset.STAGENAME.isin(['Closed Won', 'Closed Lost'])]\n",
    "    else:\n",
    "        dataset = dataset[~dataset.STAGENAME.isin(['Closed Won', 'Closed Lost'])]\n",
    "    dataset['INDUSTRY'] = dataset['INDUSTRY'].apply(map_industry)\n",
    "    dataset['RANGE_ANNUALREVENUE'] = dataset['ANNUALREVENUE'].apply(categorize_revenue)\n",
    "    dataset['HQ_LOCATION__C'] = dataset['HQ_LOCATION__C'].apply(map_region)\n",
    "    dataset, label_encoders = encode_categorical_columns(dataset, categorical_columns + targets + binary_columns)\n",
    "    dataset = drop_columns(dataset, columns_to_drop)\n",
    "    dataset, onehot_encoder = onehot_encode_categorical_columns(dataset, categorical_columns, label_encoders)\n",
    "    return dataset, onehot_encoder"
   ]
  },
  {
   "cell_type": "code",
   "execution_count": null,
   "metadata": {
    "application/vnd.databricks.v1+cell": {
     "cellMetadata": {
      "byteLimit": 2048000,
      "rowLimit": 10000
     },
     "inputWidgets": {},
     "nuid": "87482109-9fd7-4ca1-9039-e085b3fde3fa",
     "showTitle": false,
     "title": ""
    }
   },
   "outputs": [],
   "source": [
    "dataset, onehot_encoder = prepare_dataset()"
   ]
  },
  {
   "cell_type": "code",
   "execution_count": null,
   "metadata": {
    "application/vnd.databricks.v1+cell": {
     "cellMetadata": {
      "byteLimit": 2048000,
      "rowLimit": 10000
     },
     "inputWidgets": {},
     "nuid": "3375935f-1d5c-4744-b466-49d8e169a968",
     "showTitle": false,
     "title": ""
    }
   },
   "outputs": [],
   "source": [
    "features = dataset.drop(columns=identificators+['STAGENAME'])\n",
    "target = dataset['STAGENAME']\n",
    "ids = dataset[identificators]"
   ]
  },
  {
   "cell_type": "code",
   "execution_count": null,
   "metadata": {
    "application/vnd.databricks.v1+cell": {
     "cellMetadata": {
      "byteLimit": 2048000,
      "rowLimit": 10000
     },
     "inputWidgets": {},
     "nuid": "0b9479d4-a657-40d1-bdac-3ab831e24791",
     "showTitle": false,
     "title": ""
    }
   },
   "outputs": [],
   "source": [
    "scaler = StandardScaler()\n",
    "features[numerical_columns] = scaler.fit_transform(features[numerical_columns])\n",
    "X_train, X_test, y_train, y_test, ids_train, ids_test = train_test_split(features, target, ids, test_size=0.3, random_state=42)"
   ]
  },
  {
   "cell_type": "code",
   "execution_count": null,
   "metadata": {
    "application/vnd.databricks.v1+cell": {
     "cellMetadata": {
      "byteLimit": 2048000,
      "rowLimit": 10000
     },
     "inputWidgets": {},
     "nuid": "e7325ead-8c9e-4ee8-834f-ca7a2f901737",
     "showTitle": false,
     "title": ""
    }
   },
   "outputs": [
    {
     "data": {
      "text/html": [
       "<style>#sk-container-id-15 {color: black;background-color: white;}#sk-container-id-15 pre{padding: 0;}#sk-container-id-15 div.sk-toggleable {background-color: white;}#sk-container-id-15 label.sk-toggleable__label {cursor: pointer;display: block;width: 100%;margin-bottom: 0;padding: 0.3em;box-sizing: border-box;text-align: center;}#sk-container-id-15 label.sk-toggleable__label-arrow:before {content: \"▸\";float: left;margin-right: 0.25em;color: #696969;}#sk-container-id-15 label.sk-toggleable__label-arrow:hover:before {color: black;}#sk-container-id-15 div.sk-estimator:hover label.sk-toggleable__label-arrow:before {color: black;}#sk-container-id-15 div.sk-toggleable__content {max-height: 0;max-width: 0;overflow: hidden;text-align: left;background-color: #f0f8ff;}#sk-container-id-15 div.sk-toggleable__content pre {margin: 0.2em;color: black;border-radius: 0.25em;background-color: #f0f8ff;}#sk-container-id-15 input.sk-toggleable__control:checked~div.sk-toggleable__content {max-height: 200px;max-width: 100%;overflow: auto;}#sk-container-id-15 input.sk-toggleable__control:checked~label.sk-toggleable__label-arrow:before {content: \"▾\";}#sk-container-id-15 div.sk-estimator input.sk-toggleable__control:checked~label.sk-toggleable__label {background-color: #d4ebff;}#sk-container-id-15 div.sk-label input.sk-toggleable__control:checked~label.sk-toggleable__label {background-color: #d4ebff;}#sk-container-id-15 input.sk-hidden--visually {border: 0;clip: rect(1px 1px 1px 1px);clip: rect(1px, 1px, 1px, 1px);height: 1px;margin: -1px;overflow: hidden;padding: 0;position: absolute;width: 1px;}#sk-container-id-15 div.sk-estimator {font-family: monospace;background-color: #f0f8ff;border: 1px dotted black;border-radius: 0.25em;box-sizing: border-box;margin-bottom: 0.5em;}#sk-container-id-15 div.sk-estimator:hover {background-color: #d4ebff;}#sk-container-id-15 div.sk-parallel-item::after {content: \"\";width: 100%;border-bottom: 1px solid gray;flex-grow: 1;}#sk-container-id-15 div.sk-label:hover label.sk-toggleable__label {background-color: #d4ebff;}#sk-container-id-15 div.sk-serial::before {content: \"\";position: absolute;border-left: 1px solid gray;box-sizing: border-box;top: 0;bottom: 0;left: 50%;z-index: 0;}#sk-container-id-15 div.sk-serial {display: flex;flex-direction: column;align-items: center;background-color: white;padding-right: 0.2em;padding-left: 0.2em;position: relative;}#sk-container-id-15 div.sk-item {position: relative;z-index: 1;}#sk-container-id-15 div.sk-parallel {display: flex;align-items: stretch;justify-content: center;background-color: white;position: relative;}#sk-container-id-15 div.sk-item::before, #sk-container-id-15 div.sk-parallel-item::before {content: \"\";position: absolute;border-left: 1px solid gray;box-sizing: border-box;top: 0;bottom: 0;left: 50%;z-index: -1;}#sk-container-id-15 div.sk-parallel-item {display: flex;flex-direction: column;z-index: 1;position: relative;background-color: white;}#sk-container-id-15 div.sk-parallel-item:first-child::after {align-self: flex-end;width: 50%;}#sk-container-id-15 div.sk-parallel-item:last-child::after {align-self: flex-start;width: 50%;}#sk-container-id-15 div.sk-parallel-item:only-child::after {width: 0;}#sk-container-id-15 div.sk-dashed-wrapped {border: 1px dashed gray;margin: 0 0.4em 0.5em 0.4em;box-sizing: border-box;padding-bottom: 0.4em;background-color: white;}#sk-container-id-15 div.sk-label label {font-family: monospace;font-weight: bold;display: inline-block;line-height: 1.2em;}#sk-container-id-15 div.sk-label-container {text-align: center;}#sk-container-id-15 div.sk-container {/* jupyter's `normalize.less` sets `[hidden] { display: none; }` but bootstrap.min.css set `[hidden] { display: none !important; }` so we also need the `!important` here to be able to override the default hidden behavior on the sphinx rendered scikit-learn.org. See: https://github.com/scikit-learn/scikit-learn/issues/21755 */display: inline-block !important;position: relative;}#sk-container-id-15 div.sk-text-repr-fallback {display: none;}</style><div id=\"sk-container-id-15\" class=\"sk-top-container\"><div class=\"sk-text-repr-fallback\"><pre>LogisticRegression(max_iter=1000)</pre><b>In a Jupyter environment, please rerun this cell to show the HTML representation or trust the notebook. <br />On GitHub, the HTML representation is unable to render, please try loading this page with nbviewer.org.</b></div><div class=\"sk-container\" hidden><div class=\"sk-item\"><div class=\"sk-estimator sk-toggleable\"><input class=\"sk-toggleable__control sk-hidden--visually\" id=\"sk-estimator-id-15\" type=\"checkbox\" checked><label for=\"sk-estimator-id-15\" class=\"sk-toggleable__label sk-toggleable__label-arrow\">LogisticRegression</label><div class=\"sk-toggleable__content\"><pre>LogisticRegression(max_iter=1000)</pre></div></div></div></div></div>"
      ],
      "text/plain": [
       "LogisticRegression(max_iter=1000)"
      ]
     },
     "execution_count": 525,
     "metadata": {},
     "output_type": "execute_result"
    }
   ],
   "source": [
    "model = LogisticRegression(max_iter=1000)\n",
    "model.fit(X_train, y_train)"
   ]
  },
  {
   "cell_type": "code",
   "execution_count": null,
   "metadata": {
    "application/vnd.databricks.v1+cell": {
     "cellMetadata": {
      "byteLimit": 2048000,
      "rowLimit": 10000
     },
     "inputWidgets": {},
     "nuid": "8d380134-a8c6-4728-bb3a-3b80dfa89790",
     "showTitle": false,
     "title": ""
    }
   },
   "outputs": [
    {
     "name": "stdout",
     "output_type": "stream",
     "text": [
      "Accuracy: 0.7185185185185186\n",
      "Classification Report:\n",
      "               precision    recall  f1-score   support\n",
      "\n",
      "           0       0.68      0.52      0.59        52\n",
      "           1       0.74      0.84      0.79        83\n",
      "\n",
      "    accuracy                           0.72       135\n",
      "   macro avg       0.71      0.68      0.69       135\n",
      "weighted avg       0.71      0.72      0.71       135\n",
      "\n",
      "Confusion Matrix:\n",
      " [[27 25]\n",
      " [13 70]]\n"
     ]
    }
   ],
   "source": [
    "y_pred = model.predict(X_test)\n",
    "\n",
    "accuracy = accuracy_score(y_test, y_pred)\n",
    "report = classification_report(y_test, y_pred)\n",
    "conf_matrix = confusion_matrix(y_test, y_pred)\n",
    "\n",
    "print(\"Accuracy:\", accuracy)\n",
    "print(\"Classification Report:\\n\", report)\n",
    "print(\"Confusion Matrix:\\n\", conf_matrix)"
   ]
  },
  {
   "cell_type": "code",
   "execution_count": null,
   "metadata": {
    "application/vnd.databricks.v1+cell": {
     "cellMetadata": {
      "byteLimit": 2048000,
      "rowLimit": 10000
     },
     "inputWidgets": {},
     "nuid": "f4adca8a-7539-4631-be7d-bbceb62113aa",
     "showTitle": false,
     "title": ""
    }
   },
   "outputs": [],
   "source": [
    "coefficients = model.coef_[0]\n",
    "feature_names = features.columns"
   ]
  },
  {
   "cell_type": "code",
   "execution_count": null,
   "metadata": {
    "application/vnd.databricks.v1+cell": {
     "cellMetadata": {
      "byteLimit": 2048000,
      "rowLimit": 10000
     },
     "inputWidgets": {},
     "nuid": "2e2c61e1-ef30-4bac-8d8b-a830579920a3",
     "showTitle": false,
     "title": ""
    }
   },
   "outputs": [],
   "source": [
    "feature_importance_df = pd.DataFrame({\n",
    "    'Feature': feature_names,\n",
    "    'Coefficient': coefficients\n",
    "}).sort_values(by='Coefficient', ascending=False)\n",
    "feature_importance_df.columns = ['FEATURE', 'COEFFICIENT']"
   ]
  },
  {
   "cell_type": "code",
   "execution_count": null,
   "metadata": {
    "application/vnd.databricks.v1+cell": {
     "cellMetadata": {
      "byteLimit": 2048000,
      "rowLimit": 10000
     },
     "inputWidgets": {},
     "nuid": "0a49a44c-add3-47e7-9f35-8f6149aa3cb6",
     "showTitle": false,
     "title": ""
    }
   },
   "outputs": [],
   "source": [
    "feature_importance_query = \"\"\"\n",
    "    CREATE OR REPLACE TABLE companies_features (\n",
    "        FEATURE STRING,\n",
    "        COEFFICIENT FLOAT\n",
    "    )\n",
    "\"\"\""
   ]
  },
  {
   "cell_type": "code",
   "execution_count": null,
   "metadata": {
    "application/vnd.databricks.v1+cell": {
     "cellMetadata": {
      "byteLimit": 2048000,
      "rowLimit": 10000
     },
     "inputWidgets": {},
     "nuid": "37dea1d1-8f0c-4c95-9f37-6f15e7af7203",
     "showTitle": false,
     "title": ""
    }
   },
   "outputs": [],
   "source": [
    "features_query = \"\"\"\n",
    "    CREATE OR REPLACE TABLE features (\n",
    "        GROWTH_RATE__C STRING,\n",
    "        TOTAL_FUNDING_TO_DATE__C STRING,\n",
    "        NUMBEROFEMPLOYEES STRING,\n",
    "        OWNER_INTENT_TO_SELL__C STRING,\n",
    "        ID_ACC STRING,\n",
    "        TYPE_OPP STRING,\n",
    "        STAGENAME STRING,\n",
    "        NAME_OPP STRING,\n",
    "        RATING_COLD STRING,\n",
    "        RATING_HOT STRING,\n",
    "        RATING_WARM STRING,\n",
    "        OWNERSHIP_PRIVATE STRING,\n",
    "        OWNERSHIP_PUBLIC STRING,\n",
    "        OWNERSHIP_SUBSIDIARY STRING,\n",
    "        TYPE_ACC_ESTABLISHED STRING,\n",
    "        TYPE_ACC_GROWTH_STAGE STRING,\n",
    "        TYPE_ACC_STARTUP STRING,\n",
    "        INDUSTRY_CONSUMER_AND_SERVICES STRING,\n",
    "        INDUSTRY_FINANCE_AND_INSURANCE STRING,\n",
    "        INDUSTRY_INDUSTRIAL_AND_OTHER STRING,\n",
    "        INDUSTRY_TECHNOLOGY_AND_COMMUNICATIONS STRING,\n",
    "        HQ_LOCATION__C_MIDWEST STRING,\n",
    "        HQ_LOCATION__C_NORTHEAST STRING,\n",
    "        HQ_LOCATION__C_SOUTHEAST STRING,\n",
    "        HQ_LOCATION__C_SOUTHWEST STRING,\n",
    "        HQ_LOCATION__C_WEST STRING,\n",
    "        RANGE_ANNUALREVENUE_HIGH STRING,\n",
    "        RANGE_ANNUALREVENUE_LOW STRING,\n",
    "        RANGE_ANNUALREVENUE_LOWER_MIDDLE STRING,\n",
    "        RANGE_ANNUALREVENUE_UPPER_MIDDLE STRING\n",
    "    )\n",
    "\"\"\""
   ]
  },
  {
   "cell_type": "code",
   "execution_count": null,
   "metadata": {
    "application/vnd.databricks.v1+cell": {
     "cellMetadata": {
      "byteLimit": 2048000,
      "rowLimit": 10000
     },
     "inputWidgets": {},
     "nuid": "9f383ae5-2ce7-4677-a445-87f2f4626a35",
     "showTitle": false,
     "title": ""
    }
   },
   "outputs": [],
   "source": [
    "snowflake_options['schema'] = 'feature_data'\n",
    "ctx = snowflake.connector.connect(\n",
    "    user=snowflake_options['user'],\n",
    "    password=snowflake_options['password'],\n",
    "    account=snowflake_options['account'],\n",
    "    warehouse=snowflake_options['warehouse'],\n",
    "    database=snowflake_options['database'],\n",
    "    schema=snowflake_options['schema']\n",
    ")"
   ]
  },
  {
   "cell_type": "code",
   "execution_count": null,
   "metadata": {
    "application/vnd.databricks.v1+cell": {
     "cellMetadata": {
      "byteLimit": 2048000,
      "rowLimit": 10000
     },
     "inputWidgets": {},
     "nuid": "d7a5d6da-3922-4692-8ca6-a3064d879183",
     "showTitle": false,
     "title": ""
    }
   },
   "outputs": [
    {
     "data": {
      "text/plain": [
       "<snowflake.connector.cursor.SnowflakeCursor at 0x7fa324a92380>"
      ]
     },
     "execution_count": 532,
     "metadata": {},
     "output_type": "execute_result"
    }
   ],
   "source": [
    "cursor = ctx.cursor()\n",
    "cursor.execute(feature_importance_query)\n",
    "cursor.execute(features_query)"
   ]
  },
  {
   "cell_type": "code",
   "execution_count": null,
   "metadata": {
    "application/vnd.databricks.v1+cell": {
     "cellMetadata": {
      "byteLimit": 2048000,
      "rowLimit": 10000
     },
     "inputWidgets": {},
     "nuid": "fecf658b-a0a9-4349-84d1-2d36b35d826b",
     "showTitle": false,
     "title": ""
    }
   },
   "outputs": [],
   "source": [
    "cursor.close()\n",
    "ctx.close()"
   ]
  },
  {
   "cell_type": "code",
   "execution_count": null,
   "metadata": {
    "application/vnd.databricks.v1+cell": {
     "cellMetadata": {
      "byteLimit": 2048000,
      "rowLimit": 10000
     },
     "inputWidgets": {},
     "nuid": "bb830e9d-a37a-4710-b2a2-d4852e121117",
     "showTitle": false,
     "title": ""
    }
   },
   "outputs": [],
   "source": [
    "ctx = snowflake.connector.connect(\n",
    "    user=snowflake_options['user'],\n",
    "    password=snowflake_options['password'],\n",
    "    account=snowflake_options['account'],\n",
    "    warehouse=snowflake_options['warehouse'],\n",
    "    database=snowflake_options['database'],\n",
    "    schema=snowflake_options['schema']\n",
    ")"
   ]
  },
  {
   "cell_type": "code",
   "execution_count": null,
   "metadata": {
    "application/vnd.databricks.v1+cell": {
     "cellMetadata": {
      "byteLimit": 2048000,
      "rowLimit": 10000
     },
     "inputWidgets": {},
     "nuid": "2041d43a-fdcf-4b24-82f1-d3fffc039437",
     "showTitle": false,
     "title": ""
    }
   },
   "outputs": [],
   "source": [
    "def upload_to_snowflake(df, table_name):\n",
    "    success, nchunks, nrows, _ = write_pandas(ctx, df, table_name)\n",
    "    return success, nchunks, nrows"
   ]
  },
  {
   "cell_type": "code",
   "execution_count": null,
   "metadata": {
    "application/vnd.databricks.v1+cell": {
     "cellMetadata": {
      "byteLimit": 2048000,
      "rowLimit": 10000
     },
     "inputWidgets": {},
     "nuid": "1afcac56-1455-4789-b292-ec03efeb80ec",
     "showTitle": false,
     "title": ""
    }
   },
   "outputs": [],
   "source": [
    "dataset_for_pred, _ = prepare_dataset(is_train=False)\n",
    "dataset_for_pred.reset_index(drop=True, inplace=True)\n",
    "dataset_for_pred.columns = [col.upper().replace(' ', '_').replace('&', 'AND').replace('-', '_') for col in dataset_for_pred.columns]\n",
    "dataset_for_pred.drop(columns=['ID_OPP'], inplace=True)"
   ]
  },
  {
   "cell_type": "code",
   "execution_count": null,
   "metadata": {
    "application/vnd.databricks.v1+cell": {
     "cellMetadata": {
      "byteLimit": 2048000,
      "rowLimit": 10000
     },
     "inputWidgets": {},
     "nuid": "bcaa39a6-14be-447d-b521-97c9ad8b7f17",
     "showTitle": false,
     "title": ""
    }
   },
   "outputs": [
    {
     "data": {
      "text/plain": [
       "(True, 1, 150)"
      ]
     },
     "execution_count": 537,
     "metadata": {},
     "output_type": "execute_result"
    }
   ],
   "source": [
    "upload_to_snowflake(dataset_for_pred, 'FEATURES')"
   ]
  },
  {
   "cell_type": "code",
   "execution_count": null,
   "metadata": {
    "application/vnd.databricks.v1+cell": {
     "cellMetadata": {
      "byteLimit": 2048000,
      "rowLimit": 10000
     },
     "inputWidgets": {},
     "nuid": "85819ef0-5a4a-43fb-80ac-0aee85f6fa6c",
     "showTitle": false,
     "title": ""
    }
   },
   "outputs": [],
   "source": [
    "feature_importance_df.reset_index(drop=True, inplace=True)\n",
    "feature_importance_df.FEATURE = feature_importance_df.FEATURE.str.upper().str.replace(' ', '_').str.replace('&', 'AND').str.replace('-', '_')"
   ]
  },
  {
   "cell_type": "code",
   "execution_count": null,
   "metadata": {
    "application/vnd.databricks.v1+cell": {
     "cellMetadata": {
      "byteLimit": 2048000,
      "rowLimit": 10000
     },
     "inputWidgets": {},
     "nuid": "1c3fd427-9709-4700-aaed-4379eb791c7e",
     "showTitle": false,
     "title": ""
    }
   },
   "outputs": [
    {
     "data": {
      "text/plain": [
       "(True, 1, 28)"
      ]
     },
     "execution_count": 539,
     "metadata": {},
     "output_type": "execute_result"
    }
   ],
   "source": [
    "upload_to_snowflake(feature_importance_df, 'COMPANIES_FEATURES')"
   ]
  },
  {
   "cell_type": "code",
   "execution_count": null,
   "metadata": {
    "application/vnd.databricks.v1+cell": {
     "cellMetadata": {
      "byteLimit": 2048000,
      "rowLimit": 10000
     },
     "inputWidgets": {},
     "nuid": "65fae28b-941a-44bb-915d-5917b77540e4",
     "showTitle": false,
     "title": ""
    }
   },
   "outputs": [],
   "source": [
    "ctx.close()"
   ]
  },
  {
   "cell_type": "code",
   "execution_count": null,
   "metadata": {
    "application/vnd.databricks.v1+cell": {
     "cellMetadata": {},
     "inputWidgets": {},
     "nuid": "ae391a0c-6eca-4d16-b89b-e2d9db9a9cba",
     "showTitle": false,
     "title": ""
    }
   },
   "outputs": [],
   "source": []
  }
 ],
 "metadata": {
  "application/vnd.databricks.v1+notebook": {
   "dashboards": [],
   "environmentMetadata": null,
   "language": "python",
   "notebookMetadata": {
    "pythonIndentUnit": 4
   },
   "notebookName": "companies_features_pipeline",
   "widgets": {}
  },
  "kernelspec": {
   "display_name": "Python 3.10.4 64-bit",
   "language": "python",
   "name": "python3"
  },
  "language_info": {
   "codemirror_mode": {
    "name": "ipython",
    "version": 3
   },
   "file_extension": ".py",
   "mimetype": "text/x-python",
   "name": "python",
   "nbconvert_exporter": "python",
   "pygments_lexer": "ipython3",
   "version": "3.10.4"
  },
  "vscode": {
   "interpreter": {
    "hash": "916dbcbb3f70747c44a77c7bcd40155683ae19c65e1c03b4aa3499c5328201f1"
   }
  }
 },
 "nbformat": 4,
 "nbformat_minor": 0
}
