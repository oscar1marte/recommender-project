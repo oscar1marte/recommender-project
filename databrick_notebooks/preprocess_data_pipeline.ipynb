{
 "cells": [
  {
   "cell_type": "code",
   "execution_count": null,
   "metadata": {
    "application/vnd.databricks.v1+cell": {
     "cellMetadata": {
      "byteLimit": 2048000,
      "rowLimit": 10000
     },
     "inputWidgets": {},
     "nuid": "f348cc97-3339-4c75-8a25-9378f93a0c68",
     "showTitle": false,
     "title": ""
    }
   },
   "outputs": [
    {
     "name": "stdout",
     "output_type": "stream",
     "text": [
      "Requirement already satisfied: snowflake-connector-python in /local_disk0/.ephemeral_nfs/envs/pythonEnv-dedd123a-eeba-43fd-91eb-de72e098c879/lib/python3.10/site-packages (3.10.1)\r\n",
      "Requirement already satisfied: pandas in /databricks/python3/lib/python3.10/site-packages (1.4.4)\r\n",
      "Requirement already satisfied: requests<3.0.0 in /databricks/python3/lib/python3.10/site-packages (from snowflake-connector-python) (2.28.1)\r\n",
      "Requirement already satisfied: filelock<4,>=3.5 in /usr/local/lib/python3.10/dist-packages (from snowflake-connector-python) (3.12.2)\r\n",
      "Requirement already satisfied: tomlkit in /local_disk0/.ephemeral_nfs/envs/pythonEnv-dedd123a-eeba-43fd-91eb-de72e098c879/lib/python3.10/site-packages (from snowflake-connector-python) (0.12.5)\r\n",
      "Requirement already satisfied: typing-extensions<5,>=4.3 in /databricks/python3/lib/python3.10/site-packages (from snowflake-connector-python) (4.3.0)\r\n",
      "Requirement already satisfied: cryptography<43.0.0,>=3.1.0 in /local_disk0/.ephemeral_nfs/envs/pythonEnv-dedd123a-eeba-43fd-91eb-de72e098c879/lib/python3.10/site-packages (from snowflake-connector-python) (42.0.7)\r\n",
      "Requirement already satisfied: pyjwt<3.0.0 in /usr/lib/python3/dist-packages (from snowflake-connector-python) (2.3.0)\r\n",
      "Requirement already satisfied: cffi<2.0.0,>=1.9 in /databricks/python3/lib/python3.10/site-packages (from snowflake-connector-python) (1.15.1)\r\n",
      "Requirement already satisfied: sortedcontainers>=2.4.0 in /local_disk0/.ephemeral_nfs/envs/pythonEnv-dedd123a-eeba-43fd-91eb-de72e098c879/lib/python3.10/site-packages (from snowflake-connector-python) (2.4.0)\r\n",
      "Requirement already satisfied: pytz in /databricks/python3/lib/python3.10/site-packages (from snowflake-connector-python) (2022.1)\r\n",
      "Requirement already satisfied: pyOpenSSL<25.0.0,>=16.2.0 in /local_disk0/.ephemeral_nfs/envs/pythonEnv-dedd123a-eeba-43fd-91eb-de72e098c879/lib/python3.10/site-packages (from snowflake-connector-python) (24.1.0)\r\n",
      "Requirement already satisfied: certifi>=2017.4.17 in /databricks/python3/lib/python3.10/site-packages (from snowflake-connector-python) (2022.9.14)\r\n",
      "Requirement already satisfied: platformdirs<5.0.0,>=2.6.0 in /local_disk0/.ephemeral_nfs/envs/pythonEnv-dedd123a-eeba-43fd-91eb-de72e098c879/lib/python3.10/site-packages (from snowflake-connector-python) (4.2.2)\r\n",
      "Requirement already satisfied: asn1crypto<2.0.0,>0.24.0 in /local_disk0/.ephemeral_nfs/envs/pythonEnv-dedd123a-eeba-43fd-91eb-de72e098c879/lib/python3.10/site-packages (from snowflake-connector-python) (1.5.1)\r\n",
      "Requirement already satisfied: charset-normalizer<4,>=2 in /databricks/python3/lib/python3.10/site-packages (from snowflake-connector-python) (2.0.4)\r\n",
      "Requirement already satisfied: packaging in /databricks/python3/lib/python3.10/site-packages (from snowflake-connector-python) (21.3)\r\n",
      "Requirement already satisfied: idna<4,>=2.5 in /databricks/python3/lib/python3.10/site-packages (from snowflake-connector-python) (3.3)\r\n",
      "Requirement already satisfied: numpy>=1.21.0 in /databricks/python3/lib/python3.10/site-packages (from pandas) (1.21.5)\r\n",
      "Requirement already satisfied: python-dateutil>=2.8.1 in /databricks/python3/lib/python3.10/site-packages (from pandas) (2.8.2)\r\n",
      "Requirement already satisfied: pycparser in /databricks/python3/lib/python3.10/site-packages (from cffi<2.0.0,>=1.9->snowflake-connector-python) (2.21)\r\n",
      "Requirement already satisfied: six>=1.5 in /usr/lib/python3/dist-packages (from python-dateutil>=2.8.1->pandas) (1.16.0)\r\n",
      "Requirement already satisfied: urllib3<1.27,>=1.21.1 in /databricks/python3/lib/python3.10/site-packages (from requests<3.0.0->snowflake-connector-python) (1.26.11)\r\n",
      "Requirement already satisfied: pyparsing!=3.0.5,>=2.0.2 in /databricks/python3/lib/python3.10/site-packages (from packaging->snowflake-connector-python) (3.0.9)\r\n",
      "\r\n",
      "\u001b[1m[\u001b[0m\u001b[34;49mnotice\u001b[0m\u001b[1;39;49m]\u001b[0m\u001b[39;49m A new release of pip available: \u001b[0m\u001b[31;49m22.2.2\u001b[0m\u001b[39;49m -> \u001b[0m\u001b[32;49m24.0\u001b[0m\r\n",
      "\u001b[1m[\u001b[0m\u001b[34;49mnotice\u001b[0m\u001b[1;39;49m]\u001b[0m\u001b[39;49m To update, run: \u001b[0m\u001b[32;49mpip install --upgrade pip\u001b[0m\r\n",
      "Requirement already satisfied: snowflake-connector-python in /local_disk0/.ephemeral_nfs/envs/pythonEnv-dedd123a-eeba-43fd-91eb-de72e098c879/lib/python3.10/site-packages (3.10.1)\r\n",
      "Requirement already satisfied: cffi<2.0.0,>=1.9 in /databricks/python3/lib/python3.10/site-packages (from snowflake-connector-python) (1.15.1)\r\n",
      "Requirement already satisfied: typing-extensions<5,>=4.3 in /databricks/python3/lib/python3.10/site-packages (from snowflake-connector-python) (4.3.0)\r\n",
      "Requirement already satisfied: charset-normalizer<4,>=2 in /databricks/python3/lib/python3.10/site-packages (from snowflake-connector-python) (2.0.4)\r\n",
      "Requirement already satisfied: sortedcontainers>=2.4.0 in /local_disk0/.ephemeral_nfs/envs/pythonEnv-dedd123a-eeba-43fd-91eb-de72e098c879/lib/python3.10/site-packages (from snowflake-connector-python) (2.4.0)\r\n",
      "Requirement already satisfied: filelock<4,>=3.5 in /usr/local/lib/python3.10/dist-packages (from snowflake-connector-python) (3.12.2)\r\n",
      "Requirement already satisfied: platformdirs<5.0.0,>=2.6.0 in /local_disk0/.ephemeral_nfs/envs/pythonEnv-dedd123a-eeba-43fd-91eb-de72e098c879/lib/python3.10/site-packages (from snowflake-connector-python) (4.2.2)\r\n",
      "Requirement already satisfied: asn1crypto<2.0.0,>0.24.0 in /local_disk0/.ephemeral_nfs/envs/pythonEnv-dedd123a-eeba-43fd-91eb-de72e098c879/lib/python3.10/site-packages (from snowflake-connector-python) (1.5.1)\r\n",
      "Requirement already satisfied: pyOpenSSL<25.0.0,>=16.2.0 in /local_disk0/.ephemeral_nfs/envs/pythonEnv-dedd123a-eeba-43fd-91eb-de72e098c879/lib/python3.10/site-packages (from snowflake-connector-python) (24.1.0)\r\n",
      "Requirement already satisfied: tomlkit in /local_disk0/.ephemeral_nfs/envs/pythonEnv-dedd123a-eeba-43fd-91eb-de72e098c879/lib/python3.10/site-packages (from snowflake-connector-python) (0.12.5)\r\n",
      "Requirement already satisfied: idna<4,>=2.5 in /databricks/python3/lib/python3.10/site-packages (from snowflake-connector-python) (3.3)\r\n",
      "Requirement already satisfied: pyjwt<3.0.0 in /usr/lib/python3/dist-packages (from snowflake-connector-python) (2.3.0)\r\n",
      "Requirement already satisfied: packaging in /databricks/python3/lib/python3.10/site-packages (from snowflake-connector-python) (21.3)\r\n",
      "Requirement already satisfied: certifi>=2017.4.17 in /databricks/python3/lib/python3.10/site-packages (from snowflake-connector-python) (2022.9.14)\r\n",
      "Requirement already satisfied: pytz in /databricks/python3/lib/python3.10/site-packages (from snowflake-connector-python) (2022.1)\r\n",
      "Requirement already satisfied: requests<3.0.0 in /databricks/python3/lib/python3.10/site-packages (from snowflake-connector-python) (2.28.1)\r\n",
      "Requirement already satisfied: cryptography<43.0.0,>=3.1.0 in /local_disk0/.ephemeral_nfs/envs/pythonEnv-dedd123a-eeba-43fd-91eb-de72e098c879/lib/python3.10/site-packages (from snowflake-connector-python) (42.0.7)\r\n",
      "Requirement already satisfied: pycparser in /databricks/python3/lib/python3.10/site-packages (from cffi<2.0.0,>=1.9->snowflake-connector-python) (2.21)\r\n",
      "Requirement already satisfied: urllib3<1.27,>=1.21.1 in /databricks/python3/lib/python3.10/site-packages (from requests<3.0.0->snowflake-connector-python) (1.26.11)\r\n",
      "Requirement already satisfied: pyparsing!=3.0.5,>=2.0.2 in /databricks/python3/lib/python3.10/site-packages (from packaging->snowflake-connector-python) (3.0.9)\r\n",
      "\r\n",
      "\u001b[1m[\u001b[0m\u001b[34;49mnotice\u001b[0m\u001b[1;39;49m]\u001b[0m\u001b[39;49m A new release of pip available: \u001b[0m\u001b[31;49m22.2.2\u001b[0m\u001b[39;49m -> \u001b[0m\u001b[32;49m24.0\u001b[0m\r\n",
      "\u001b[1m[\u001b[0m\u001b[34;49mnotice\u001b[0m\u001b[1;39;49m]\u001b[0m\u001b[39;49m To update, run: \u001b[0m\u001b[32;49mpip install --upgrade pip\u001b[0m\r\n"
     ]
    }
   ],
   "source": [
    "!pip install snowflake-connector-python pandas\n",
    "!pip install --upgrade snowflake-connector-python"
   ]
  },
  {
   "cell_type": "code",
   "execution_count": null,
   "metadata": {
    "application/vnd.databricks.v1+cell": {
     "cellMetadata": {
      "byteLimit": 2048000,
      "rowLimit": 10000
     },
     "inputWidgets": {},
     "nuid": "76d5757e-648f-47fe-ba7f-79f9d27928bb",
     "showTitle": false,
     "title": ""
    }
   },
   "outputs": [],
   "source": [
    "from snowflake.connector.pandas_tools import write_pandas\n",
    "import snowflake.connector\n",
    "import pandas as pd\n",
    "import numpy as np"
   ]
  },
  {
   "cell_type": "code",
   "execution_count": 1,
   "metadata": {
    "application/vnd.databricks.v1+cell": {
     "cellMetadata": {
      "byteLimit": 2048000,
      "rowLimit": 10000
     },
     "inputWidgets": {},
     "nuid": "f3bbcd8c-839f-4f1e-b235-870973da9466",
     "showTitle": false,
     "title": ""
    }
   },
   "outputs": [],
   "source": [
    "snowflake_options = {\n",
    "    \"account\": \"XXXXXXXXXXXXXXXX\",\n",
    "    \"user\": \"XXXXXXXXXXXXXXXX\",\n",
    "    \"password\": \"XXXXXXXXXXXXXXXX\",\n",
    "    \"database\": \"XXXXXXXXXXXXXXXX\",\n",
    "    \"schema\": \"XXXXXXXXXXXXXXXX\",\n",
    "    \"warehouse\": \"XXXXXXXXXXXXXXXX\",\n",
    "}"
   ]
  },
  {
   "cell_type": "code",
   "execution_count": null,
   "metadata": {
    "application/vnd.databricks.v1+cell": {
     "cellMetadata": {
      "byteLimit": 2048000,
      "rowLimit": 10000
     },
     "inputWidgets": {},
     "nuid": "850925d6-2aec-4f32-92f6-20ec2a065188",
     "showTitle": false,
     "title": ""
    }
   },
   "outputs": [],
   "source": [
    "ctx = snowflake.connector.connect(\n",
    "    user=snowflake_options['user'],\n",
    "    password=snowflake_options['password'],\n",
    "    account=snowflake_options['account'],\n",
    "    warehouse=snowflake_options['warehouse'],\n",
    "    database=snowflake_options['database'],\n",
    "    schema=snowflake_options['schema']\n",
    ")\n",
    "\n",
    "account_query = \"select * from salesforce_db.raw_data.account\"\n",
    "contact_query = \"select * from salesforce_db.raw_data.contact\"\n",
    "opportunity_query = \"select * from salesforce_db.raw_data.opportunity\"\n",
    "opportunitystage_query = \"select * from salesforce_db.raw_data.opportunitystage\"\n",
    "task_query = \"select * from salesforce_db.raw_data.task\""
   ]
  },
  {
   "cell_type": "code",
   "execution_count": null,
   "metadata": {
    "application/vnd.databricks.v1+cell": {
     "cellMetadata": {
      "byteLimit": 2048000,
      "rowLimit": 10000
     },
     "inputWidgets": {},
     "nuid": "f9596d33-7f1b-47e9-94fc-0936468acf1e",
     "showTitle": false,
     "title": ""
    }
   },
   "outputs": [],
   "source": [
    "def get_table(ctx, query):\n",
    "    cs = ctx.cursor()\n",
    "    try:\n",
    "        cs.execute(query)\n",
    "        df = cs.fetch_pandas_all()\n",
    "    finally:\n",
    "        cs.close()\n",
    "    return df\n",
    "\n",
    "def get_not_missing_data_columns(df, threshold=50):\n",
    "    missing_data_percentage = df.isnull().mean() * 100\n",
    "    filtered_columns = missing_data_percentage[missing_data_percentage <= threshold]\n",
    "    columns = []\n",
    "    for column, percentage in filtered_columns.sort_values(ascending=False).items():\n",
    "        columns.append(column)\n",
    "    return columns"
   ]
  },
  {
   "cell_type": "code",
   "execution_count": null,
   "metadata": {
    "application/vnd.databricks.v1+cell": {
     "cellMetadata": {
      "byteLimit": 2048000,
      "rowLimit": 10000
     },
     "inputWidgets": {},
     "nuid": "ac55e595-af7e-4b5e-88f3-6b22ceab734f",
     "showTitle": false,
     "title": ""
    }
   },
   "outputs": [],
   "source": [
    "account = get_table(ctx, account_query)\n",
    "opportunity = get_table(ctx, opportunity_query)\n",
    "contact = get_table(ctx, contact_query)\n",
    "opportunitystage = get_table(ctx, opportunitystage_query)\n",
    "task = get_table(ctx, task_query)"
   ]
  },
  {
   "cell_type": "code",
   "execution_count": null,
   "metadata": {
    "application/vnd.databricks.v1+cell": {
     "cellMetadata": {
      "byteLimit": 2048000,
      "rowLimit": 10000
     },
     "inputWidgets": {},
     "nuid": "9ff9159e-e585-404c-b688-fcf59be4a42f",
     "showTitle": false,
     "title": ""
    }
   },
   "outputs": [],
   "source": [
    "ctx.close()"
   ]
  },
  {
   "cell_type": "code",
   "execution_count": null,
   "metadata": {
    "application/vnd.databricks.v1+cell": {
     "cellMetadata": {
      "byteLimit": 2048000,
      "rowLimit": 10000
     },
     "inputWidgets": {},
     "nuid": "cf874556-cd79-44a5-b1a9-ae177cc5bc8c",
     "showTitle": false,
     "title": ""
    }
   },
   "outputs": [],
   "source": [
    "account_columns = get_not_missing_data_columns(account, threshold=20)\n",
    "account_0 = account[account_columns].copy()\n",
    "account_0.dropna(subset=['HQ_LOCATION__C', 'GROWTH_RATE__C', 'TOTAL_FUNDING_TO_DATE__C', 'OWNER_INTENT_TO_SELL__C'], inplace=True)\n",
    "columns_to_drop = ['BILLINGLATITUDE', 'BILLINGLONGITUDE', 'BILLINGPOSTALCODE', 'BILLINGCOUNTRY', 'DESCRIPTION', 'TICKERSYMBOL',\n",
    "                   'BILLINGCITY', 'SITE', 'WEBSITE', 'FAX', 'PHONE', 'BILLINGSTREET', 'SYSTEMMODSTAMP', 'CLEANSTATUS', 'BILLINGSTATE',\n",
    "                   'LASTMODIFIEDDATE', 'LASTMODIFIEDBYID', 'ISDELETED', 'CREATEDBYID', 'CREATEDDATE', 'OWNERID', 'PHOTOURL']\n",
    "account_0.drop(columns=columns_to_drop, axis=0, inplace=True)"
   ]
  },
  {
   "cell_type": "code",
   "execution_count": null,
   "metadata": {
    "application/vnd.databricks.v1+cell": {
     "cellMetadata": {
      "byteLimit": 2048000,
      "rowLimit": 10000
     },
     "inputWidgets": {},
     "nuid": "1cb63dbb-0513-4283-b68f-e73c3d23bd94",
     "showTitle": false,
     "title": ""
    }
   },
   "outputs": [],
   "source": [
    "opportunity.drop_duplicates(subset=['ID', 'ACCOUNTID'], keep='first', inplace=True)\n",
    "opportunity_columns = get_not_missing_data_columns(opportunity, threshold=20)\n",
    "opportunity_0 = opportunity[opportunity_columns].copy()\n",
    "columns_to_drop = ['ISDELETED', 'FISCAL', 'FISCALQUARTER', 'SYSTEMMODSTAMP', 'LASTMODIFIEDBYID', 'LASTMODIFIEDDATE',\n",
    "                   'CREATEDBYID', 'CREATEDDATE', 'OWNERID', 'HASOPPORTUNITYLINEITEM', 'HASOPENACTIVITY', 'NEXTSTEP',\n",
    "                   'CLOSEDATE', 'DESCRIPTION', 'ISPRIVATE']\n",
    "opportunity_0.drop(columns=columns_to_drop, axis=0, inplace=True)"
   ]
  },
  {
   "cell_type": "code",
   "execution_count": null,
   "metadata": {
    "application/vnd.databricks.v1+cell": {
     "cellMetadata": {
      "byteLimit": 2048000,
      "rowLimit": 10000
     },
     "inputWidgets": {},
     "nuid": "caf0fd2b-2388-42b7-8d58-14ebb919bb5c",
     "showTitle": false,
     "title": ""
    }
   },
   "outputs": [],
   "source": [
    "contact_columns = get_not_missing_data_columns(contact, threshold=20)\n",
    "contact_0 = contact[contact_columns].copy()\n",
    "columns_to_drop = ['HOMEPHONE', 'DESCRIPTION', 'MAILINGCITY', 'MAILINGCOUNTRY', 'MOBILEPHONE', 'BIRTHDATE', 'PHOTOURL', 'ISEMAILBOUNCED',\n",
    "                   'SYSTEMMODSTAMP', 'LASTMODIFIEDBYID', 'LASTMODIFIEDDATE', 'CREATEDBYID', 'CREATEDDATE', 'OWNERID', 'EMAIL', 'ISDELETED',\n",
    "                   'FAX', 'PHONE', 'MAILINGSTREET', 'SALUTATION', 'FIRSTNAME', 'LASTNAME', 'CLEANSTATUS']\n",
    "contact_0.drop(columns=columns_to_drop, axis=0, inplace=True)\n",
    "values_to_drop = ['Production', 'Technology', 'Procurement', 'Facilities', 'Operations', 'Warehouse Mgmt', 'Administration', 'Executive Team']\n",
    "contact_0 = contact_0[~contact_0['DEPARTMENT'].isin(values_to_drop)]\n",
    "values_to_drop = ['VP, Facilities', 'VP, Production', 'VP, Technology', 'SVP, Procurement', 'VP, Finance', 'Dean of Administration', 'Director,Warehouse Mgmt',\n",
    "                  'SVP, Operations', 'SVP, Technology', 'SVP, Production', 'SVP, Administration and Finance', 'Regional General Manager']\n",
    "contact_0 = contact_0[~contact_0['TITLE'].isin(values_to_drop)]"
   ]
  },
  {
   "cell_type": "code",
   "execution_count": null,
   "metadata": {
    "application/vnd.databricks.v1+cell": {
     "cellMetadata": {
      "byteLimit": 2048000,
      "rowLimit": 10000
     },
     "inputWidgets": {},
     "nuid": "0f69894c-b2b3-4360-a793-85d77795f6a0",
     "showTitle": false,
     "title": ""
    }
   },
   "outputs": [],
   "source": [
    "task.drop_duplicates(subset=['ID'], keep='first', inplace=True)\n",
    "task_columns = get_not_missing_data_columns(task, threshold=20)\n",
    "task_0 = task[task_columns].copy()\n",
    "columns_to_drop = ['ISRECURRENCE', 'ISREMINDERSET', 'CALLOBJECT', 'ISARCHIVED', 'SYSTEMMODSTAMP', 'LASTMODIFIEDBYID', 'SUBJECT',\n",
    "                   'LASTMODIFIEDDATE', 'CREATEDBYID', 'CREATEDDATE', 'ISDELETED', 'DESCRIPTION', 'OWNERID', 'ACTIVITYDATE']\n",
    "task_0.drop(columns=columns_to_drop, axis=0, inplace=True)"
   ]
  },
  {
   "cell_type": "code",
   "execution_count": null,
   "metadata": {
    "application/vnd.databricks.v1+cell": {
     "cellMetadata": {
      "byteLimit": 2048000,
      "rowLimit": 10000
     },
     "inputWidgets": {},
     "nuid": "9c3d8d56-b224-4d52-bb62-638f9d19d872",
     "showTitle": false,
     "title": ""
    }
   },
   "outputs": [],
   "source": [
    "snowflake_options['schema'] = 'pre_data'\n",
    "ctx = snowflake.connector.connect(\n",
    "    user=snowflake_options['user'],\n",
    "    password=snowflake_options['password'],\n",
    "    account=snowflake_options['account'],\n",
    "    warehouse=snowflake_options['warehouse'],\n",
    "    database=snowflake_options['database'],\n",
    "    schema=snowflake_options['schema']\n",
    ")"
   ]
  },
  {
   "cell_type": "code",
   "execution_count": null,
   "metadata": {
    "application/vnd.databricks.v1+cell": {
     "cellMetadata": {
      "byteLimit": 2048000,
      "rowLimit": 10000
     },
     "inputWidgets": {},
     "nuid": "1166d700-65e0-49ef-924b-9bfe60324ce7",
     "showTitle": false,
     "title": ""
    }
   },
   "outputs": [],
   "source": [
    "account_query = \"\"\"\n",
    "    CREATE OR REPLACE TABLE account (\n",
    "        HQ_LOCATION__C STRING,\n",
    "        GROWTH_RATE__C FLOAT,\n",
    "        TOTAL_FUNDING_TO_DATE__C FLOAT,\n",
    "        YEARSTARTED INT,\n",
    "        ACCOUNTSOURCE STRING,\n",
    "        ANNUALREVENUE FLOAT,\n",
    "        RATING STRING,\n",
    "        NUMBEROFEMPLOYEES INT,\n",
    "        OWNERSHIP STRING,\n",
    "        INDUSTRY STRING,\n",
    "        TYPE STRING,\n",
    "        NAME STRING,\n",
    "        OWNER_INTENT_TO_SELL__C BOOLEAN,\n",
    "        ID STRING PRIMARY KEY\n",
    "    )\n",
    "\"\"\""
   ]
  },
  {
   "cell_type": "code",
   "execution_count": null,
   "metadata": {
    "application/vnd.databricks.v1+cell": {
     "cellMetadata": {
      "byteLimit": 2048000,
      "rowLimit": 10000
     },
     "inputWidgets": {},
     "nuid": "362ee9d1-fab8-4e66-ac27-58da07e0d6a8",
     "showTitle": false,
     "title": ""
    }
   },
   "outputs": [],
   "source": [
    "opportunity_query = \"\"\"\n",
    "    CREATE OR REPLACE TABLE opportunity (\n",
    "        ID STRING PRIMARY KEY,\n",
    "        FISCALYEAR INT,\n",
    "        FORECASTCATEGORYNAME STRING,\n",
    "        FORECASTCATEGORY STRING,\n",
    "        ISWON BOOLEAN,\n",
    "        ISCLOSED BOOLEAN,\n",
    "        LEADSOURCE STRING,\n",
    "        TYPE STRING,\n",
    "        EXPECTEDREVENUE FLOAT,\n",
    "        PROBABILITY FLOAT,\n",
    "        AMOUNT FLOAT,\n",
    "        STAGENAME STRING,\n",
    "        NAME STRING,\n",
    "        ACCOUNTID STRING,\n",
    "        HASOVERDUETASK STRING\n",
    "    )\n",
    "\"\"\""
   ]
  },
  {
   "cell_type": "code",
   "execution_count": null,
   "metadata": {
    "application/vnd.databricks.v1+cell": {
     "cellMetadata": {
      "byteLimit": 2048000,
      "rowLimit": 10000
     },
     "inputWidgets": {},
     "nuid": "7c1ed001-f8d8-46f2-b5d6-0e35f6c2ed26",
     "showTitle": false,
     "title": ""
    }
   },
   "outputs": [],
   "source": [
    "task_query = \"\"\"\n",
    "    CREATE OR REPLACE TABLE task (\n",
    "        ID STRING PRIMARY KEY,\n",
    "        WHOID STRING,\n",
    "        CALLDISPOSITION STRING,\n",
    "        CALLTYPE STRING,\n",
    "        CALLDURATIONINSECONDS INT,\n",
    "        ISCLOSED BOOLEAN,\n",
    "        ACCOUNTID STRING,\n",
    "        ISHIGHPRIORITY BOOLEAN,\n",
    "        PRIORITY STRING,\n",
    "        STATUS STRING,\n",
    "        WHATID STRING,\n",
    "        TASKSUBTYPE STRING\n",
    "    )\n",
    "\"\"\""
   ]
  },
  {
   "cell_type": "code",
   "execution_count": null,
   "metadata": {
    "application/vnd.databricks.v1+cell": {
     "cellMetadata": {
      "byteLimit": 2048000,
      "rowLimit": 10000
     },
     "inputWidgets": {},
     "nuid": "51cc83e8-d5e3-4ad7-894f-75dd8d29fa61",
     "showTitle": false,
     "title": ""
    }
   },
   "outputs": [],
   "source": [
    "contact_query = \"\"\"\n",
    "    CREATE OR REPLACE TABLE contact (\n",
    "        MAILINGSTATE STRING,\n",
    "        DEPARTMENT STRING,\n",
    "        ID STRING PRIMARY KEY,\n",
    "        TITLE STRING,\n",
    "        NAME STRING,\n",
    "        ACCOUNTID STRING\n",
    "    )\n",
    "\"\"\""
   ]
  },
  {
   "cell_type": "code",
   "execution_count": null,
   "metadata": {
    "application/vnd.databricks.v1+cell": {
     "cellMetadata": {
      "byteLimit": 2048000,
      "rowLimit": 10000
     },
     "inputWidgets": {},
     "nuid": "b0c1f333-851e-41c1-954a-c636f8324ebf",
     "showTitle": false,
     "title": ""
    }
   },
   "outputs": [],
   "source": [
    "cursor = ctx.cursor()\n",
    "table_query = [('account', account_query), ('opportunity', opportunity_query), ('contact', contact_query), ('task', task_query)]\n",
    "for table, query in table_query:\n",
    "    cursor.execute(query)"
   ]
  },
  {
   "cell_type": "code",
   "execution_count": null,
   "metadata": {
    "application/vnd.databricks.v1+cell": {
     "cellMetadata": {
      "byteLimit": 2048000,
      "rowLimit": 10000
     },
     "inputWidgets": {},
     "nuid": "2582a250-06e4-4f05-b212-bd8f36a3cb38",
     "showTitle": false,
     "title": ""
    }
   },
   "outputs": [],
   "source": [
    "cursor.close()\n",
    "ctx.close()"
   ]
  },
  {
   "cell_type": "code",
   "execution_count": null,
   "metadata": {
    "application/vnd.databricks.v1+cell": {
     "cellMetadata": {
      "byteLimit": 2048000,
      "rowLimit": 10000
     },
     "inputWidgets": {},
     "nuid": "94b48b15-993d-40ee-830f-292ce83b6fdb",
     "showTitle": false,
     "title": ""
    }
   },
   "outputs": [],
   "source": [
    "snowflake_options['schema'] = 'pre_data'\n",
    "ctx = snowflake.connector.connect(\n",
    "    user=snowflake_options['user'],\n",
    "    password=snowflake_options['password'],\n",
    "    account=snowflake_options['account'],\n",
    "    warehouse=snowflake_options['warehouse'],\n",
    "    database=snowflake_options['database'],\n",
    "    schema=snowflake_options['schema']\n",
    ")"
   ]
  },
  {
   "cell_type": "code",
   "execution_count": null,
   "metadata": {
    "application/vnd.databricks.v1+cell": {
     "cellMetadata": {
      "byteLimit": 2048000,
      "rowLimit": 10000
     },
     "inputWidgets": {},
     "nuid": "ad3a9c4e-a4d9-4ba1-9988-2ec3dc303c16",
     "showTitle": false,
     "title": ""
    }
   },
   "outputs": [],
   "source": [
    "def upload_to_snowflake(df, table_name):\n",
    "    success, nchunks, nrows, _ = write_pandas(ctx, df, table_name)\n",
    "    return success, nchunks, nrows"
   ]
  },
  {
   "cell_type": "code",
   "execution_count": null,
   "metadata": {
    "application/vnd.databricks.v1+cell": {
     "cellMetadata": {
      "byteLimit": 2048000,
      "rowLimit": 10000
     },
     "inputWidgets": {},
     "nuid": "4334cc6e-ce14-4c05-a690-ba535bc4fe22",
     "showTitle": false,
     "title": ""
    }
   },
   "outputs": [],
   "source": [
    "account_0.reset_index(drop=True, inplace=True)\n",
    "opportunity_0.reset_index(drop=True, inplace=True)\n",
    "task_0.reset_index(drop=True, inplace=True)\n",
    "contact_0.reset_index(drop=True, inplace=True)"
   ]
  },
  {
   "cell_type": "code",
   "execution_count": null,
   "metadata": {
    "application/vnd.databricks.v1+cell": {
     "cellMetadata": {
      "byteLimit": 2048000,
      "rowLimit": 10000
     },
     "inputWidgets": {},
     "nuid": "e541d5cd-49f8-42ea-9e2a-aaf1084a5596",
     "showTitle": false,
     "title": ""
    }
   },
   "outputs": [
    {
     "data": {
      "text/plain": [
       "(True, 1, 452)"
      ]
     },
     "execution_count": 98,
     "metadata": {},
     "output_type": "execute_result"
    }
   ],
   "source": [
    "upload_to_snowflake(account_0, 'ACCOUNT')\n",
    "upload_to_snowflake(opportunity_0, 'OPPORTUNITY')\n",
    "upload_to_snowflake(task_0, 'TASK')\n",
    "upload_to_snowflake(contact_0, 'CONTACT')"
   ]
  },
  {
   "cell_type": "code",
   "execution_count": null,
   "metadata": {
    "application/vnd.databricks.v1+cell": {
     "cellMetadata": {
      "byteLimit": 2048000,
      "rowLimit": 10000
     },
     "inputWidgets": {},
     "nuid": "e56c90c1-3aa7-4279-863c-bdd4c3bd1d67",
     "showTitle": false,
     "title": ""
    }
   },
   "outputs": [],
   "source": [
    "ctx.close()"
   ]
  },
  {
   "cell_type": "code",
   "execution_count": null,
   "metadata": {
    "application/vnd.databricks.v1+cell": {
     "cellMetadata": {},
     "inputWidgets": {},
     "nuid": "30649f2f-1a79-4e60-85e1-14c97e748ddb",
     "showTitle": false,
     "title": ""
    }
   },
   "outputs": [],
   "source": []
  }
 ],
 "metadata": {
  "application/vnd.databricks.v1+notebook": {
   "dashboards": [],
   "environmentMetadata": null,
   "language": "python",
   "notebookMetadata": {
    "pythonIndentUnit": 4
   },
   "notebookName": "preprocess_data_pipeline",
   "widgets": {}
  },
  "kernelspec": {
   "display_name": "Python 3.10.4 64-bit",
   "language": "python",
   "name": "python3"
  },
  "language_info": {
   "codemirror_mode": {
    "name": "ipython",
    "version": 3
   },
   "file_extension": ".py",
   "mimetype": "text/x-python",
   "name": "python",
   "nbconvert_exporter": "python",
   "pygments_lexer": "ipython3",
   "version": "3.10.4"
  },
  "vscode": {
   "interpreter": {
    "hash": "916dbcbb3f70747c44a77c7bcd40155683ae19c65e1c03b4aa3499c5328201f1"
   }
  }
 },
 "nbformat": 4,
 "nbformat_minor": 0
}
