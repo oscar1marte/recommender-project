{
 "cells": [
  {
   "cell_type": "code",
   "execution_count": 43,
   "metadata": {},
   "outputs": [],
   "source": [
    "import snowflake.connector\n",
    "import pandas as pd\n",
    "import numpy as np"
   ]
  },
  {
   "cell_type": "code",
   "execution_count": 1,
   "metadata": {},
   "outputs": [],
   "source": [
    "account = 'XXXXXXXXXXXXXXXX'\n",
    "user = 'XXXXXXXXXXXXXXXX'\n",
    "password = 'XXXXXXXXXXXXXXXX'\n",
    "database = 'XXXXXXXXXXXXXXXX'\n",
    "schema = 'XXXXXXXXXXXXXXXX'\n",
    "warehouse = 'XXXXXXXXXXXXXXXX'"
   ]
  },
  {
   "cell_type": "code",
   "execution_count": 45,
   "metadata": {},
   "outputs": [],
   "source": [
    "ctx = snowflake.connector.connect(\n",
    "    user=user,\n",
    "    password=password,\n",
    "    account=account,\n",
    "    database=database,\n",
    "    schema=schema,\n",
    "    warehouse=warehouse\n",
    ")\n",
    "\n",
    "account_query = \"select * from salesforce_db.raw_data.account\"\n",
    "contact_query = \"select * from salesforce_db.raw_data.contact\"\n",
    "opportunity_query = \"select * from salesforce_db.raw_data.opportunity\"\n",
    "opportunitystage_query = \"select * from salesforce_db.raw_data.opportunitystage\"\n",
    "task_query = \"select * from salesforce_db.raw_data.task\""
   ]
  },
  {
   "cell_type": "code",
   "execution_count": 46,
   "metadata": {},
   "outputs": [],
   "source": [
    "def get_table(ctx, query):\n",
    "    cs = ctx.cursor()\n",
    "    try:\n",
    "        cs.execute(query)\n",
    "        df = cs.fetch_pandas_all()\n",
    "    finally:\n",
    "        cs.close()\n",
    "    return df\n",
    "\n",
    "def print_missing_data_percentage(df, threshold=50):\n",
    "    # Calculate the percentage of missing data for each column\n",
    "    missing_data_percentage = df.isnull().mean() * 100\n",
    "\n",
    "    # Filter columns with missing data greater than or equal to the threshold\n",
    "    filtered_columns = missing_data_percentage[missing_data_percentage <= threshold]\n",
    "\n",
    "    # Print the percentage of missing data for each filtered column\n",
    "    print(f\"Columns with Missing Data Less Than or Equal to {threshold}%:\")\n",
    "    columns = []\n",
    "    for column, percentage in filtered_columns.sort_values(ascending=False).items():\n",
    "        print(f\"{column}: {percentage:.2f}%\")\n",
    "        columns.append(column)\n",
    "    return columns"
   ]
  },
  {
   "cell_type": "code",
   "execution_count": 47,
   "metadata": {},
   "outputs": [],
   "source": [
    "account = get_table(ctx, account_query)\n",
    "opportunity = get_table(ctx, opportunity_query)\n",
    "contact = get_table(ctx, contact_query)\n",
    "opportunitystage = get_table(ctx, opportunitystage_query)\n",
    "task = get_table(ctx, task_query)"
   ]
  },
  {
   "cell_type": "code",
   "execution_count": 48,
   "metadata": {},
   "outputs": [],
   "source": [
    "ctx.close()"
   ]
  },
  {
   "cell_type": "code",
   "execution_count": 49,
   "metadata": {},
   "outputs": [],
   "source": [
    "account.to_csv(\"raw_data/account.csv\", index=False)\n",
    "opportunity.to_csv(\"raw_data/opportunity.csv\", index=False)\n",
    "opportunitystage.to_csv(\"raw_data/opportunitystage.csv\", index=False)\n",
    "task.to_csv(\"raw_data/task.csv\", index=False)\n",
    "contact.to_csv(\"raw_data/contact.csv\", index=False)"
   ]
  },
  {
   "cell_type": "code",
   "execution_count": 50,
   "metadata": {},
   "outputs": [
    {
     "name": "stdout",
     "output_type": "stream",
     "text": [
      "Missing Values:\n",
      "Columns with Missing Data Less Than or Equal to 20%:\n",
      "HQ_LOCATION__C: 1.64%\n",
      "GROWTH_RATE__C: 1.64%\n",
      "TOTAL_FUNDING_TO_DATE__C: 1.64%\n",
      "YEARSTARTED: 1.64%\n",
      "ACCOUNTSOURCE: 1.64%\n",
      "BILLINGLATITUDE: 1.64%\n",
      "BILLINGLONGITUDE: 1.64%\n",
      "SITE: 1.64%\n",
      "BILLINGPOSTALCODE: 1.48%\n",
      "BILLINGCOUNTRY: 1.48%\n",
      "ANNUALREVENUE: 0.66%\n",
      "DESCRIPTION: 0.66%\n",
      "RATING: 0.49%\n",
      "TICKERSYMBOL: 0.49%\n",
      "BILLINGCITY: 0.33%\n",
      "NUMBEROFEMPLOYEES: 0.16%\n",
      "OWNERSHIP: 0.16%\n",
      "INDUSTRY: 0.16%\n",
      "WEBSITE: 0.16%\n",
      "FAX: 0.16%\n",
      "PHONE: 0.16%\n",
      "TYPE: 0.16%\n",
      "BILLINGSTREET: 0.16%\n",
      "BILLINGSTATE: 0.16%\n",
      "SYSTEMMODSTAMP: 0.00%\n",
      "NAME: 0.00%\n",
      "OWNER_INTENT_TO_SELL__C: 0.00%\n",
      "CLEANSTATUS: 0.00%\n",
      "LASTMODIFIEDDATE: 0.00%\n",
      "LASTMODIFIEDBYID: 0.00%\n",
      "ISDELETED: 0.00%\n",
      "CREATEDBYID: 0.00%\n",
      "CREATEDDATE: 0.00%\n",
      "OWNERID: 0.00%\n",
      "PHOTOURL: 0.00%\n",
      "ID: 0.00%\n"
     ]
    }
   ],
   "source": [
    "# Handling Missing Values\n",
    "print(\"Missing Values:\")\n",
    "account_columns = print_missing_data_percentage(account, threshold=20)"
   ]
  },
  {
   "cell_type": "code",
   "execution_count": 51,
   "metadata": {},
   "outputs": [
    {
     "name": "stdout",
     "output_type": "stream",
     "text": [
      "# columns: 36\n"
     ]
    }
   ],
   "source": [
    "print(f\"# columns: {len(account_columns)}\")\n",
    "account_0 = account[account_columns].copy()\n",
    "account_0.dropna(subset=['HQ_LOCATION__C', 'GROWTH_RATE__C', 'TOTAL_FUNDING_TO_DATE__C', 'OWNER_INTENT_TO_SELL__C'], inplace=True)\n",
    "columns_to_drop = ['BILLINGLATITUDE', 'BILLINGLONGITUDE', 'BILLINGPOSTALCODE', 'BILLINGCOUNTRY', 'DESCRIPTION', 'TICKERSYMBOL',\n",
    "                   'BILLINGCITY', 'SITE', 'WEBSITE', 'FAX', 'PHONE', 'BILLINGSTREET', 'SYSTEMMODSTAMP', 'CLEANSTATUS', 'BILLINGSTATE',\n",
    "                   'LASTMODIFIEDDATE', 'LASTMODIFIEDBYID', 'ISDELETED', 'CREATEDBYID', 'CREATEDDATE', 'OWNERID', 'PHOTOURL']\n",
    "account_0.drop(columns=columns_to_drop, axis=0, inplace=True)"
   ]
  },
  {
   "cell_type": "code",
   "execution_count": 52,
   "metadata": {},
   "outputs": [
    {
     "name": "stdout",
     "output_type": "stream",
     "text": [
      "Duplicates: 0\n"
     ]
    }
   ],
   "source": [
    "# Check for duplicates\n",
    "print(f\"Duplicates: {account_0.duplicated().sum()}\")"
   ]
  },
  {
   "cell_type": "code",
   "execution_count": 53,
   "metadata": {},
   "outputs": [
    {
     "name": "stdout",
     "output_type": "stream",
     "text": [
      "Missing Values:\n",
      "Columns with Missing Data Less Than or Equal to 20%:\n",
      "ID: 0.00%\n",
      "ISDELETED: 0.00%\n",
      "HASOPENACTIVITY: 0.00%\n",
      "FISCAL: 0.00%\n",
      "FISCALYEAR: 0.00%\n",
      "FISCALQUARTER: 0.00%\n",
      "SYSTEMMODSTAMP: 0.00%\n",
      "LASTMODIFIEDBYID: 0.00%\n",
      "LASTMODIFIEDDATE: 0.00%\n",
      "CREATEDBYID: 0.00%\n",
      "CREATEDDATE: 0.00%\n",
      "OWNERID: 0.00%\n",
      "HASOPPORTUNITYLINEITEM: 0.00%\n",
      "FORECASTCATEGORYNAME: 0.00%\n",
      "FORECASTCATEGORY: 0.00%\n",
      "ISWON: 0.00%\n",
      "ISCLOSED: 0.00%\n",
      "LEADSOURCE: 0.00%\n",
      "NEXTSTEP: 0.00%\n",
      "TYPE: 0.00%\n",
      "CLOSEDATE: 0.00%\n",
      "EXPECTEDREVENUE: 0.00%\n",
      "PROBABILITY: 0.00%\n",
      "AMOUNT: 0.00%\n",
      "STAGENAME: 0.00%\n",
      "DESCRIPTION: 0.00%\n",
      "NAME: 0.00%\n",
      "ISPRIVATE: 0.00%\n",
      "ACCOUNTID: 0.00%\n",
      "HASOVERDUETASK: 0.00%\n"
     ]
    }
   ],
   "source": [
    "opportunity.drop_duplicates(subset=['ID', 'ACCOUNTID'], keep='first', inplace=True)\n",
    "# Handling Missing Values\n",
    "print(\"Missing Values:\")\n",
    "opportunity_columns = print_missing_data_percentage(opportunity, threshold=20)"
   ]
  },
  {
   "cell_type": "code",
   "execution_count": 54,
   "metadata": {},
   "outputs": [
    {
     "name": "stdout",
     "output_type": "stream",
     "text": [
      "# columns: 30\n"
     ]
    }
   ],
   "source": [
    "print(f\"# columns: {len(opportunity_columns)}\")\n",
    "opportunity_0 = opportunity[opportunity_columns].copy()\n",
    "columns_to_drop = ['ISDELETED', 'FISCAL', 'FISCALQUARTER', 'SYSTEMMODSTAMP', 'LASTMODIFIEDBYID', 'LASTMODIFIEDDATE',\n",
    "                   'CREATEDBYID', 'CREATEDDATE', 'OWNERID', 'HASOPPORTUNITYLINEITEM', 'HASOPENACTIVITY', 'NEXTSTEP',\n",
    "                   'CLOSEDATE', 'DESCRIPTION', 'ISPRIVATE']\n",
    "opportunity_0.drop(columns=columns_to_drop, axis=0, inplace=True)"
   ]
  },
  {
   "cell_type": "code",
   "execution_count": 55,
   "metadata": {},
   "outputs": [
    {
     "name": "stdout",
     "output_type": "stream",
     "text": [
      "Duplicates: 0\n"
     ]
    }
   ],
   "source": [
    "# Check for duplicates\n",
    "print(f\"Duplicates: {opportunity_0.duplicated().sum()}\")"
   ]
  },
  {
   "cell_type": "code",
   "execution_count": 56,
   "metadata": {},
   "outputs": [
    {
     "name": "stdout",
     "output_type": "stream",
     "text": [
      "Missing Values:\n",
      "Columns with Missing Data Less Than or Equal to 20%:\n",
      "HOMEPHONE: 3.23%\n",
      "DESCRIPTION: 3.23%\n",
      "MAILINGCITY: 3.01%\n",
      "MAILINGSTATE: 3.01%\n",
      "MAILINGCOUNTRY: 3.01%\n",
      "DEPARTMENT: 0.22%\n",
      "MOBILEPHONE: 0.22%\n",
      "BIRTHDATE: 0.22%\n",
      "PHOTOURL: 0.00%\n",
      "ISEMAILBOUNCED: 0.00%\n",
      "SYSTEMMODSTAMP: 0.00%\n",
      "LASTMODIFIEDBYID: 0.00%\n",
      "LASTMODIFIEDDATE: 0.00%\n",
      "CREATEDBYID: 0.00%\n",
      "CREATEDDATE: 0.00%\n",
      "OWNERID: 0.00%\n",
      "ID: 0.00%\n",
      "TITLE: 0.00%\n",
      "EMAIL: 0.00%\n",
      "ISDELETED: 0.00%\n",
      "FAX: 0.00%\n",
      "PHONE: 0.00%\n",
      "MAILINGSTREET: 0.00%\n",
      "NAME: 0.00%\n",
      "SALUTATION: 0.00%\n",
      "FIRSTNAME: 0.00%\n",
      "LASTNAME: 0.00%\n",
      "ACCOUNTID: 0.00%\n",
      "CLEANSTATUS: 0.00%\n"
     ]
    }
   ],
   "source": [
    "# Handling Missing Values\n",
    "print(\"Missing Values:\")\n",
    "contact_columns = print_missing_data_percentage(contact, threshold=20)"
   ]
  },
  {
   "cell_type": "code",
   "execution_count": 57,
   "metadata": {},
   "outputs": [
    {
     "name": "stdout",
     "output_type": "stream",
     "text": [
      "# columns: 29\n"
     ]
    }
   ],
   "source": [
    "print(f\"# columns: {len(contact_columns)}\")\n",
    "contact_0 = contact[contact_columns].copy()\n",
    "columns_to_drop = ['HOMEPHONE', 'DESCRIPTION', 'MAILINGCITY', 'MAILINGCOUNTRY', 'MOBILEPHONE', 'BIRTHDATE', 'PHOTOURL', 'ISEMAILBOUNCED',\n",
    "                   'SYSTEMMODSTAMP', 'LASTMODIFIEDBYID', 'LASTMODIFIEDDATE', 'CREATEDBYID', 'CREATEDDATE', 'OWNERID', 'EMAIL', 'ISDELETED',\n",
    "                   'FAX', 'PHONE', 'MAILINGSTREET', 'SALUTATION', 'FIRSTNAME', 'LASTNAME', 'CLEANSTATUS']\n",
    "contact_0.drop(columns=columns_to_drop, axis=0, inplace=True)\n",
    "values_to_drop = ['Production', 'Technology', 'Procurement', 'Facilities', 'Operations', 'Warehouse Mgmt', 'Administration', 'Executive Team']\n",
    "contact_0 = contact_0[~contact_0['DEPARTMENT'].isin(values_to_drop)]\n",
    "values_to_drop = ['VP, Facilities', 'VP, Production', 'VP, Technology', 'SVP, Procurement', 'VP, Finance', 'Dean of Administration', 'Director,Warehouse Mgmt',\n",
    "                  'SVP, Operations', 'SVP, Technology', 'SVP, Production', 'SVP, Administration and Finance', 'Regional General Manager']\n",
    "contact_0 = contact_0[~contact_0['TITLE'].isin(values_to_drop)]"
   ]
  },
  {
   "cell_type": "code",
   "execution_count": 58,
   "metadata": {},
   "outputs": [
    {
     "name": "stdout",
     "output_type": "stream",
     "text": [
      "Missing Values:\n",
      "Columns with Missing Data Less Than or Equal to 20%:\n",
      "ID: 0.00%\n",
      "WHOID: 0.00%\n",
      "ISRECURRENCE: 0.00%\n",
      "ISREMINDERSET: 0.00%\n",
      "CALLOBJECT: 0.00%\n",
      "CALLDISPOSITION: 0.00%\n",
      "CALLTYPE: 0.00%\n",
      "CALLDURATIONINSECONDS: 0.00%\n",
      "ISARCHIVED: 0.00%\n",
      "SYSTEMMODSTAMP: 0.00%\n",
      "LASTMODIFIEDBYID: 0.00%\n",
      "LASTMODIFIEDDATE: 0.00%\n",
      "CREATEDBYID: 0.00%\n",
      "CREATEDDATE: 0.00%\n",
      "ISCLOSED: 0.00%\n",
      "ACCOUNTID: 0.00%\n",
      "ISDELETED: 0.00%\n",
      "DESCRIPTION: 0.00%\n",
      "OWNERID: 0.00%\n",
      "ISHIGHPRIORITY: 0.00%\n",
      "PRIORITY: 0.00%\n",
      "STATUS: 0.00%\n",
      "ACTIVITYDATE: 0.00%\n",
      "SUBJECT: 0.00%\n",
      "WHATID: 0.00%\n",
      "TASKSUBTYPE: 0.00%\n"
     ]
    }
   ],
   "source": [
    "task.drop_duplicates(subset=['ID'], keep='first', inplace=True)\n",
    "# Handling Missing Values\n",
    "print(\"Missing Values:\")\n",
    "task_columns = print_missing_data_percentage(task, threshold=20)"
   ]
  },
  {
   "cell_type": "code",
   "execution_count": 59,
   "metadata": {},
   "outputs": [
    {
     "name": "stdout",
     "output_type": "stream",
     "text": [
      "# columns: 26\n"
     ]
    }
   ],
   "source": [
    "print(f\"# columns: {len(task_columns)}\")\n",
    "task_0 = task[task_columns].copy()\n",
    "columns_to_drop = ['ISRECURRENCE', 'ISREMINDERSET', 'CALLOBJECT', 'ISARCHIVED', 'SYSTEMMODSTAMP', 'LASTMODIFIEDBYID', 'SUBJECT',\n",
    "                   'LASTMODIFIEDDATE', 'CREATEDBYID', 'CREATEDDATE', 'ISDELETED', 'DESCRIPTION', 'OWNERID', 'ACTIVITYDATE']\n",
    "task_0.drop(columns=columns_to_drop, axis=0, inplace=True)"
   ]
  },
  {
   "cell_type": "code",
   "execution_count": 60,
   "metadata": {},
   "outputs": [],
   "source": [
    "account_0.to_csv('data/account.csv', index=False)\n",
    "opportunity_0.to_csv('data/opportunity.csv', index=False)\n",
    "contact_0.to_csv('data/contact.csv', index=False)\n",
    "task_0.to_csv('data/task.csv', index=False)"
   ]
  },
  {
   "cell_type": "code",
   "execution_count": null,
   "metadata": {},
   "outputs": [],
   "source": []
  }
 ],
 "metadata": {
  "kernelspec": {
   "display_name": "Python 3.10.4 64-bit",
   "language": "python",
   "name": "python3"
  },
  "language_info": {
   "codemirror_mode": {
    "name": "ipython",
    "version": 3
   },
   "file_extension": ".py",
   "mimetype": "text/x-python",
   "name": "python",
   "nbconvert_exporter": "python",
   "pygments_lexer": "ipython3",
   "version": "3.10.4"
  },
  "orig_nbformat": 4,
  "vscode": {
   "interpreter": {
    "hash": "31f2aee4e71d21fbe5cf8b01ff0e069b9275f58929596ceb00d14d90e3e16cd6"
   }
  }
 },
 "nbformat": 4,
 "nbformat_minor": 2
}
