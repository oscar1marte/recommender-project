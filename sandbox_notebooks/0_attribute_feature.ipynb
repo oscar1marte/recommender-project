{
 "cells": [
  {
   "cell_type": "code",
   "execution_count": 1,
   "metadata": {},
   "outputs": [],
   "source": [
    "import pandas as pd\n",
    "import numpy as np\n",
    "\n",
    "from sklearn.preprocessing import LabelEncoder, OneHotEncoder\n",
    "from sklearn.preprocessing import StandardScaler\n",
    "from sklearn.model_selection import train_test_split\n",
    "import lightgbm as lgb\n",
    "from sklearn.metrics import classification_report, confusion_matrix, accuracy_score\n",
    "from sklearn.linear_model import LogisticRegression\n",
    "from imblearn.over_sampling import SMOTE"
   ]
  },
  {
   "cell_type": "code",
   "execution_count": 2,
   "metadata": {},
   "outputs": [],
   "source": [
    "account = pd.read_csv('data/account.csv')\n",
    "contact = pd.read_csv('data/contact.csv')\n",
    "opportunity = pd.read_csv('data/opportunity.csv')\n",
    "task = pd.read_csv('data/task.csv')"
   ]
  },
  {
   "cell_type": "code",
   "execution_count": 3,
   "metadata": {},
   "outputs": [],
   "source": [
    "dataset = account.merge(opportunity, left_on='ID', right_on='ACCOUNTID', how='left', suffixes=('_ACC', '_OPP'))"
   ]
  },
  {
   "cell_type": "code",
   "execution_count": 4,
   "metadata": {},
   "outputs": [
    {
     "data": {
      "text/html": [
       "<div>\n",
       "<style scoped>\n",
       "    .dataframe tbody tr th:only-of-type {\n",
       "        vertical-align: middle;\n",
       "    }\n",
       "\n",
       "    .dataframe tbody tr th {\n",
       "        vertical-align: top;\n",
       "    }\n",
       "\n",
       "    .dataframe thead th {\n",
       "        text-align: right;\n",
       "    }\n",
       "</style>\n",
       "<table border=\"1\" class=\"dataframe\">\n",
       "  <thead>\n",
       "    <tr style=\"text-align: right;\">\n",
       "      <th></th>\n",
       "      <th>HQ_LOCATION__C</th>\n",
       "      <th>GROWTH_RATE__C</th>\n",
       "      <th>TOTAL_FUNDING_TO_DATE__C</th>\n",
       "      <th>YEARSTARTED</th>\n",
       "      <th>ACCOUNTSOURCE</th>\n",
       "      <th>ANNUALREVENUE</th>\n",
       "      <th>RATING</th>\n",
       "      <th>NUMBEROFEMPLOYEES</th>\n",
       "      <th>OWNERSHIP</th>\n",
       "      <th>INDUSTRY</th>\n",
       "      <th>...</th>\n",
       "      <th>ISWON</th>\n",
       "      <th>ISCLOSED</th>\n",
       "      <th>LEADSOURCE</th>\n",
       "      <th>TYPE_OPP</th>\n",
       "      <th>EXPECTEDREVENUE</th>\n",
       "      <th>PROBABILITY</th>\n",
       "      <th>AMOUNT</th>\n",
       "      <th>STAGENAME</th>\n",
       "      <th>NAME_OPP</th>\n",
       "      <th>ACCOUNTID</th>\n",
       "    </tr>\n",
       "  </thead>\n",
       "  <tbody>\n",
       "    <tr>\n",
       "      <th>0</th>\n",
       "      <td>Florida</td>\n",
       "      <td>28.0</td>\n",
       "      <td>12618042.50</td>\n",
       "      <td>2024</td>\n",
       "      <td>Incubator/Accelerator Programs</td>\n",
       "      <td>9210250.0</td>\n",
       "      <td>Hot</td>\n",
       "      <td>47</td>\n",
       "      <td>Private</td>\n",
       "      <td>Media</td>\n",
       "      <td>...</td>\n",
       "      <td>False</td>\n",
       "      <td>True</td>\n",
       "      <td>Incubator/Accelerator Programs</td>\n",
       "      <td>New Business</td>\n",
       "      <td>0.00</td>\n",
       "      <td>0.0</td>\n",
       "      <td>1.013128e+06</td>\n",
       "      <td>Closed Lost</td>\n",
       "      <td>Investment</td>\n",
       "      <td>001ak00000IqvqPAAR</td>\n",
       "    </tr>\n",
       "    <tr>\n",
       "      <th>1</th>\n",
       "      <td>South Dakota</td>\n",
       "      <td>240.0</td>\n",
       "      <td>36166195.73</td>\n",
       "      <td>2018</td>\n",
       "      <td>Incubator/Accelerator Programs</td>\n",
       "      <td>27607783.0</td>\n",
       "      <td>Cold</td>\n",
       "      <td>139</td>\n",
       "      <td>Public</td>\n",
       "      <td>Technology</td>\n",
       "      <td>...</td>\n",
       "      <td>False</td>\n",
       "      <td>False</td>\n",
       "      <td>Incubator/Accelerator Programs</td>\n",
       "      <td>Existing Business</td>\n",
       "      <td>11043113.20</td>\n",
       "      <td>20.0</td>\n",
       "      <td>5.521557e+07</td>\n",
       "      <td>Needs Analysis</td>\n",
       "      <td>Acquisition</td>\n",
       "      <td>001ak00000IqvqQAAR</td>\n",
       "    </tr>\n",
       "    <tr>\n",
       "      <th>2</th>\n",
       "      <td>Alaska</td>\n",
       "      <td>181.0</td>\n",
       "      <td>18847734.44</td>\n",
       "      <td>2016</td>\n",
       "      <td>Direct Referrals</td>\n",
       "      <td>22985042.0</td>\n",
       "      <td>Cold</td>\n",
       "      <td>115</td>\n",
       "      <td>Public</td>\n",
       "      <td>Recreation</td>\n",
       "      <td>...</td>\n",
       "      <td>False</td>\n",
       "      <td>False</td>\n",
       "      <td>Direct Referrals</td>\n",
       "      <td>Existing Business</td>\n",
       "      <td>1953728.57</td>\n",
       "      <td>50.0</td>\n",
       "      <td>3.907457e+06</td>\n",
       "      <td>Value Proposition</td>\n",
       "      <td>Investment</td>\n",
       "      <td>001ak00000IqvqRAAR</td>\n",
       "    </tr>\n",
       "    <tr>\n",
       "      <th>3</th>\n",
       "      <td>Indiana</td>\n",
       "      <td>82.0</td>\n",
       "      <td>5496170.00</td>\n",
       "      <td>2022</td>\n",
       "      <td>Networking Events</td>\n",
       "      <td>5496170.0</td>\n",
       "      <td>Warm</td>\n",
       "      <td>28</td>\n",
       "      <td>Subsidiary</td>\n",
       "      <td>Healthcare</td>\n",
       "      <td>...</td>\n",
       "      <td>False</td>\n",
       "      <td>True</td>\n",
       "      <td>Networking Events</td>\n",
       "      <td>New Business</td>\n",
       "      <td>0.00</td>\n",
       "      <td>0.0</td>\n",
       "      <td>7.694638e+05</td>\n",
       "      <td>Closed Lost</td>\n",
       "      <td>Investment</td>\n",
       "      <td>001ak00000IqvqSAAR</td>\n",
       "    </tr>\n",
       "    <tr>\n",
       "      <th>4</th>\n",
       "      <td>New Hampshire</td>\n",
       "      <td>32.0</td>\n",
       "      <td>28215066.73</td>\n",
       "      <td>2015</td>\n",
       "      <td>Business Brokers</td>\n",
       "      <td>47822147.0</td>\n",
       "      <td>Warm</td>\n",
       "      <td>240</td>\n",
       "      <td>Private</td>\n",
       "      <td>Finance</td>\n",
       "      <td>...</td>\n",
       "      <td>False</td>\n",
       "      <td>True</td>\n",
       "      <td>Business Brokers</td>\n",
       "      <td>Existing Business</td>\n",
       "      <td>0.00</td>\n",
       "      <td>0.0</td>\n",
       "      <td>1.142949e+08</td>\n",
       "      <td>Closed Lost</td>\n",
       "      <td>Acquisition</td>\n",
       "      <td>001ak00000IqvqTAAR</td>\n",
       "    </tr>\n",
       "  </tbody>\n",
       "</table>\n",
       "<p>5 rows × 28 columns</p>\n",
       "</div>"
      ],
      "text/plain": [
       "  HQ_LOCATION__C  GROWTH_RATE__C  TOTAL_FUNDING_TO_DATE__C  YEARSTARTED  \\\n",
       "0        Florida            28.0               12618042.50         2024   \n",
       "1   South Dakota           240.0               36166195.73         2018   \n",
       "2         Alaska           181.0               18847734.44         2016   \n",
       "3        Indiana            82.0                5496170.00         2022   \n",
       "4  New Hampshire            32.0               28215066.73         2015   \n",
       "\n",
       "                    ACCOUNTSOURCE  ANNUALREVENUE RATING  NUMBEROFEMPLOYEES  \\\n",
       "0  Incubator/Accelerator Programs      9210250.0    Hot                 47   \n",
       "1  Incubator/Accelerator Programs     27607783.0   Cold                139   \n",
       "2                Direct Referrals     22985042.0   Cold                115   \n",
       "3               Networking Events      5496170.0   Warm                 28   \n",
       "4                Business Brokers     47822147.0   Warm                240   \n",
       "\n",
       "    OWNERSHIP    INDUSTRY  ...  ISWON ISCLOSED  \\\n",
       "0     Private       Media  ...  False     True   \n",
       "1      Public  Technology  ...  False    False   \n",
       "2      Public  Recreation  ...  False    False   \n",
       "3  Subsidiary  Healthcare  ...  False     True   \n",
       "4     Private     Finance  ...  False     True   \n",
       "\n",
       "                       LEADSOURCE           TYPE_OPP EXPECTEDREVENUE  \\\n",
       "0  Incubator/Accelerator Programs       New Business            0.00   \n",
       "1  Incubator/Accelerator Programs  Existing Business     11043113.20   \n",
       "2                Direct Referrals  Existing Business      1953728.57   \n",
       "3               Networking Events       New Business            0.00   \n",
       "4                Business Brokers  Existing Business            0.00   \n",
       "\n",
       "   PROBABILITY        AMOUNT          STAGENAME     NAME_OPP  \\\n",
       "0          0.0  1.013128e+06        Closed Lost   Investment   \n",
       "1         20.0  5.521557e+07     Needs Analysis  Acquisition   \n",
       "2         50.0  3.907457e+06  Value Proposition   Investment   \n",
       "3          0.0  7.694638e+05        Closed Lost   Investment   \n",
       "4          0.0  1.142949e+08        Closed Lost  Acquisition   \n",
       "\n",
       "            ACCOUNTID  \n",
       "0  001ak00000IqvqPAAR  \n",
       "1  001ak00000IqvqQAAR  \n",
       "2  001ak00000IqvqRAAR  \n",
       "3  001ak00000IqvqSAAR  \n",
       "4  001ak00000IqvqTAAR  \n",
       "\n",
       "[5 rows x 28 columns]"
      ]
     },
     "execution_count": 4,
     "metadata": {},
     "output_type": "execute_result"
    }
   ],
   "source": [
    "dataset.head()"
   ]
  },
  {
   "cell_type": "code",
   "execution_count": 60,
   "metadata": {},
   "outputs": [],
   "source": [
    "columns_to_drop = ['HQ_LOCATION__C', 'YEARSTARTED', 'NAME_ACC', 'TRACKINGNUMBER__C', 'FORECASTCATEGORYNAME', 'FORECASTCATEGORY',\n",
    "                   'ISWON', 'ISCLOSED', 'ACCOUNTID', 'PROBABILITY', 'LEADSOURCE', 'INDUSTRY', 'EXPECTEDREVENUE', 'ACCOUNTSOURCE']\n",
    "numerical_columns = ['GROWTH_RATE__C', 'TOTAL_FUNDING_TO_DATE__C', 'ANNUALREVENUE', 'NUMBEROFEMPLOYEES', 'AMOUNT'] # PROBABILITY, 'EXPECTEDREVENUE', LEADSOURCE, INDUSTRY, ACCOUNTSOURCE\n",
    "categorical_columns = ['RATING', 'OWNERSHIP', 'TYPE_ACC']\n",
    "binary_columns = ['OWNER_INTENT_TO_SELL__C', 'TYPE_OPP']\n",
    "identificators = ['ID_ACC', 'ID_OPP']\n",
    "targets = ['STAGENAME', 'NAME_OPP']\n",
    "# I need to include Industry, I need to group them in a way.\n",
    "# Also I need to include HQ Location, and create a Revenue Range using AnnualRevenue"
   ]
  },
  {
   "cell_type": "code",
   "execution_count": 6,
   "metadata": {},
   "outputs": [
    {
     "data": {
      "text/plain": [
       "Investment     260\n",
       "Acquisition    240\n",
       "Name: NAME_OPP, dtype: int64"
      ]
     },
     "execution_count": 6,
     "metadata": {},
     "output_type": "execute_result"
    }
   ],
   "source": [
    "dataset.NAME_OPP.value_counts()"
   ]
  },
  {
   "cell_type": "code",
   "execution_count": 7,
   "metadata": {},
   "outputs": [],
   "source": [
    "def encode_categorical_columns(data, categorical_columns):\n",
    "    label_encoders = {}\n",
    "    \n",
    "    for column in categorical_columns:\n",
    "        le = LabelEncoder()\n",
    "        data[column] = le.fit_transform(data[column])\n",
    "        label_encoders[column] = le\n",
    "    \n",
    "    return data, label_encoders"
   ]
  },
  {
   "cell_type": "code",
   "execution_count": 8,
   "metadata": {},
   "outputs": [],
   "source": [
    "def drop_columns(data, columns_to_drop):\n",
    "    return data.drop(columns=columns_to_drop, axis=1)"
   ]
  },
  {
   "cell_type": "code",
   "execution_count": 9,
   "metadata": {},
   "outputs": [],
   "source": [
    "def onehot_encode_categorical_columns(data, categorical_columns, label_encoders):\n",
    "    onehot_encoded_df_list = []\n",
    "    \n",
    "    for column in categorical_columns:\n",
    "        le = label_encoders[column]\n",
    "\n",
    "        onehot_encoder = OneHotEncoder(sparse_output=False)\n",
    "        onehot_encoded_column = onehot_encoder.fit_transform(data[[column]])\n",
    "\n",
    "        categories = le.inverse_transform(np.arange(len(le.classes_)))\n",
    "        onehot_encoded_df = pd.DataFrame(onehot_encoded_column, columns=[f\"{column}_{category}\" for category in categories])\n",
    "        onehot_encoded_df_list.append(onehot_encoded_df)\n",
    "\n",
    "    data = data.drop(columns=categorical_columns)\n",
    "    data = pd.concat([data.reset_index(drop=True)] + onehot_encoded_df_list, axis=1)\n",
    "    \n",
    "    return data, onehot_encoder"
   ]
  },
  {
   "cell_type": "code",
   "execution_count": 10,
   "metadata": {},
   "outputs": [],
   "source": [
    "dataset = dataset[dataset.STAGENAME.isin(['Closed Won', 'Closed Lost'])]\n",
    "dataset, label_encoders = encode_categorical_columns(dataset, categorical_columns + targets + binary_columns)\n",
    "dataset = drop_columns(dataset, columns_to_drop)\n",
    "dataset, onehot_encoder = onehot_encode_categorical_columns(dataset, categorical_columns, label_encoders)"
   ]
  },
  {
   "cell_type": "code",
   "execution_count": 11,
   "metadata": {},
   "outputs": [
    {
     "data": {
      "text/html": [
       "<div>\n",
       "<style scoped>\n",
       "    .dataframe tbody tr th:only-of-type {\n",
       "        vertical-align: middle;\n",
       "    }\n",
       "\n",
       "    .dataframe tbody tr th {\n",
       "        vertical-align: top;\n",
       "    }\n",
       "\n",
       "    .dataframe thead th {\n",
       "        text-align: right;\n",
       "    }\n",
       "</style>\n",
       "<table border=\"1\" class=\"dataframe\">\n",
       "  <thead>\n",
       "    <tr style=\"text-align: right;\">\n",
       "      <th></th>\n",
       "      <th>GROWTH_RATE__C</th>\n",
       "      <th>TOTAL_FUNDING_TO_DATE__C</th>\n",
       "      <th>ANNUALREVENUE</th>\n",
       "      <th>NUMBEROFEMPLOYEES</th>\n",
       "      <th>OWNER_INTENT_TO_SELL__C</th>\n",
       "      <th>ID_ACC</th>\n",
       "      <th>ID_OPP</th>\n",
       "      <th>TYPE_OPP</th>\n",
       "      <th>AMOUNT</th>\n",
       "      <th>STAGENAME</th>\n",
       "      <th>NAME_OPP</th>\n",
       "      <th>RATING_Cold</th>\n",
       "      <th>RATING_Hot</th>\n",
       "      <th>RATING_Warm</th>\n",
       "      <th>OWNERSHIP_Private</th>\n",
       "      <th>OWNERSHIP_Public</th>\n",
       "      <th>OWNERSHIP_Subsidiary</th>\n",
       "      <th>TYPE_ACC_Established</th>\n",
       "      <th>TYPE_ACC_Growth Stage</th>\n",
       "      <th>TYPE_ACC_Startup</th>\n",
       "    </tr>\n",
       "  </thead>\n",
       "  <tbody>\n",
       "    <tr>\n",
       "      <th>0</th>\n",
       "      <td>28.0</td>\n",
       "      <td>1.261804e+07</td>\n",
       "      <td>9210250.0</td>\n",
       "      <td>47</td>\n",
       "      <td>1</td>\n",
       "      <td>001ak00000IqvqPAAR</td>\n",
       "      <td>006ak000002sEVlAAM</td>\n",
       "      <td>1</td>\n",
       "      <td>1.013128e+06</td>\n",
       "      <td>0</td>\n",
       "      <td>1</td>\n",
       "      <td>0.0</td>\n",
       "      <td>1.0</td>\n",
       "      <td>0.0</td>\n",
       "      <td>1.0</td>\n",
       "      <td>0.0</td>\n",
       "      <td>0.0</td>\n",
       "      <td>0.0</td>\n",
       "      <td>0.0</td>\n",
       "      <td>1.0</td>\n",
       "    </tr>\n",
       "    <tr>\n",
       "      <th>1</th>\n",
       "      <td>82.0</td>\n",
       "      <td>5.496170e+06</td>\n",
       "      <td>5496170.0</td>\n",
       "      <td>28</td>\n",
       "      <td>0</td>\n",
       "      <td>001ak00000IqvqSAAR</td>\n",
       "      <td>006ak000002sEVoAAM</td>\n",
       "      <td>1</td>\n",
       "      <td>7.694638e+05</td>\n",
       "      <td>0</td>\n",
       "      <td>1</td>\n",
       "      <td>0.0</td>\n",
       "      <td>0.0</td>\n",
       "      <td>1.0</td>\n",
       "      <td>0.0</td>\n",
       "      <td>0.0</td>\n",
       "      <td>1.0</td>\n",
       "      <td>0.0</td>\n",
       "      <td>0.0</td>\n",
       "      <td>1.0</td>\n",
       "    </tr>\n",
       "    <tr>\n",
       "      <th>2</th>\n",
       "      <td>32.0</td>\n",
       "      <td>2.821507e+07</td>\n",
       "      <td>47822147.0</td>\n",
       "      <td>240</td>\n",
       "      <td>1</td>\n",
       "      <td>001ak00000IqvqTAAR</td>\n",
       "      <td>006ak000002sEVpAAM</td>\n",
       "      <td>0</td>\n",
       "      <td>1.142949e+08</td>\n",
       "      <td>0</td>\n",
       "      <td>0</td>\n",
       "      <td>0.0</td>\n",
       "      <td>0.0</td>\n",
       "      <td>1.0</td>\n",
       "      <td>1.0</td>\n",
       "      <td>0.0</td>\n",
       "      <td>0.0</td>\n",
       "      <td>0.0</td>\n",
       "      <td>1.0</td>\n",
       "      <td>0.0</td>\n",
       "    </tr>\n",
       "    <tr>\n",
       "      <th>3</th>\n",
       "      <td>117.0</td>\n",
       "      <td>5.389692e+07</td>\n",
       "      <td>70917002.0</td>\n",
       "      <td>355</td>\n",
       "      <td>0</td>\n",
       "      <td>001ak00000IqvqVAAR</td>\n",
       "      <td>006ak000002sEVrAAM</td>\n",
       "      <td>0</td>\n",
       "      <td>1.581449e+08</td>\n",
       "      <td>0</td>\n",
       "      <td>0</td>\n",
       "      <td>0.0</td>\n",
       "      <td>1.0</td>\n",
       "      <td>0.0</td>\n",
       "      <td>0.0</td>\n",
       "      <td>0.0</td>\n",
       "      <td>1.0</td>\n",
       "      <td>1.0</td>\n",
       "      <td>0.0</td>\n",
       "      <td>0.0</td>\n",
       "    </tr>\n",
       "    <tr>\n",
       "      <th>4</th>\n",
       "      <td>141.0</td>\n",
       "      <td>1.162368e+09</td>\n",
       "      <td>867439110.0</td>\n",
       "      <td>4338</td>\n",
       "      <td>1</td>\n",
       "      <td>001ak00000IqvqZAAR</td>\n",
       "      <td>006ak000002sEVwAAM</td>\n",
       "      <td>0</td>\n",
       "      <td>1.908366e+09</td>\n",
       "      <td>0</td>\n",
       "      <td>0</td>\n",
       "      <td>0.0</td>\n",
       "      <td>0.0</td>\n",
       "      <td>1.0</td>\n",
       "      <td>0.0</td>\n",
       "      <td>1.0</td>\n",
       "      <td>0.0</td>\n",
       "      <td>1.0</td>\n",
       "      <td>0.0</td>\n",
       "      <td>0.0</td>\n",
       "    </tr>\n",
       "  </tbody>\n",
       "</table>\n",
       "</div>"
      ],
      "text/plain": [
       "   GROWTH_RATE__C  TOTAL_FUNDING_TO_DATE__C  ANNUALREVENUE  NUMBEROFEMPLOYEES  \\\n",
       "0            28.0              1.261804e+07      9210250.0                 47   \n",
       "1            82.0              5.496170e+06      5496170.0                 28   \n",
       "2            32.0              2.821507e+07     47822147.0                240   \n",
       "3           117.0              5.389692e+07     70917002.0                355   \n",
       "4           141.0              1.162368e+09    867439110.0               4338   \n",
       "\n",
       "   OWNER_INTENT_TO_SELL__C              ID_ACC              ID_OPP  TYPE_OPP  \\\n",
       "0                        1  001ak00000IqvqPAAR  006ak000002sEVlAAM         1   \n",
       "1                        0  001ak00000IqvqSAAR  006ak000002sEVoAAM         1   \n",
       "2                        1  001ak00000IqvqTAAR  006ak000002sEVpAAM         0   \n",
       "3                        0  001ak00000IqvqVAAR  006ak000002sEVrAAM         0   \n",
       "4                        1  001ak00000IqvqZAAR  006ak000002sEVwAAM         0   \n",
       "\n",
       "         AMOUNT  STAGENAME  NAME_OPP  RATING_Cold  RATING_Hot  RATING_Warm  \\\n",
       "0  1.013128e+06          0         1          0.0         1.0          0.0   \n",
       "1  7.694638e+05          0         1          0.0         0.0          1.0   \n",
       "2  1.142949e+08          0         0          0.0         0.0          1.0   \n",
       "3  1.581449e+08          0         0          0.0         1.0          0.0   \n",
       "4  1.908366e+09          0         0          0.0         0.0          1.0   \n",
       "\n",
       "   OWNERSHIP_Private  OWNERSHIP_Public  OWNERSHIP_Subsidiary  \\\n",
       "0                1.0               0.0                   0.0   \n",
       "1                0.0               0.0                   1.0   \n",
       "2                1.0               0.0                   0.0   \n",
       "3                0.0               0.0                   1.0   \n",
       "4                0.0               1.0                   0.0   \n",
       "\n",
       "   TYPE_ACC_Established  TYPE_ACC_Growth Stage  TYPE_ACC_Startup  \n",
       "0                   0.0                    0.0               1.0  \n",
       "1                   0.0                    0.0               1.0  \n",
       "2                   0.0                    1.0               0.0  \n",
       "3                   1.0                    0.0               0.0  \n",
       "4                   1.0                    0.0               0.0  "
      ]
     },
     "execution_count": 11,
     "metadata": {},
     "output_type": "execute_result"
    }
   ],
   "source": [
    "dataset.head()"
   ]
  },
  {
   "cell_type": "code",
   "execution_count": 12,
   "metadata": {},
   "outputs": [
    {
     "name": "stdout",
     "output_type": "stream",
     "text": [
      "RATING :  ['Cold' 'Hot' 'Warm']\n",
      "===================================\n",
      "OWNERSHIP :  ['Private' 'Public' 'Subsidiary']\n",
      "===================================\n",
      "TYPE_ACC :  ['Established' 'Growth Stage' 'Startup']\n",
      "===================================\n",
      "STAGENAME :  ['Closed Lost' 'Closed Won']\n",
      "===================================\n",
      "NAME_OPP :  ['Acquisition' 'Investment']\n",
      "===================================\n",
      "OWNER_INTENT_TO_SELL__C :  [False  True]\n",
      "===================================\n",
      "TYPE_OPP :  ['Existing Business' 'New Business']\n",
      "===================================\n"
     ]
    }
   ],
   "source": [
    "for variable, label_encoder in label_encoders.items():\n",
    "    print(variable, ': ', label_encoder.classes_)\n",
    "    print('===================================')"
   ]
  },
  {
   "cell_type": "code",
   "execution_count": 13,
   "metadata": {},
   "outputs": [
    {
     "data": {
      "text/plain": [
       "Index(['GROWTH_RATE__C', 'TOTAL_FUNDING_TO_DATE__C', 'ANNUALREVENUE',\n",
       "       'NUMBEROFEMPLOYEES', 'OWNER_INTENT_TO_SELL__C', 'ID_ACC', 'ID_OPP',\n",
       "       'TYPE_OPP', 'AMOUNT', 'STAGENAME', 'NAME_OPP', 'RATING_Cold',\n",
       "       'RATING_Hot', 'RATING_Warm', 'OWNERSHIP_Private', 'OWNERSHIP_Public',\n",
       "       'OWNERSHIP_Subsidiary', 'TYPE_ACC_Established', 'TYPE_ACC_Growth Stage',\n",
       "       'TYPE_ACC_Startup'],\n",
       "      dtype='object')"
      ]
     },
     "execution_count": 13,
     "metadata": {},
     "output_type": "execute_result"
    }
   ],
   "source": [
    "dataset.columns"
   ]
  },
  {
   "cell_type": "code",
   "execution_count": 14,
   "metadata": {},
   "outputs": [
    {
     "data": {
      "text/html": [
       "<div>\n",
       "<style scoped>\n",
       "    .dataframe tbody tr th:only-of-type {\n",
       "        vertical-align: middle;\n",
       "    }\n",
       "\n",
       "    .dataframe tbody tr th {\n",
       "        vertical-align: top;\n",
       "    }\n",
       "\n",
       "    .dataframe thead th {\n",
       "        text-align: right;\n",
       "    }\n",
       "</style>\n",
       "<table border=\"1\" class=\"dataframe\">\n",
       "  <thead>\n",
       "    <tr style=\"text-align: right;\">\n",
       "      <th></th>\n",
       "      <th>STAGENAME</th>\n",
       "      <th>NAME_OPP</th>\n",
       "    </tr>\n",
       "  </thead>\n",
       "  <tbody>\n",
       "    <tr>\n",
       "      <th>0</th>\n",
       "      <td>0</td>\n",
       "      <td>1</td>\n",
       "    </tr>\n",
       "    <tr>\n",
       "      <th>1</th>\n",
       "      <td>0</td>\n",
       "      <td>1</td>\n",
       "    </tr>\n",
       "    <tr>\n",
       "      <th>2</th>\n",
       "      <td>0</td>\n",
       "      <td>0</td>\n",
       "    </tr>\n",
       "    <tr>\n",
       "      <th>3</th>\n",
       "      <td>0</td>\n",
       "      <td>0</td>\n",
       "    </tr>\n",
       "    <tr>\n",
       "      <th>4</th>\n",
       "      <td>0</td>\n",
       "      <td>0</td>\n",
       "    </tr>\n",
       "    <tr>\n",
       "      <th>...</th>\n",
       "      <td>...</td>\n",
       "      <td>...</td>\n",
       "    </tr>\n",
       "    <tr>\n",
       "      <th>348</th>\n",
       "      <td>0</td>\n",
       "      <td>0</td>\n",
       "    </tr>\n",
       "    <tr>\n",
       "      <th>349</th>\n",
       "      <td>0</td>\n",
       "      <td>1</td>\n",
       "    </tr>\n",
       "    <tr>\n",
       "      <th>350</th>\n",
       "      <td>1</td>\n",
       "      <td>1</td>\n",
       "    </tr>\n",
       "    <tr>\n",
       "      <th>351</th>\n",
       "      <td>0</td>\n",
       "      <td>0</td>\n",
       "    </tr>\n",
       "    <tr>\n",
       "      <th>352</th>\n",
       "      <td>0</td>\n",
       "      <td>0</td>\n",
       "    </tr>\n",
       "  </tbody>\n",
       "</table>\n",
       "<p>353 rows × 2 columns</p>\n",
       "</div>"
      ],
      "text/plain": [
       "     STAGENAME  NAME_OPP\n",
       "0            0         1\n",
       "1            0         1\n",
       "2            0         0\n",
       "3            0         0\n",
       "4            0         0\n",
       "..         ...       ...\n",
       "348          0         0\n",
       "349          0         1\n",
       "350          1         1\n",
       "351          0         0\n",
       "352          0         0\n",
       "\n",
       "[353 rows x 2 columns]"
      ]
     },
     "execution_count": 14,
     "metadata": {},
     "output_type": "execute_result"
    }
   ],
   "source": [
    "dataset[['STAGENAME', 'NAME_OPP']]"
   ]
  },
  {
   "cell_type": "code",
   "execution_count": 15,
   "metadata": {},
   "outputs": [],
   "source": [
    "features = dataset.drop(columns=identificators+['STAGENAME'])\n",
    "target = dataset['STAGENAME']\n",
    "ids = dataset[identificators]"
   ]
  },
  {
   "cell_type": "code",
   "execution_count": 16,
   "metadata": {},
   "outputs": [],
   "source": [
    "scaler = StandardScaler()\n",
    "features[numerical_columns] = scaler.fit_transform(features[numerical_columns])"
   ]
  },
  {
   "cell_type": "code",
   "execution_count": 17,
   "metadata": {},
   "outputs": [],
   "source": [
    "X_train, X_test, y_train, y_test, ids_train, ids_test = train_test_split(features, target, ids, test_size=0.4, random_state=42)"
   ]
  },
  {
   "cell_type": "code",
   "execution_count": null,
   "metadata": {},
   "outputs": [],
   "source": [
    "train_data = lgb.Dataset(X_train, label=y_train)\n",
    "params = {\n",
    "    'objective': 'binary',\n",
    "    'boosting_type': 'gbdt',\n",
    "    'metric': 'binary_logloss',\n",
    "    'learning_rate': 0.05,\n",
    "    'num_leaves': 15,\n",
    "    'verbose': -1\n",
    "}\n",
    "model = lgb.train(params, train_data, num_boost_round=100)"
   ]
  },
  {
   "cell_type": "code",
   "execution_count": null,
   "metadata": {},
   "outputs": [],
   "source": [
    "y_pred = model.predict(X_test)\n",
    "y_pred_binary = [1 if pred > 0.5 else 0 for pred in y_pred]"
   ]
  },
  {
   "cell_type": "code",
   "execution_count": null,
   "metadata": {},
   "outputs": [],
   "source": [
    "accuracy = accuracy_score(y_test, y_pred_binary)\n",
    "report = classification_report(y_test, y_pred_binary)\n",
    "conf_matrix = confusion_matrix(y_test, y_pred_binary)"
   ]
  },
  {
   "cell_type": "code",
   "execution_count": null,
   "metadata": {},
   "outputs": [],
   "source": [
    "print(\"Accuracy:\", accuracy)\n",
    "print(\"Classification Report:\\n\", report)\n",
    "print(\"Confusion Matrix:\\n\", conf_matrix)"
   ]
  },
  {
   "cell_type": "code",
   "execution_count": null,
   "metadata": {},
   "outputs": [],
   "source": [
    "y_test.value_counts()"
   ]
  },
  {
   "cell_type": "code",
   "execution_count": null,
   "metadata": {},
   "outputs": [],
   "source": [
    "pd.Series(y_pred_binary).value_counts()"
   ]
  },
  {
   "cell_type": "code",
   "execution_count": null,
   "metadata": {},
   "outputs": [],
   "source": [
    "# Feature importance\n",
    "importance = model.feature_importance()\n",
    "feature_names = features.columns"
   ]
  },
  {
   "cell_type": "code",
   "execution_count": null,
   "metadata": {},
   "outputs": [],
   "source": [
    "feature_importance_df = pd.DataFrame({\n",
    "    'Feature': feature_names,\n",
    "    'Importance': importance\n",
    "}).sort_values(by='Importance', ascending=False)"
   ]
  },
  {
   "cell_type": "code",
   "execution_count": null,
   "metadata": {},
   "outputs": [],
   "source": [
    "feature_importance_df.head(40)"
   ]
  },
  {
   "cell_type": "code",
   "execution_count": null,
   "metadata": {},
   "outputs": [],
   "source": [
    "# smote = SMOTE(random_state=42)\n",
    "# X_train_resampled, y_train_resampled = smote.fit_resample(X_train, y_train)"
   ]
  },
  {
   "cell_type": "code",
   "execution_count": 63,
   "metadata": {},
   "outputs": [
    {
     "data": {
      "text/html": [
       "<style>#sk-container-id-3 {color: black;background-color: white;}#sk-container-id-3 pre{padding: 0;}#sk-container-id-3 div.sk-toggleable {background-color: white;}#sk-container-id-3 label.sk-toggleable__label {cursor: pointer;display: block;width: 100%;margin-bottom: 0;padding: 0.3em;box-sizing: border-box;text-align: center;}#sk-container-id-3 label.sk-toggleable__label-arrow:before {content: \"▸\";float: left;margin-right: 0.25em;color: #696969;}#sk-container-id-3 label.sk-toggleable__label-arrow:hover:before {color: black;}#sk-container-id-3 div.sk-estimator:hover label.sk-toggleable__label-arrow:before {color: black;}#sk-container-id-3 div.sk-toggleable__content {max-height: 0;max-width: 0;overflow: hidden;text-align: left;background-color: #f0f8ff;}#sk-container-id-3 div.sk-toggleable__content pre {margin: 0.2em;color: black;border-radius: 0.25em;background-color: #f0f8ff;}#sk-container-id-3 input.sk-toggleable__control:checked~div.sk-toggleable__content {max-height: 200px;max-width: 100%;overflow: auto;}#sk-container-id-3 input.sk-toggleable__control:checked~label.sk-toggleable__label-arrow:before {content: \"▾\";}#sk-container-id-3 div.sk-estimator input.sk-toggleable__control:checked~label.sk-toggleable__label {background-color: #d4ebff;}#sk-container-id-3 div.sk-label input.sk-toggleable__control:checked~label.sk-toggleable__label {background-color: #d4ebff;}#sk-container-id-3 input.sk-hidden--visually {border: 0;clip: rect(1px 1px 1px 1px);clip: rect(1px, 1px, 1px, 1px);height: 1px;margin: -1px;overflow: hidden;padding: 0;position: absolute;width: 1px;}#sk-container-id-3 div.sk-estimator {font-family: monospace;background-color: #f0f8ff;border: 1px dotted black;border-radius: 0.25em;box-sizing: border-box;margin-bottom: 0.5em;}#sk-container-id-3 div.sk-estimator:hover {background-color: #d4ebff;}#sk-container-id-3 div.sk-parallel-item::after {content: \"\";width: 100%;border-bottom: 1px solid gray;flex-grow: 1;}#sk-container-id-3 div.sk-label:hover label.sk-toggleable__label {background-color: #d4ebff;}#sk-container-id-3 div.sk-serial::before {content: \"\";position: absolute;border-left: 1px solid gray;box-sizing: border-box;top: 0;bottom: 0;left: 50%;z-index: 0;}#sk-container-id-3 div.sk-serial {display: flex;flex-direction: column;align-items: center;background-color: white;padding-right: 0.2em;padding-left: 0.2em;position: relative;}#sk-container-id-3 div.sk-item {position: relative;z-index: 1;}#sk-container-id-3 div.sk-parallel {display: flex;align-items: stretch;justify-content: center;background-color: white;position: relative;}#sk-container-id-3 div.sk-item::before, #sk-container-id-3 div.sk-parallel-item::before {content: \"\";position: absolute;border-left: 1px solid gray;box-sizing: border-box;top: 0;bottom: 0;left: 50%;z-index: -1;}#sk-container-id-3 div.sk-parallel-item {display: flex;flex-direction: column;z-index: 1;position: relative;background-color: white;}#sk-container-id-3 div.sk-parallel-item:first-child::after {align-self: flex-end;width: 50%;}#sk-container-id-3 div.sk-parallel-item:last-child::after {align-self: flex-start;width: 50%;}#sk-container-id-3 div.sk-parallel-item:only-child::after {width: 0;}#sk-container-id-3 div.sk-dashed-wrapped {border: 1px dashed gray;margin: 0 0.4em 0.5em 0.4em;box-sizing: border-box;padding-bottom: 0.4em;background-color: white;}#sk-container-id-3 div.sk-label label {font-family: monospace;font-weight: bold;display: inline-block;line-height: 1.2em;}#sk-container-id-3 div.sk-label-container {text-align: center;}#sk-container-id-3 div.sk-container {/* jupyter's `normalize.less` sets `[hidden] { display: none; }` but bootstrap.min.css set `[hidden] { display: none !important; }` so we also need the `!important` here to be able to override the default hidden behavior on the sphinx rendered scikit-learn.org. See: https://github.com/scikit-learn/scikit-learn/issues/21755 */display: inline-block !important;position: relative;}#sk-container-id-3 div.sk-text-repr-fallback {display: none;}</style><div id=\"sk-container-id-3\" class=\"sk-top-container\"><div class=\"sk-text-repr-fallback\"><pre>LogisticRegression(class_weight=&#x27;balanced&#x27;, max_iter=1000)</pre><b>In a Jupyter environment, please rerun this cell to show the HTML representation or trust the notebook. <br />On GitHub, the HTML representation is unable to render, please try loading this page with nbviewer.org.</b></div><div class=\"sk-container\" hidden><div class=\"sk-item\"><div class=\"sk-estimator sk-toggleable\"><input class=\"sk-toggleable__control sk-hidden--visually\" id=\"sk-estimator-id-3\" type=\"checkbox\" checked><label for=\"sk-estimator-id-3\" class=\"sk-toggleable__label sk-toggleable__label-arrow\">LogisticRegression</label><div class=\"sk-toggleable__content\"><pre>LogisticRegression(class_weight=&#x27;balanced&#x27;, max_iter=1000)</pre></div></div></div></div></div>"
      ],
      "text/plain": [
       "LogisticRegression(class_weight='balanced', max_iter=1000)"
      ]
     },
     "execution_count": 63,
     "metadata": {},
     "output_type": "execute_result"
    }
   ],
   "source": [
    "# Train a Logistic Regression Classifier\n",
    "model = LogisticRegression(max_iter=1000, class_weight='balanced')\n",
    "model.fit(X_train, y_train)"
   ]
  },
  {
   "cell_type": "code",
   "execution_count": 64,
   "metadata": {},
   "outputs": [],
   "source": [
    "y_pred = model.predict(X_test)"
   ]
  },
  {
   "cell_type": "code",
   "execution_count": 65,
   "metadata": {},
   "outputs": [
    {
     "name": "stdout",
     "output_type": "stream",
     "text": [
      "Accuracy: 0.5985915492957746\n",
      "Classification Report:\n",
      "               precision    recall  f1-score   support\n",
      "\n",
      "           0       0.84      0.67      0.74       123\n",
      "           1       0.07      0.16      0.10        19\n",
      "\n",
      "    accuracy                           0.60       142\n",
      "   macro avg       0.45      0.41      0.42       142\n",
      "weighted avg       0.73      0.60      0.66       142\n",
      "\n",
      "Confusion Matrix:\n",
      " [[82 41]\n",
      " [16  3]]\n"
     ]
    }
   ],
   "source": [
    "accuracy = accuracy_score(y_test, y_pred)\n",
    "report = classification_report(y_test, y_pred)\n",
    "conf_matrix = confusion_matrix(y_test, y_pred)\n",
    "\n",
    "print(\"Accuracy:\", accuracy)\n",
    "print(\"Classification Report:\\n\", report)\n",
    "print(\"Confusion Matrix:\\n\", conf_matrix)"
   ]
  },
  {
   "cell_type": "code",
   "execution_count": 22,
   "metadata": {},
   "outputs": [],
   "source": [
    "predictions_df = pd.DataFrame({\n",
    "    'ID_ACC': ids_test['ID_ACC'],\n",
    "    'Prediction': y_pred\n",
    "})"
   ]
  },
  {
   "cell_type": "code",
   "execution_count": 23,
   "metadata": {},
   "outputs": [],
   "source": [
    "# Feature importance (coefficients)\n",
    "coefficients = model.coef_[0]\n",
    "feature_names = features.columns"
   ]
  },
  {
   "cell_type": "code",
   "execution_count": 24,
   "metadata": {},
   "outputs": [],
   "source": [
    "# Create a DataFrame for the feature importance\n",
    "feature_importance_df = pd.DataFrame({\n",
    "    'Feature': feature_names,\n",
    "    'Coefficient': coefficients\n",
    "}).sort_values(by='Coefficient', ascending=False)"
   ]
  },
  {
   "cell_type": "code",
   "execution_count": 66,
   "metadata": {},
   "outputs": [
    {
     "data": {
      "text/html": [
       "<div>\n",
       "<style scoped>\n",
       "    .dataframe tbody tr th:only-of-type {\n",
       "        vertical-align: middle;\n",
       "    }\n",
       "\n",
       "    .dataframe tbody tr th {\n",
       "        vertical-align: top;\n",
       "    }\n",
       "\n",
       "    .dataframe thead th {\n",
       "        text-align: right;\n",
       "    }\n",
       "</style>\n",
       "<table border=\"1\" class=\"dataframe\">\n",
       "  <thead>\n",
       "    <tr style=\"text-align: right;\">\n",
       "      <th></th>\n",
       "      <th>Feature</th>\n",
       "      <th>Coefficient</th>\n",
       "    </tr>\n",
       "  </thead>\n",
       "  <tbody>\n",
       "    <tr>\n",
       "      <th>7</th>\n",
       "      <td>NAME_OPP</td>\n",
       "      <td>0.713761</td>\n",
       "    </tr>\n",
       "    <tr>\n",
       "      <th>10</th>\n",
       "      <td>RATING_Warm</td>\n",
       "      <td>0.627943</td>\n",
       "    </tr>\n",
       "    <tr>\n",
       "      <th>13</th>\n",
       "      <td>OWNERSHIP_Subsidiary</td>\n",
       "      <td>0.298136</td>\n",
       "    </tr>\n",
       "    <tr>\n",
       "      <th>14</th>\n",
       "      <td>TYPE_ACC_Established</td>\n",
       "      <td>0.292493</td>\n",
       "    </tr>\n",
       "    <tr>\n",
       "      <th>4</th>\n",
       "      <td>OWNER_INTENT_TO_SELL__C</td>\n",
       "      <td>0.253530</td>\n",
       "    </tr>\n",
       "    <tr>\n",
       "      <th>0</th>\n",
       "      <td>GROWTH_RATE__C</td>\n",
       "      <td>0.177965</td>\n",
       "    </tr>\n",
       "    <tr>\n",
       "      <th>6</th>\n",
       "      <td>AMOUNT</td>\n",
       "      <td>0.133195</td>\n",
       "    </tr>\n",
       "    <tr>\n",
       "      <th>16</th>\n",
       "      <td>TYPE_ACC_Startup</td>\n",
       "      <td>0.105643</td>\n",
       "    </tr>\n",
       "    <tr>\n",
       "      <th>5</th>\n",
       "      <td>TYPE_OPP</td>\n",
       "      <td>0.105643</td>\n",
       "    </tr>\n",
       "    <tr>\n",
       "      <th>11</th>\n",
       "      <td>OWNERSHIP_Private</td>\n",
       "      <td>0.094133</td>\n",
       "    </tr>\n",
       "    <tr>\n",
       "      <th>1</th>\n",
       "      <td>TOTAL_FUNDING_TO_DATE__C</td>\n",
       "      <td>0.065730</td>\n",
       "    </tr>\n",
       "    <tr>\n",
       "      <th>2</th>\n",
       "      <td>ANNUALREVENUE</td>\n",
       "      <td>0.062480</td>\n",
       "    </tr>\n",
       "    <tr>\n",
       "      <th>3</th>\n",
       "      <td>NUMBEROFEMPLOYEES</td>\n",
       "      <td>0.059996</td>\n",
       "    </tr>\n",
       "    <tr>\n",
       "      <th>8</th>\n",
       "      <td>RATING_Cold</td>\n",
       "      <td>-0.295409</td>\n",
       "    </tr>\n",
       "    <tr>\n",
       "      <th>9</th>\n",
       "      <td>RATING_Hot</td>\n",
       "      <td>-0.332610</td>\n",
       "    </tr>\n",
       "    <tr>\n",
       "      <th>12</th>\n",
       "      <td>OWNERSHIP_Public</td>\n",
       "      <td>-0.392346</td>\n",
       "    </tr>\n",
       "    <tr>\n",
       "      <th>15</th>\n",
       "      <td>TYPE_ACC_Growth Stage</td>\n",
       "      <td>-0.398213</td>\n",
       "    </tr>\n",
       "  </tbody>\n",
       "</table>\n",
       "</div>"
      ],
      "text/plain": [
       "                     Feature  Coefficient\n",
       "7                   NAME_OPP     0.713761\n",
       "10               RATING_Warm     0.627943\n",
       "13      OWNERSHIP_Subsidiary     0.298136\n",
       "14      TYPE_ACC_Established     0.292493\n",
       "4    OWNER_INTENT_TO_SELL__C     0.253530\n",
       "0             GROWTH_RATE__C     0.177965\n",
       "6                     AMOUNT     0.133195\n",
       "16          TYPE_ACC_Startup     0.105643\n",
       "5                   TYPE_OPP     0.105643\n",
       "11         OWNERSHIP_Private     0.094133\n",
       "1   TOTAL_FUNDING_TO_DATE__C     0.065730\n",
       "2              ANNUALREVENUE     0.062480\n",
       "3          NUMBEROFEMPLOYEES     0.059996\n",
       "8                RATING_Cold    -0.295409\n",
       "9                 RATING_Hot    -0.332610\n",
       "12          OWNERSHIP_Public    -0.392346\n",
       "15     TYPE_ACC_Growth Stage    -0.398213"
      ]
     },
     "execution_count": 66,
     "metadata": {},
     "output_type": "execute_result"
    }
   ],
   "source": [
    "feature_importance_df"
   ]
  },
  {
   "cell_type": "code",
   "execution_count": 26,
   "metadata": {},
   "outputs": [
    {
     "data": {
      "text/html": [
       "<div>\n",
       "<style scoped>\n",
       "    .dataframe tbody tr th:only-of-type {\n",
       "        vertical-align: middle;\n",
       "    }\n",
       "\n",
       "    .dataframe tbody tr th {\n",
       "        vertical-align: top;\n",
       "    }\n",
       "\n",
       "    .dataframe thead th {\n",
       "        text-align: right;\n",
       "    }\n",
       "</style>\n",
       "<table border=\"1\" class=\"dataframe\">\n",
       "  <thead>\n",
       "    <tr style=\"text-align: right;\">\n",
       "      <th></th>\n",
       "      <th>Feature</th>\n",
       "      <th>Coefficient</th>\n",
       "    </tr>\n",
       "  </thead>\n",
       "  <tbody>\n",
       "    <tr>\n",
       "      <th>7</th>\n",
       "      <td>NAME_OPP</td>\n",
       "      <td>0.713761</td>\n",
       "    </tr>\n",
       "  </tbody>\n",
       "</table>\n",
       "</div>"
      ],
      "text/plain": [
       "    Feature  Coefficient\n",
       "7  NAME_OPP     0.713761"
      ]
     },
     "execution_count": 26,
     "metadata": {},
     "output_type": "execute_result"
    }
   ],
   "source": [
    "feature_importance_df[feature_importance_df.Feature == 'NAME_OPP']"
   ]
  },
  {
   "cell_type": "code",
   "execution_count": 27,
   "metadata": {},
   "outputs": [
    {
     "data": {
      "text/plain": [
       "array(['Acquisition', 'Investment'], dtype=object)"
      ]
     },
     "execution_count": 27,
     "metadata": {},
     "output_type": "execute_result"
    }
   ],
   "source": [
    "label_encoders['NAME_OPP'].classes_"
   ]
  },
  {
   "cell_type": "code",
   "execution_count": 40,
   "metadata": {},
   "outputs": [
    {
     "name": "stdout",
     "output_type": "stream",
     "text": [
      "Accuracy with custom threshold: 0.5985915492957746\n",
      "Classification Report with custom threshold:\n",
      "               precision    recall  f1-score   support\n",
      "\n",
      "           0       0.84      0.67      0.74       123\n",
      "           1       0.07      0.16      0.10        19\n",
      "\n",
      "    accuracy                           0.60       142\n",
      "   macro avg       0.45      0.41      0.42       142\n",
      "weighted avg       0.73      0.60      0.66       142\n",
      "\n",
      "Confusion Matrix with custom threshold:\n",
      " [[82 41]\n",
      " [16  3]]\n"
     ]
    }
   ],
   "source": [
    "# Predict probabilities\n",
    "y_prob = model.predict_proba(X_test)[:, 1]\n",
    "\n",
    "# Threshold\n",
    "threshold = 0.5\n",
    "y_pred_custom = (y_prob >= threshold).astype(int)\n",
    "\n",
    "# Evaluate the model with the custom threshold\n",
    "accuracy = accuracy_score(y_test, y_pred_custom)\n",
    "report = classification_report(y_test, y_pred_custom)\n",
    "conf_matrix = confusion_matrix(y_test, y_pred_custom)\n",
    "\n",
    "print(\"Accuracy with custom threshold:\", accuracy)\n",
    "print(\"Classification Report with custom threshold:\\n\", report)\n",
    "print(\"Confusion Matrix with custom threshold:\\n\", conf_matrix)"
   ]
  },
  {
   "cell_type": "code",
   "execution_count": 45,
   "metadata": {},
   "outputs": [],
   "source": [
    "data_sample = X_test.iloc[[8]]\n",
    "data_sample.reset_index(drop=True, inplace=True)"
   ]
  },
  {
   "cell_type": "code",
   "execution_count": 46,
   "metadata": {},
   "outputs": [
    {
     "name": "stdout",
     "output_type": "stream",
     "text": [
      "['Investment']\n"
     ]
    },
    {
     "data": {
      "text/plain": [
       "array([0.50870644])"
      ]
     },
     "execution_count": 46,
     "metadata": {},
     "output_type": "execute_result"
    }
   ],
   "source": [
    "print(label_encoders['NAME_OPP'].classes_[data_sample.NAME_OPP])\n",
    "model.predict_proba(data_sample)[:, 1]"
   ]
  },
  {
   "cell_type": "code",
   "execution_count": 47,
   "metadata": {},
   "outputs": [
    {
     "name": "stderr",
     "output_type": "stream",
     "text": [
      "/tmp/ipykernel_81640/2079458468.py:1: SettingWithCopyWarning: \n",
      "A value is trying to be set on a copy of a slice from a DataFrame.\n",
      "Try using .loc[row_indexer,col_indexer] = value instead\n",
      "\n",
      "See the caveats in the documentation: https://pandas.pydata.org/pandas-docs/stable/user_guide/indexing.html#returning-a-view-versus-a-copy\n",
      "  data_sample.NAME_OPP = 1 - data_sample.NAME_OPP\n"
     ]
    }
   ],
   "source": [
    "data_sample.NAME_OPP = 1 - data_sample.NAME_OPP"
   ]
  },
  {
   "cell_type": "code",
   "execution_count": 48,
   "metadata": {},
   "outputs": [
    {
     "name": "stdout",
     "output_type": "stream",
     "text": [
      "['Acquisition']\n"
     ]
    },
    {
     "data": {
      "text/plain": [
       "array([0.33649974])"
      ]
     },
     "execution_count": 48,
     "metadata": {},
     "output_type": "execute_result"
    }
   ],
   "source": [
    "print(label_encoders['NAME_OPP'].classes_[data_sample.NAME_OPP])\n",
    "model.predict_proba(data_sample)[:, 1]"
   ]
  },
  {
   "cell_type": "code",
   "execution_count": 54,
   "metadata": {},
   "outputs": [
    {
     "data": {
      "text/plain": [
       "0    102\n",
       "1     16\n",
       "Name: STAGENAME, dtype: int64"
      ]
     },
     "execution_count": 54,
     "metadata": {},
     "output_type": "execute_result"
    }
   ],
   "source": [
    "dataset[dataset.OWNERSHIP_Public == 1.0].STAGENAME.value_counts()"
   ]
  },
  {
   "cell_type": "code",
   "execution_count": 55,
   "metadata": {},
   "outputs": [
    {
     "data": {
      "text/plain": [
       "0    95\n",
       "1    25\n",
       "Name: STAGENAME, dtype: int64"
      ]
     },
     "execution_count": 55,
     "metadata": {},
     "output_type": "execute_result"
    }
   ],
   "source": [
    "dataset[dataset.OWNERSHIP_Subsidiary == 1.0].STAGENAME.value_counts()"
   ]
  },
  {
   "cell_type": "code",
   "execution_count": 56,
   "metadata": {},
   "outputs": [
    {
     "data": {
      "text/plain": [
       "0    90\n",
       "1    25\n",
       "Name: STAGENAME, dtype: int64"
      ]
     },
     "execution_count": 56,
     "metadata": {},
     "output_type": "execute_result"
    }
   ],
   "source": [
    "dataset[dataset.OWNERSHIP_Private == 1.0].STAGENAME.value_counts()"
   ]
  },
  {
   "cell_type": "code",
   "execution_count": 57,
   "metadata": {},
   "outputs": [
    {
     "data": {
      "text/plain": [
       "0    40\n",
       "1     7\n",
       "Name: STAGENAME, dtype: int64"
      ]
     },
     "execution_count": 57,
     "metadata": {},
     "output_type": "execute_result"
    }
   ],
   "source": [
    "dataset[dataset['TYPE_ACC_Growth Stage'] == 1.0].STAGENAME.value_counts()"
   ]
  },
  {
   "cell_type": "code",
   "execution_count": 58,
   "metadata": {},
   "outputs": [
    {
     "data": {
      "text/plain": [
       "0    157\n",
       "1     39\n",
       "Name: STAGENAME, dtype: int64"
      ]
     },
     "execution_count": 58,
     "metadata": {},
     "output_type": "execute_result"
    }
   ],
   "source": [
    "dataset[dataset['TYPE_ACC_Established'] == 1.0].STAGENAME.value_counts()"
   ]
  },
  {
   "cell_type": "code",
   "execution_count": 70,
   "metadata": {},
   "outputs": [
    {
     "data": {
      "text/plain": [
       "count    3.530000e+02\n",
       "mean     2.236609e+08\n",
       "std      3.004198e+08\n",
       "min      1.197959e+06\n",
       "25%      8.042523e+06\n",
       "50%      6.428692e+07\n",
       "75%      3.813766e+08\n",
       "max      9.960538e+08\n",
       "Name: ANNUALREVENUE, dtype: float64"
      ]
     },
     "execution_count": 70,
     "metadata": {},
     "output_type": "execute_result"
    }
   ],
   "source": [
    "dataset.ANNUALREVENUE.describe()"
   ]
  },
  {
   "cell_type": "code",
   "execution_count": 72,
   "metadata": {},
   "outputs": [
    {
     "data": {
      "text/plain": [
       "Media                 25\n",
       "Utilities             25\n",
       "Finance               24\n",
       "Not For Profit        22\n",
       "Transportation        20\n",
       "Banking               20\n",
       "Food & Beverage       19\n",
       "Environmental         19\n",
       "Telecommunications    17\n",
       "Consulting            17\n",
       "Shipping              17\n",
       "Biotechnology         16\n",
       "Recreation            15\n",
       "Electronics           15\n",
       "Education             15\n",
       "Engineering           15\n",
       "Retail                14\n",
       "Technology            14\n",
       "Hospitality           14\n",
       "Other                 14\n",
       "Entertainment         13\n",
       "Healthcare            13\n",
       "Government            13\n",
       "Insurance             12\n",
       "Manufacturing         12\n",
       "Communications        12\n",
       "Machinery             12\n",
       "Apparel               12\n",
       "Construction          11\n",
       "Agriculture           11\n",
       "Energy                11\n",
       "Chemicals             11\n",
       "Name: INDUSTRY, dtype: int64"
      ]
     },
     "execution_count": 72,
     "metadata": {},
     "output_type": "execute_result"
    }
   ],
   "source": [
    "account.INDUSTRY.value_counts()"
   ]
  },
  {
   "cell_type": "code",
   "execution_count": 73,
   "metadata": {},
   "outputs": [],
   "source": [
    "industry_mapping = {\n",
    "    'Technology & Communications': [\n",
    "        'Media', 'Telecommunications', 'Technology', 'Electronics', 'Communications'\n",
    "    ],\n",
    "    'Finance & Insurance': [\n",
    "        'Finance', 'Banking', 'Insurance'\n",
    "    ],\n",
    "    'Consumer & Services': [\n",
    "        'Not For Profit', 'Transportation', 'Food & Beverage', 'Environmental', 'Consulting', \n",
    "        'Shipping', 'Recreation', 'Education', 'Retail', 'Hospitality', 'Entertainment', \n",
    "        'Healthcare', 'Government', 'Apparel'\n",
    "    ],\n",
    "    'Industrial & Other': [\n",
    "        'Utilities', 'Biotechnology', 'Engineering', 'Manufacturing', 'Machinery', 'Construction', \n",
    "        'Agriculture', 'Energy', 'Chemicals', 'Other'\n",
    "    ]\n",
    "}"
   ]
  },
  {
   "cell_type": "code",
   "execution_count": 74,
   "metadata": {},
   "outputs": [],
   "source": [
    "def map_industry(industry):\n",
    "    for category, industries in industry_mapping.items():\n",
    "        if industry in industries:\n",
    "            return category\n",
    "    return 'Unknown'"
   ]
  },
  {
   "cell_type": "code",
   "execution_count": 76,
   "metadata": {},
   "outputs": [
    {
     "data": {
      "text/plain": [
       "Consumer & Services            223\n",
       "Industrial & Other             138\n",
       "Technology & Communications     83\n",
       "Finance & Insurance             56\n",
       "Name: INDUSTRY, dtype: int64"
      ]
     },
     "execution_count": 76,
     "metadata": {},
     "output_type": "execute_result"
    }
   ],
   "source": [
    "account['INDUSTRY'].apply(map_industry).value_counts()"
   ]
  },
  {
   "cell_type": "code",
   "execution_count": 77,
   "metadata": {},
   "outputs": [],
   "source": [
    "def categorize_revenue(revenue):\n",
    "    if revenue <= 8.042523e6:\n",
    "        return 'Low'\n",
    "    elif revenue <= 6.428692e7:\n",
    "        return 'Lower-Middle'\n",
    "    elif revenue <= 3.813766e8:\n",
    "        return 'Upper-Middle'\n",
    "    else:\n",
    "        return 'High'"
   ]
  },
  {
   "cell_type": "code",
   "execution_count": 79,
   "metadata": {},
   "outputs": [
    {
     "data": {
      "text/plain": [
       "Low             135\n",
       "Lower-Middle    123\n",
       "High            123\n",
       "Upper-Middle    119\n",
       "Name: ANNUALREVENUE, dtype: int64"
      ]
     },
     "execution_count": 79,
     "metadata": {},
     "output_type": "execute_result"
    }
   ],
   "source": [
    "account['ANNUALREVENUE'].apply(categorize_revenue).value_counts()"
   ]
  },
  {
   "cell_type": "code",
   "execution_count": 80,
   "metadata": {},
   "outputs": [
    {
     "data": {
      "text/plain": [
       "Alaska            17\n",
       "Tennessee         17\n",
       "Connecticut       16\n",
       "Louisiana         16\n",
       "Arizona           16\n",
       "Delaware          14\n",
       "Wyoming           14\n",
       "New Jersey        14\n",
       "North Dakota      13\n",
       "Minnesota         13\n",
       "Pennsylvania      12\n",
       "Colorado          12\n",
       "Alabama           12\n",
       "New Mexico        11\n",
       "Florida           11\n",
       "Hawaii            11\n",
       "New Hampshire     11\n",
       "Idaho             11\n",
       "Nebraska          11\n",
       "Arkansas          11\n",
       "Oklahoma          11\n",
       "West Virginia     10\n",
       "Texas             10\n",
       "Mississippi       10\n",
       "Utah              10\n",
       "Georgia           10\n",
       "Nevada             9\n",
       "Kentucky           9\n",
       "North Carolina     9\n",
       "Missouri           9\n",
       "Kansas             9\n",
       "Ohio               9\n",
       "Montana            9\n",
       "Vermont            8\n",
       "Wisconsin          8\n",
       "Massachusetts      8\n",
       "Virginia           8\n",
       "South Carolina     8\n",
       "Oregon             8\n",
       "New York           7\n",
       "Michigan           7\n",
       "Maryland           7\n",
       "California         7\n",
       "Iowa               6\n",
       "Washington         6\n",
       "Illinois           5\n",
       "South Dakota       5\n",
       "Indiana            5\n",
       "Maine              5\n",
       "Rhode Island       5\n",
       "Name: HQ_LOCATION__C, dtype: int64"
      ]
     },
     "execution_count": 80,
     "metadata": {},
     "output_type": "execute_result"
    }
   ],
   "source": [
    "account.HQ_LOCATION__C.value_counts()"
   ]
  },
  {
   "cell_type": "code",
   "execution_count": 81,
   "metadata": {},
   "outputs": [],
   "source": [
    "region_mapping = {\n",
    "    'Northeast': [\n",
    "        'Connecticut', 'Maine', 'Massachusetts', 'New Hampshire', 'Rhode Island', 'Vermont',\n",
    "        'New Jersey', 'New York', 'Pennsylvania'\n",
    "    ],\n",
    "    'Midwest': [\n",
    "        'Illinois', 'Indiana', 'Michigan', 'Ohio', 'Wisconsin',\n",
    "        'Iowa', 'Kansas', 'Minnesota', 'Missouri', 'Nebraska', 'North Dakota', 'South Dakota'\n",
    "    ],\n",
    "    'Southeast': [\n",
    "        'Delaware', 'Florida', 'Georgia', 'Maryland', 'North Carolina', 'South Carolina', 'Virginia',\n",
    "        'West Virginia', 'Alabama', 'Kentucky', 'Mississippi', 'Tennessee', 'Arkansas', 'Louisiana'\n",
    "    ],\n",
    "    'Southwest': [\n",
    "        'Arizona', 'New Mexico', 'Oklahoma', 'Texas'\n",
    "    ],\n",
    "    'West': [\n",
    "        'Alaska', 'California', 'Colorado', 'Hawaii', 'Idaho', 'Montana', 'Nevada',\n",
    "        'Oregon', 'Utah', 'Washington', 'Wyoming'\n",
    "    ]\n",
    "}"
   ]
  },
  {
   "cell_type": "code",
   "execution_count": 82,
   "metadata": {},
   "outputs": [],
   "source": [
    "def map_region(state):\n",
    "    for region, states in region_mapping.items():\n",
    "        if state in states:\n",
    "            return region\n",
    "    return 'Unknown'"
   ]
  },
  {
   "cell_type": "code",
   "execution_count": 84,
   "metadata": {},
   "outputs": [
    {
     "data": {
      "text/plain": [
       "Southeast    152\n",
       "West         114\n",
       "Midwest      100\n",
       "Northeast     86\n",
       "Southwest     48\n",
       "Name: HQ_LOCATION__C, dtype: int64"
      ]
     },
     "execution_count": 84,
     "metadata": {},
     "output_type": "execute_result"
    }
   ],
   "source": [
    "account['HQ_LOCATION__C'].apply(map_region).value_counts()"
   ]
  },
  {
   "cell_type": "code",
   "execution_count": null,
   "metadata": {},
   "outputs": [],
   "source": []
  }
 ],
 "metadata": {
  "kernelspec": {
   "display_name": "Python 3.10.4 64-bit",
   "language": "python",
   "name": "python3"
  },
  "language_info": {
   "codemirror_mode": {
    "name": "ipython",
    "version": 3
   },
   "file_extension": ".py",
   "mimetype": "text/x-python",
   "name": "python",
   "nbconvert_exporter": "python",
   "pygments_lexer": "ipython3",
   "version": "3.10.4"
  },
  "orig_nbformat": 4,
  "vscode": {
   "interpreter": {
    "hash": "916dbcbb3f70747c44a77c7bcd40155683ae19c65e1c03b4aa3499c5328201f1"
   }
  }
 },
 "nbformat": 4,
 "nbformat_minor": 2
}
